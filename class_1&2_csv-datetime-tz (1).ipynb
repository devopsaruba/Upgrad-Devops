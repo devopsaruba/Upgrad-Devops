{
 "cells": [
  {
   "cell_type": "raw",
   "metadata": {},
   "source": []
  },
  {
   "cell_type": "code",
   "execution_count": null,
   "metadata": {},
   "outputs": [],
   "source": [
    "from datetime import datetime\n",
    "print (datetime.now())\n",
    "print (datetime.now().date())\n",
    "print (datetime.now().time())\n",
    "print (datetime.now().hour)\n",
    "print (datetime.now().microsecond)"
   ]
  },
  {
   "cell_type": "markdown",
   "metadata": {},
   "source": [
    "# Date time to EPOCH"
   ]
  },
  {
   "cell_type": "code",
   "execution_count": 2,
   "metadata": {},
   "outputs": [
    {
     "name": "stdout",
     "output_type": "stream",
     "text": [
      "DATETIME:Sat Jul  2 12:54:59 2022\n",
      "EPOCH TIME: 1656746699.40807\n"
     ]
    }
   ],
   "source": [
    "from datetime import datetime\n",
    "date_now = datetime.now()\n",
    "epoch = date_now.timestamp()##timestamp gives EPOCH time value \n",
    "print (f\"DATETIME:{date_now.strftime('%c')}\")\n",
    "print (f\"EPOCH TIME: {epoch}\")"
   ]
  },
  {
   "cell_type": "markdown",
   "metadata": {},
   "source": [
    "# Epoch to Datetime"
   ]
  },
  {
   "cell_type": "code",
   "execution_count": 3,
   "metadata": {},
   "outputs": [
    {
     "data": {
      "text/plain": [
       "'Sat Jul  2 12:54:59 2022'"
      ]
     },
     "execution_count": 3,
     "metadata": {},
     "output_type": "execute_result"
    }
   ],
   "source": [
    "from datetime import datetime\n",
    "datetime.fromtimestamp(float(epoch)).strftime('%c') #from timestamp has epocbh"
   ]
  },
  {
   "cell_type": "markdown",
   "metadata": {},
   "source": [
    "# date time print in format"
   ]
  },
  {
   "cell_type": "code",
   "execution_count": 4,
   "metadata": {},
   "outputs": [
    {
     "name": "stdout",
     "output_type": "stream",
     "text": [
      "DATE&TIME         :2022-07-02 12:54:59.426623\n",
      "FORMATTED DATIME  : 22-07-02\n",
      "FORMATED DATETIME : 22-07-02 12-54-1656746699\n"
     ]
    }
   ],
   "source": [
    "current = datetime.now()\n",
    "print (f'DATE&TIME         :{current}')\n",
    "print (f\"FORMATTED DATIME  : {current.strftime('%y-%m-%d')}\")\n",
    "print (f\"FORMATED DATETIME : {current.strftime('%y-%m-%d %H-%M-%s')}\")"
   ]
  },
  {
   "cell_type": "code",
   "execution_count": 5,
   "metadata": {},
   "outputs": [
    {
     "name": "stdout",
     "output_type": "stream",
     "text": [
      "\n",
      "Example 1: Saturday 7 2022\n",
      "\n",
      "Example 3: 12 PM 59\n",
      "\n",
      "Example 4: 12:54:59\n",
      "\n",
      "Example 4: 12:54:59\n"
     ]
    }
   ],
   "source": [
    "s = current.strftime(\"%A %-m %-Y\")\n",
    "print('\\nExample 1:', s)\n",
    "s = current.strftime(\"%-I %p %S\")\n",
    "print('\\nExample 3:', s)\n",
    "s = current.strftime(\"%H:%M:%S\")\n",
    "print('\\nExample 4:', s)\n",
    "s = current.strftime(\"%H:%M:%S\")\n",
    "print('\\nExample 4:', s)"
   ]
  },
  {
   "cell_type": "markdown",
   "metadata": {},
   "source": [
    "# time delta"
   ]
  },
  {
   "cell_type": "code",
   "execution_count": 6,
   "metadata": {},
   "outputs": [
    {
     "name": "stdout",
     "output_type": "stream",
     "text": [
      "TODAY    :2022-07-02 12:54:59.441464\n",
      "AFTERYEAR:2023-07-02 12:54:59.441464\n"
     ]
    }
   ],
   "source": [
    "from datetime import datetime,timedelta\n",
    "today=datetime.today()\n",
    "afteryear=today+timedelta(days=365)\n",
    "print (f\"TODAY    :{today}\")\n",
    "print (f\"AFTERYEAR:{afteryear}\") "
   ]
  },
  {
   "cell_type": "code",
   "execution_count": 7,
   "metadata": {},
   "outputs": [
    {
     "name": "stdout",
     "output_type": "stream",
     "text": [
      "2022-07-02 12:54:59.447908\n",
      "2022-07-02 12:54:59.448119\n"
     ]
    }
   ],
   "source": [
    "print (datetime.now())\n",
    "print (datetime.today())##both are same OP's"
   ]
  },
  {
   "cell_type": "markdown",
   "metadata": {},
   "source": [
    "# time zones"
   ]
  },
  {
   "cell_type": "code",
   "execution_count": 8,
   "metadata": {},
   "outputs": [],
   "source": [
    "from datetime import datetime,timedelta,timezone\n",
    "from pytz import timezone"
   ]
  },
  {
   "cell_type": "code",
   "execution_count": 9,
   "metadata": {},
   "outputs": [
    {
     "name": "stdout",
     "output_type": "stream",
     "text": [
      "2022-07-02 07-24-59 UTC+0000\n",
      "Asia/Kolkata TIME      :2022-07-02 12-54-59 IST+0530\n",
      "Europe/Kiev TIME      :2022-07-02 10-24-59 EEST+0300\n",
      "America/New_york TIME      :2022-07-02 03-24-59 EDT-0400\n"
     ]
    }
   ],
   "source": [
    "format = '%Y-%m-%d %H-%M-%S %Z%z'\n",
    "now_utc = datetime.now(timezone('UTC'))\n",
    "print (now_utc.strftime(format))\n",
    "timezones = ['Asia/Kolkata','Europe/Kiev','America/New_york']\n",
    "\n",
    "for zones in timezones:\n",
    "    zone_time = now_utc.astimezone(timezone(zones))\n",
    "    print (f\"{zones} TIME      :{zone_time.strftime(format)}\")\n",
    "    "
   ]
  },
  {
   "cell_type": "markdown",
   "metadata": {},
   "source": [
    "# Time zone data based on user input"
   ]
  },
  {
   "cell_type": "code",
   "execution_count": null,
   "metadata": {},
   "outputs": [],
   "source": [
    "from datetime import datetime,timezone\n",
    "from pytz import timezone\n",
    "def timezone_func(zone):\n",
    "    format = ('%Y-%M-%D %H-%M-%s %Z%z')\n",
    "    utc_now = datetime.now(timezone('UTC'))\n",
    "    zone_time = utc_now.astimezone(timezone(zone))\n",
    "    return zone_time.strftime(format)\n",
    "zone = input('Enter timezone interested: EX:{Asia/Kolkata,Europe/Kiev,America/New_york}')\n",
    "OP=timezone_func(zone)\n",
    "print (OP)\n",
    "    "
   ]
  },
  {
   "cell_type": "code",
   "execution_count": null,
   "metadata": {},
   "outputs": [],
   "source": [
    "class TZ_CLASS():\n",
    "    def __init__(self,zone):\n",
    "        self.zone = zone\n",
    "    def timezone_func_1(self):\n",
    "        self.format = ('%Y-%M-%D %H-%M-%s %Z%z')\n",
    "        self.utc_now = datetime.now(timezone('UTC'))\n",
    "        self.zone_time = self.utc_now.astimezone(timezone(self.zone))\n",
    "        return self.zone_time.strftime(format)"
   ]
  },
  {
   "cell_type": "code",
   "execution_count": null,
   "metadata": {},
   "outputs": [],
   "source": [
    "a=TZ_CLASS('Asia/Kolkata')\n",
    "a.timezone_func_1()"
   ]
  },
  {
   "cell_type": "markdown",
   "metadata": {},
   "source": [
    "# CSV READ"
   ]
  },
  {
   "cell_type": "code",
   "execution_count": null,
   "metadata": {},
   "outputs": [],
   "source": [
    "import csv\n",
    "fields= []\n",
    "rows = []\n",
    "with open('python-csvc-datetime-subpropcess/test_csv.csv','r') as csvreader:  # opening csv file\n",
    "    csv_read = csv.reader(csvreader)  # creating csv reader object\n",
    "    fields = next(csv_read)\n",
    "    \n",
    "    for row in csvreader:\n",
    "        rows.append(row)\n",
    "print (fields)\n",
    "print (rows)\n",
    "    "
   ]
  },
  {
   "cell_type": "markdown",
   "metadata": {},
   "source": [
    "# CSV WRITE"
   ]
  },
  {
   "cell_type": "code",
   "execution_count": null,
   "metadata": {},
   "outputs": [],
   "source": [
    "import csv\n",
    "fields = ['Name', 'Branch', 'Year', 'CGPA']\n",
    "  \n",
    "# data rows of csv file\n",
    "rows = [ ['Nikhil', 'COE', '2', '9.0'],\n",
    "         ['Sanchit', 'COE', '2', '9.1'],\n",
    "         ['Aditya', 'IT', '2', '9.3'],\n",
    "         ['Sagar', 'SE', '1', '9.5'],\n",
    "         ['Prateek', 'MCE', '3', '7.8'],\n",
    "         ['Sahil', 'EP', '2', '9.1']]\n",
    "\n",
    "with open('python-csvc-datetime-subpropcess/test_csv_write.csv','w') as csv_write:\n",
    "    csvwriter = csv.writer(csv_write) #Creating a csv write object\n",
    "    csvwriter.writerow(fields)\n",
    "    \n",
    "    csvwriter.writerows(rows)\n",
    "    "
   ]
  },
  {
   "cell_type": "markdown",
   "metadata": {},
   "source": [
    "# CSV DICT WRITER"
   ]
  },
  {
   "cell_type": "code",
   "execution_count": null,
   "metadata": {},
   "outputs": [],
   "source": [
    "import csv \n",
    "\n",
    "# my data rows as dictionary objects\n",
    "mydict =[{'branch': 'COE', 'cgpa': '9.0', 'name': 'Nikhil', 'year': '2'},\n",
    "         {'branch': 'COE', 'cgpa': '9.1', 'name': 'Sanchit', 'year': '2'},\n",
    "         {'branch': 'IT', 'cgpa': '9.3', 'name': 'Aditya', 'year': '2'},\n",
    "         {'branch': 'SE', 'cgpa': '9.5', 'name': 'Sagar', 'year': '1'},\n",
    "         {'branch': 'MCE', 'cgpa': '7.8', 'name': 'Prateek', 'year': '3'},\n",
    "         {'branch': 'EP', 'cgpa': '9.1', 'name': 'Sahil', 'year': '2'}]\n",
    "  \n",
    "# field names\n",
    "fields = ['name', 'branch', 'year', 'cgpa']\n",
    "  \n",
    "# name of csv file\n",
    "filename = \"python-csvc-datetime-subpropcess//results_dict_csv.csv\"\n",
    "  \n",
    "# writing to csv file\n",
    "with open(filename, 'w') as csvfile:\n",
    "    # creating a csv dict writer object\n",
    "    writer = csv.DictWriter(csvfile, fieldnames = fields)\n",
    "      \n",
    "    # writing headers (field names)\n",
    "    writer.writeheader()\n",
    "      \n",
    "    # writing data rows\n",
    "    writer.writerows(mydict)"
   ]
  },
  {
   "cell_type": "markdown",
   "metadata": {},
   "source": [
    "# subprocess to run in the system like programs or ls -la"
   ]
  },
  {
   "cell_type": "code",
   "execution_count": null,
   "metadata": {},
   "outputs": [],
   "source": [
    "import subprocess\n",
    "op = subprocess.run('ls -la',shell=True,text=True,capture_output=True)\n",
    "print (op)\n",
    "if op.returncode == 0:\n",
    "    print ('\\nprocess has run succesfully\\n')\n",
    "else:\n",
    "    print ('ISSUE')"
   ]
  },
  {
   "cell_type": "code",
   "execution_count": null,
   "metadata": {},
   "outputs": [],
   "source": [
    "import subprocess\n",
    "\n",
    "program = 'gits'\n",
    "\n",
    "process = subprocess.run(['which', program], capture_output=True, text=True)\n",
    "\n",
    "if process.returncode == 0: \n",
    "    print(f'The program \"{program}\" is installed')\n",
    "\n",
    "    print(f'The location of the binary is: {process.stdout}')\n",
    "else:\n",
    "    print(f'Sorry the {program} is not installed')\n",
    "\n",
    "    print(process.stderr)"
   ]
  },
  {
   "cell_type": "code",
   "execution_count": null,
   "metadata": {},
   "outputs": [],
   "source": [
    "import sys\n",
    "for i in sys.stdin.readline():\n",
    "    if i == 'q':\n",
    "        break\n",
    "    print (i)\n",
    "print ('END')"
   ]
  },
  {
   "cell_type": "code",
   "execution_count": null,
   "metadata": {},
   "outputs": [],
   "source": [
    "import os\n",
    "os.getlogin()"
   ]
  },
  {
   "cell_type": "code",
   "execution_count": null,
   "metadata": {},
   "outputs": [],
   "source": [
    "import os\n",
    "fd = \"pythonFile.txt\"\n",
    "#os.rename(fd,'newFile.txt')\n",
    "#os.rename(fd,'newFile.txt')"
   ]
  },
  {
   "cell_type": "code",
   "execution_count": null,
   "metadata": {},
   "outputs": [],
   "source": [
    "os.rename(fd,'newFile.txt')"
   ]
  },
  {
   "cell_type": "code",
   "execution_count": null,
   "metadata": {},
   "outputs": [],
   "source": [
    "import subprocess\n",
    "subprocess.run('ls -lt',shell=True,capture_output=True,check=True)##Checks the OP"
   ]
  },
  {
   "cell_type": "code",
   "execution_count": null,
   "metadata": {},
   "outputs": [],
   "source": [
    "subprocess.run(['ls', '-lt','/dev/null'],shell=True,capture_output=True)"
   ]
  },
  {
   "cell_type": "code",
   "execution_count": null,
   "metadata": {},
   "outputs": [],
   "source": [
    "process = subprocess.Popen(['ls','-lt'],stdout=subprocess.PIPE)\n",
    "process"
   ]
  },
  {
   "cell_type": "code",
   "execution_count": null,
   "metadata": {},
   "outputs": [],
   "source": [
    "process.communicate()[0]"
   ]
  },
  {
   "cell_type": "code",
   "execution_count": null,
   "metadata": {},
   "outputs": [],
   "source": [
    "subprocess.run([sys.executable,'-c',\"print ('Python')\"])"
   ]
  },
  {
   "cell_type": "code",
   "execution_count": null,
   "metadata": {},
   "outputs": [],
   "source": [
    "process = subprocess.Popen(['ls', '-la'],stdout=subprocess.PIPE)\n",
    "process.communicate()"
   ]
  },
  {
   "cell_type": "code",
   "execution_count": null,
   "metadata": {},
   "outputs": [],
   "source": [
    "OP = subprocess.run([sys.executable,'-c',\"echo PYTHON('Program')\"])\n",
    "OP"
   ]
  },
  {
   "cell_type": "code",
   "execution_count": null,
   "metadata": {},
   "outputs": [],
   "source": [
    "print ('OUTPUT_ERROR:',OP.stderr)"
   ]
  },
  {
   "cell_type": "code",
   "execution_count": null,
   "metadata": {},
   "outputs": [],
   "source": [
    "print ('OUTPUT:',OP.stdout)"
   ]
  },
  {
   "cell_type": "code",
   "execution_count": null,
   "metadata": {},
   "outputs": [],
   "source": [
    "subprocess.run(['ls -lt'],shell=True)"
   ]
  },
  {
   "cell_type": "code",
   "execution_count": null,
   "metadata": {},
   "outputs": [],
   "source": [
    "process = subprocess.Popen(['ls','-la'],stdout=subprocess.PIPE)"
   ]
  },
  {
   "cell_type": "code",
   "execution_count": null,
   "metadata": {},
   "outputs": [],
   "source": [
    "process.communicate()[0]"
   ]
  },
  {
   "cell_type": "code",
   "execution_count": null,
   "metadata": {},
   "outputs": [],
   "source": [
    "#text = True captures the stderror\n",
    "op = subprocess.run([sys.executable,'-c',\"raise Exception('This is an exception')\"],capture_output=True,text=True)"
   ]
  },
  {
   "cell_type": "code",
   "execution_count": null,
   "metadata": {},
   "outputs": [],
   "source": [
    "op.stderr"
   ]
  },
  {
   "cell_type": "code",
   "execution_count": null,
   "metadata": {},
   "outputs": [],
   "source": [
    "#timeout in 1 seconds \n",
    "op1 = subprocess.run([sys.executable,'c',\"import time;time.sleep(5)\"],timeout=1)"
   ]
  },
  {
   "cell_type": "code",
   "execution_count": null,
   "metadata": {},
   "outputs": [],
   "source": [
    "op1"
   ]
  },
  {
   "cell_type": "code",
   "execution_count": null,
   "metadata": {},
   "outputs": [],
   "source": [
    "process = subprocess.Popen(['ls','-l'],stdout=subprocess.PIPE)"
   ]
  },
  {
   "cell_type": "code",
   "execution_count": null,
   "metadata": {},
   "outputs": [],
   "source": [
    "stdout = process.communicate()[0]"
   ]
  },
  {
   "cell_type": "code",
   "execution_count": null,
   "metadata": {},
   "outputs": [],
   "source": [
    "print (\"OP:{}\".format(stdout))"
   ]
  },
  {
   "cell_type": "code",
   "execution_count": null,
   "metadata": {},
   "outputs": [],
   "source": [
    "# To pass argument using INPUT method\n",
    "# U can send input in byte code . So dont use text=True\n",
    "op = subprocess.run([sys.executable,'-c',\"import sys;print(sys.stdin.read())\"],input=b'SUMAN',capture_output=True)\n",
    "#If text=True is used cannot send byte code option"
   ]
  },
  {
   "cell_type": "code",
   "execution_count": null,
   "metadata": {},
   "outputs": [],
   "source": [
    "op.stdout"
   ]
  },
  {
   "cell_type": "markdown",
   "metadata": {},
   "source": [
    "# date time"
   ]
  },
  {
   "cell_type": "code",
   "execution_count": null,
   "metadata": {},
   "outputs": [],
   "source": [
    "import datetime"
   ]
  },
  {
   "cell_type": "code",
   "execution_count": null,
   "metadata": {},
   "outputs": [],
   "source": [
    "from datetime import timedelta"
   ]
  },
  {
   "cell_type": "code",
   "execution_count": null,
   "metadata": {},
   "outputs": [],
   "source": [
    "datetime.datetime.now()"
   ]
  },
  {
   "cell_type": "code",
   "execution_count": null,
   "metadata": {},
   "outputs": [],
   "source": [
    "datetime.date.today()"
   ]
  },
  {
   "cell_type": "code",
   "execution_count": null,
   "metadata": {},
   "outputs": [],
   "source": [
    "date1 = timedelta(weeks=2,hours=10,days=10,seconds=90)\n",
    "date2= timedelta(days=10,hours=5,seconds=20)\n",
    "date3 = date1-date2"
   ]
  },
  {
   "cell_type": "code",
   "execution_count": null,
   "metadata": {},
   "outputs": [],
   "source": [
    "date3"
   ]
  },
  {
   "cell_type": "code",
   "execution_count": null,
   "metadata": {},
   "outputs": [],
   "source": [
    "#days and time in seconds\n",
    "print ('Seconds:',date3.total_seconds())"
   ]
  },
  {
   "cell_type": "markdown",
   "metadata": {},
   "source": [
    "# epoch time"
   ]
  },
  {
   "cell_type": "code",
   "execution_count": null,
   "metadata": {},
   "outputs": [],
   "source": [
    "from datetime import datetime\n",
    "now_time = datetime.today()\n",
    "now_time.timestamp()"
   ]
  },
  {
   "cell_type": "code",
   "execution_count": null,
   "metadata": {},
   "outputs": [],
   "source": [
    "epoch = now_time.strftime('%s')  # Another way\n",
    "epoch"
   ]
  },
  {
   "cell_type": "code",
   "execution_count": null,
   "metadata": {},
   "outputs": [],
   "source": [
    "datetime.fromtimestamp(float(epoch)).strftime('%c')"
   ]
  },
  {
   "cell_type": "code",
   "execution_count": null,
   "metadata": {},
   "outputs": [],
   "source": [
    "datetime.now().strftime('%A %-H %-M')"
   ]
  },
  {
   "cell_type": "markdown",
   "metadata": {},
   "source": [
    "# Time Zones"
   ]
  },
  {
   "cell_type": "code",
   "execution_count": null,
   "metadata": {},
   "outputs": [],
   "source": [
    "from datetime import datetime\n",
    "import pytz\n",
    "format = '%Y-%M-%D %H-%M-%s'\n",
    "current_time = datetime.now()\n",
    "print ('Current TIME: ',current_time.strftime(format))\n",
    "\n",
    "america_timezone = pytz.timezone('America/New_york')\n",
    "america_time = datetime.now(america_timezone) \n",
    "print ('America TIME: ',america_time.strftime(format))"
   ]
  },
  {
   "cell_type": "code",
   "execution_count": null,
   "metadata": {},
   "outputs": [],
   "source": [
    "from datetime import datetime\n",
    "import pytz\n",
    "format = '%Y-%M-%D %H-%M-%s'\n",
    "current_time = datetime.today()\n",
    "print ('Currnt Date:',current_time.strftime('%c'))\n",
    "\n",
    "india_timezone = pytz.timezone('Europe/London')\n",
    "datetime.now(india_timezone).strftime('%c')"
   ]
  },
  {
   "cell_type": "markdown",
   "metadata": {},
   "source": [
    "# CSV(Comma Seperated Values) "
   ]
  },
  {
   "cell_type": "code",
   "execution_count": null,
   "metadata": {},
   "outputs": [],
   "source": [
    "#WRITE CSV\n",
    "import csv\n",
    "with open('new_csv.csv','w',newline='') as file:\n",
    "    writer = csv.writer(file)\n",
    "    writer.writerow(['field1','field2','field3'])\n",
    "    writer.writerow(['val1','val2','val3'])"
   ]
  },
  {
   "cell_type": "code",
   "execution_count": null,
   "metadata": {},
   "outputs": [],
   "source": [
    "# READ CSV\n",
    "with open('new_csv.csv','r') as file:\n",
    "    reader = csv.reader(file)\n",
    "    \n",
    "    for row in reader:\n",
    "        print (row)"
   ]
  },
  {
   "cell_type": "markdown",
   "metadata": {},
   "source": [
    "# RANDOM"
   ]
  },
  {
   "cell_type": "code",
   "execution_count": null,
   "metadata": {},
   "outputs": [],
   "source": [
    "import random"
   ]
  },
  {
   "cell_type": "code",
   "execution_count": null,
   "metadata": {},
   "outputs": [],
   "source": [
    "random.random()"
   ]
  },
  {
   "cell_type": "code",
   "execution_count": null,
   "metadata": {},
   "outputs": [],
   "source": [
    "random.randint(1,10)"
   ]
  },
  {
   "cell_type": "code",
   "execution_count": null,
   "metadata": {},
   "outputs": [],
   "source": [
    "a=[1,2,3,4,5]\n",
    "random.choice(a)"
   ]
  },
  {
   "cell_type": "code",
   "execution_count": null,
   "metadata": {},
   "outputs": [],
   "source": [
    "random.shuffle(a)\n",
    "a"
   ]
  },
  {
   "cell_type": "code",
   "execution_count": null,
   "metadata": {},
   "outputs": [],
   "source": [
    "import datetime\n",
    "d=datetime.date(2020,12,25)\n",
    "print(d)"
   ]
  },
  {
   "cell_type": "code",
   "execution_count": null,
   "metadata": {},
   "outputs": [],
   "source": [
    "import datetime\n",
    "timestamp1= datetime.datetime.now()\n",
    "timestamp2= datetime.datetime.now()\n",
    "print(timestamp1)\n",
    "print(timestamp2)"
   ]
  },
  {
   "cell_type": "code",
   "execution_count": null,
   "metadata": {},
   "outputs": [],
   "source": [
    "string= \"India,Australia,New Zealand,England,Pakistan\"\n",
    "temp = string.split(\",\", 2)\n",
    "print(temp)"
   ]
  },
  {
   "cell_type": "code",
   "execution_count": null,
   "metadata": {},
   "outputs": [],
   "source": [
    "import datetime\n",
    "timestamp1= datetime.datetime.now()\n",
    "timestamp2 = timestamp1+ datetime.timedelta(0,5)\n",
    "print (timestamp1)\n",
    "\n",
    "print (timestamp2)"
   ]
  },
  {
   "cell_type": "markdown",
   "metadata": {},
   "source": [
    "# Q1"
   ]
  },
  {
   "cell_type": "markdown",
   "metadata": {},
   "source": [
    "Present date and time :  2021-01-09 02:16:24.720615\n",
    "\n",
    "Present year:  2021\n",
    "\n",
    "Present month :  January\n",
    "\n",
    "Enter the No of days: 50\n",
    "\n",
    "Date after x number of days: 2021-02-28 02:16:28.163210"
   ]
  },
  {
   "cell_type": "code",
   "execution_count": null,
   "metadata": {},
   "outputs": [],
   "source": [
    "from datetime import datetime,timedelta\n",
    "def datetime_fun(days):\n",
    "    current_date = datetime.today()\n",
    "    print ('Present date and time : {}'.format(current_date))\n",
    "    present_year = datetime.now().year\n",
    "    print (f'Present year: {present_year}')\n",
    "    present_month = datetime.now().strftime('%B')\n",
    "    print (f'Present year: {present_month}')\n",
    "    today= datetime.today()\n",
    "    x_day = today+timedelta(days)\n",
    "    print (f'Date after x number of days:{x_day}')\n",
    "datetime_fun(50)"
   ]
  },
  {
   "cell_type": "markdown",
   "metadata": {},
   "source": [
    "# Q2\n",
    "Given a string containing the names of countries separated by commas. Split the string and store country names in the outputCSVFile.csv file.\n",
    "\n",
    "countries = \"India,Australia,Africa,USA,Canada\""
   ]
  },
  {
   "cell_type": "code",
   "execution_count": null,
   "metadata": {},
   "outputs": [],
   "source": [
    "import csv\n",
    "countries = \"India,Australia,Africa,USA,Canada\"\n",
    "countries = countries.split(',')\n",
    "countries\n",
    "with open('countriies_csv.csv','w',newline='') as file:\n",
    "    writer = csv.writer(file)\n",
    "    writer.writerow(countries)\n",
    "with open('countriies_csv.csv','r') as file:\n",
    "    reader = csv.reader(file)\n",
    "    \n",
    "    for row in reader:\n",
    "        print (row)"
   ]
  },
  {
   "cell_type": "code",
   "execution_count": null,
   "metadata": {},
   "outputs": [],
   "source": [
    "countries = \"India,Australia,Africa,USA,Canada\"\n",
    "tempList = countries.split(\", \")\n",
    " \n",
    "temp = open(\"outputCSVFile.csv\",\"w\")\n",
    "temp.writelines(tempList)\n",
    "temp.close()"
   ]
  },
  {
   "cell_type": "code",
   "execution_count": null,
   "metadata": {},
   "outputs": [],
   "source": [
    "x=5\n",
    "try:\n",
    "    print (x)\n",
    "except:\n",
    "    print ('Exception error occured')\n",
    "finally:\n",
    "    print ('FINALLY BLOCK')"
   ]
  },
  {
   "cell_type": "code",
   "execution_count": null,
   "metadata": {},
   "outputs": [],
   "source": [
    "try:\n",
    "    salary=int(input('Enter your income: '))\n",
    "except:\n",
    "    print ('Error!!! Please enter a valid data.')\n",
    "else:\n",
    "    if salary<= 10000:\n",
    "        print('You are eligible for this benefit.')\n",
    "    else:\n",
    "        print('You are not eligible for this benefit.')\n",
    " "
   ]
  },
  {
   "cell_type": "markdown",
   "metadata": {},
   "source": [
    "# Q\n",
    "A pizza centre announced a sale for its customers. Every customer will get a five-digit Unique Id. If the sum of digits of the unique ID is equal to 25, customers will get free takeaways.\n",
    "\n",
    "\n",
    "Write a python program to accept five-digit Unique Id and checks if he/she is eligible for free takeaway.\n",
    "Also, a \"Happy Holidays\" greeting should be displayed to all the customers.\n",
    "\n",
    "Example:\n",
    "\n",
    "1. Let's say the customer feeds 76741 as five-digit Unique Id. Since the sum of digits is 25, the output will be-\n",
    "\n",
    "Enter a number: 76741\n",
    "Congratulations, You win free takeaways\n",
    "Thankyou for shopping with us,Happy Holidays :)\n",
    "2.Let's say the customer feeds 76748 as five-digit Unique Id. Since the sum of digits is not 25, the output will be-\n",
    "\n",
    "Enter a number: 76748\n",
    "Better luck next time\n",
    "Thankyou for shopping with us,Happy Holidays :)\n",
    " "
   ]
  },
  {
   "cell_type": "code",
   "execution_count": null,
   "metadata": {},
   "outputs": [],
   "source": [
    "number = input('Enter a number:')\n",
    "pizza_shop(number)\n",
    "def pizza_shop(number):\n",
    "    sum = 0\n",
    "    for i in str(number):\n",
    "        sum += int(i)\n",
    "    if sum == 25:\n",
    "        print ('Congratulations, You win free takeaways')\n",
    "        print ('Thankyou for shopping with us,Happy Holidays :)')\n",
    "    else:\n",
    "        print ('Better luck next time')\n",
    "        print ('Thankyou for shopping with us,Happy Holidays :)')\n",
    "    #return (sum)"
   ]
  },
  {
   "cell_type": "code",
   "execution_count": null,
   "metadata": {},
   "outputs": [],
   "source": [
    "# Upgrade Answer\n",
    "def getSum(n):  \n",
    "    sum = 0\n",
    "    for digit in str(n):   \n",
    "      sum += int(digit)        \n",
    "    return sum\n",
    "    \n",
    "try:\n",
    "    num = int(input(\"Enter a number: \"))\n",
    "    if (getSum(num) == 25):\n",
    "        print(\"Congratulations, You win free takeaways\")\n",
    "    else:\n",
    "        print(\"Better luck next time\")\n",
    "except:\n",
    "    print(\"Error: Please enter Unique Id correctly\")\n",
    "finally:\n",
    "    print(\"Thankyou for shopping with us,Happy Holidays :)\")"
   ]
  },
  {
   "cell_type": "markdown",
   "metadata": {},
   "source": [
    "# Q\n",
    "Create a text file named \"file_json.json\"  and write given JSON data to that file.\n",
    "\n",
    "{\n",
    "'name': 'Learner 1',\n",
    "'experience': 'beginner',\n",
    "'contact' : [ {\n",
    "'email': 'xyz@gmail.com',\n",
    "'from': 'Maharashtra'}], \n",
    "'number':'43098090909'\n",
    "}"
   ]
  },
  {
   "cell_type": "code",
   "execution_count": null,
   "metadata": {},
   "outputs": [],
   "source": [
    "import json\n",
    "dict_data = { 'name': 'Learner 1', 'experience': 'beginner', 'contact' : [ { 'email': 'xyz@gmail.com', 'from': 'Maharashtra'}], 'number':'43098090909' }\n",
    "\n",
    "\n",
    "json_obj = json.dumps(dict_data)\n",
    "\n",
    "with open('json.txt','w') as file:\n",
    "    file.write(json_obj)\n",
    "\n",
    "\n",
    "\n"
   ]
  },
  {
   "cell_type": "code",
   "execution_count": null,
   "metadata": {},
   "outputs": [],
   "source": [
    "#Upgrade Program\n",
    "import json\n",
    " \n",
    "dictionary ={\n",
    "'name': 'Learner 1',\n",
    "'experience': 'beginner',\n",
    "'contact' : [ {\n",
    "'email': 'xyz@gmail.com',\n",
    "'from': 'Maharashtra'}], \n",
    "'number':'43098090909'\n",
    "}\n",
    "object = json.dumps(dictionary, indent = 2)\n",
    "with open(\"file_json.json\", \"w\") as outfile:\n",
    "    outfile.write(object )"
   ]
  },
  {
   "cell_type": "markdown",
   "metadata": {},
   "source": [
    "#Q\n",
    "Requests module\n",
    "Write a Python code to send a request to an authenticated web page, and print the response text and content.\n",
    "\n",
    "Note- If you don't know any authenticated web page, write a dummy code."
   ]
  },
  {
   "cell_type": "code",
   "execution_count": null,
   "metadata": {},
   "outputs": [],
   "source": [
    "import requests\n",
    "res = requests.get('https://www.google.com/')\n",
    "print(\"Response text of https://google.com/:\")\n",
    "print(res.text)\n",
    "print(\"\\n==============================================================================\")\n",
    "print(\"\\nContent of the said url:\")\n",
    "print(res.content)\n",
    "print(\"\\n==============================================================================\")\n",
    "print(\"\\nRaw data of the said url:\")\n",
    "r = requests.get('https://api.github.com/events', stream = True)\n",
    "print(r.raw)\n",
    "print(r.raw.read(15))"
   ]
  },
  {
   "cell_type": "code",
   "execution_count": null,
   "metadata": {},
   "outputs": [],
   "source": [
    "#Upgrade OP\n",
    "import requests\n",
    "from requests.auth import HTTPBasicAuth\n",
    "res = requests.get('https://gmail.com/mail',auth = HTTPBasicAuth('user', 'pass')) \n",
    " \n",
    "#replace URL with the URL of the authenticated web page whose response text you want to see\n",
    " \n",
    "#Replace user with your user ID and pass with your login password\n",
    " \n",
    "print(\"Response text of the web page is :\")\n",
    "print(res.text)\n",
    " \n",
    "print(\"\\nContent of the url:\")\n",
    "print(res.content)\n"
   ]
  },
  {
   "cell_type": "code",
   "execution_count": null,
   "metadata": {},
   "outputs": [],
   "source": [
    "import re\n",
    "string ='hello world hello'\n",
    "pattern = re.compile('hello')\n",
    "op=pattern.match(string=string)\n",
    "print (op)"
   ]
  },
  {
   "cell_type": "code",
   "execution_count": null,
   "metadata": {},
   "outputs": [],
   "source": [
    "import re\n",
    "string ='hello world hello'\n",
    "pattern = re.compile('hello')\n",
    "op=pattern.search(string=string)\n",
    "print (op)"
   ]
  },
  {
   "cell_type": "markdown",
   "metadata": {},
   "source": [
    "# Practice Questions"
   ]
  },
  {
   "cell_type": "markdown",
   "metadata": {},
   "source": [
    "# Q1\n",
    "Write code to take a string as input and trim all the vowels from starting and end of the string."
   ]
  },
  {
   "cell_type": "code",
   "execution_count": null,
   "metadata": {},
   "outputs": [],
   "source": [
    "string = input()\n",
    "n_lst = []\n",
    "for i in string:\n",
    "    if i in 'aeiou':\n",
    "        continue\n",
    "    else:\n",
    "        n_lst.append(i)\n",
    "n_string = ''.join(n_lst)\n",
    "print (f'Vowels Removed String:{n_string}')"
   ]
  },
  {
   "cell_type": "code",
   "execution_count": null,
   "metadata": {},
   "outputs": [],
   "source": [
    "def trim_operation(input_string):\n",
    "    n_lst = []\n",
    "    for i in input_string:\n",
    "        if i in 'aeiou':\n",
    "            continue\n",
    "        else:\n",
    "            n_lst.append(i)\n",
    "    n_string = ''.join(n_lst)\n",
    "    return n_string\n",
    "if __name__ == '__main__':\n",
    "    input_string = str(input())\n",
    "    result = trim_operation(input_string)\n",
    "    print(result)"
   ]
  },
  {
   "cell_type": "markdown",
   "metadata": {},
   "source": [
    "#Q2:\n",
    "Problem Statement\n",
    "\n",
    "Write code to take a string as input. For Example \"python\" and create a list with adding 0 to 4 at the end of the integer For Example [\"python0\", \"python1\", \"python2\", \"python3\", \"python4\"]. Finally use join to join this list with \"->\" as a separator and print the string. For Example \"python0->python1->python2->python3->python4\"\n"
   ]
  },
  {
   "cell_type": "code",
   "execution_count": null,
   "metadata": {},
   "outputs": [],
   "source": [
    "def split_operation(input_string):\n",
    "    n_lst = []\n",
    "    n1_lst = []\n",
    "    for j in list(range(5)):\n",
    "        n_lst = []\n",
    "        for i in input_string:\n",
    "            n_lst.append(i)\n",
    "        n_lst.extend(str(j))\n",
    "        n1_lst.append(n_lst)\n",
    "    n_result = []\n",
    "    for i in n1_lst:\n",
    "        result = ''.join(i)\n",
    "        n_result.append(result)\n",
    "    #print (n_result)\n",
    "    final_result = '->'.join(n_result)\n",
    "    return final_result\n",
    "    \n",
    "    \n",
    "    \n",
    "if __name__ == '__main__':\n",
    "    input_string = str(input())\n",
    "    result = split_operation(input_string)\n",
    "    print (result)"
   ]
  },
  {
   "cell_type": "code",
   "execution_count": null,
   "metadata": {},
   "outputs": [],
   "source": [
    "#upgrad using concatination method\n",
    "#!/usr/local/bin/python3\n",
    "\n",
    "import csv\n",
    "\n",
    "def join_operation(input_string):\n",
    "    a = []\n",
    "    for i in range(0,5):\n",
    "        data = input_string + str(i)\n",
    "        a.append(data)\n",
    "    return(\"->\".join(a))\n",
    "\n",
    "if __name__ == '__main__':\n",
    "    input_string = str(input())\n",
    "\n",
    "    result = join_operation(input_string)\n",
    "\n",
    "    print(result)"
   ]
  },
  {
   "cell_type": "code",
   "execution_count": null,
   "metadata": {},
   "outputs": [],
   "source": [
    "import os\n",
    "\n",
    "string = input()\n",
    "try:\n",
    "    writefile = os.open('filename.txt',os.O_WRONLY|os.O_CREAT)\n",
    "    string = string.encode('UTF-8')\n",
    "    os.write(writefile,string)\n",
    "except Exception as e:\n",
    "    print (str(e))\n",
    "finally:\n",
    "    os.close(writefile)\n",
    "\n",
    "try:\n",
    "    readfile = os.open('filename.txt',os.O_RDONLY)\n",
    "    os.read(readfile,100)\n",
    "except Exception as e:\n",
    "    print (str(e))\n",
    "finally:\n",
    "    os.close(readfile)\n",
    "    \n",
    "    "
   ]
  },
  {
   "cell_type": "code",
   "execution_count": null,
   "metadata": {},
   "outputs": [],
   "source": [
    "import os\n",
    "input_string = input()\n",
    "def file_read_write(input_string):\n",
    "    # Write your code here\n",
    "    try:\n",
    "        writefile = os.open('filename.txt',os.O_WRONLY|os.O_CREAT)\n",
    "        string = string.encode('UTF-8')\n",
    "        os.write(writefile,string)\n",
    "    except Exception as e:\n",
    "        print (str(e))\n",
    "    finally:\n",
    "        os.close(writefile)\n",
    "\n",
    "    try:\n",
    "        readfile = os.open('filename.txt',os.O_RDONLY)\n",
    "        result = os.read(readfile,100)\n",
    "        result=result.decode('UTF-8')\n",
    "    except Exception as e:\n",
    "        print (str(e))\n",
    "    finally:\n",
    "        os.close(readfile)\n",
    "    return result\n",
    "file_read_write(input_string)"
   ]
  },
  {
   "cell_type": "code",
   "execution_count": null,
   "metadata": {},
   "outputs": [],
   "source": [
    "import os\n",
    "def file_read_write(input_string):\n",
    "    # Write your code here\n",
    "    try:\n",
    "        writefile = os.open('filename.txt',os.O_WRONLY|os.O_CREAT)\n",
    "        string = input_string.encode('UTF-8')\n",
    "        os.write(writefile,string)\n",
    "    except Exception as e:\n",
    "        print (str(e))\n",
    "    finally:\n",
    "        os.close(writefile)\n",
    "    try:\n",
    "        readfile = os.open('filename.txt',os.O_RDONLY)\n",
    "        result = os.read(readfile,100)\n",
    "        result= result.decode('UTF-8')\n",
    "    except Exception as e:\n",
    "        print (str(e))\n",
    "    finally:\n",
    "        os.close(readfile)\n",
    "    return result\n",
    "\n",
    "input_string = input()\n",
    "file_read_write(input_string)"
   ]
  },
  {
   "cell_type": "code",
   "execution_count": null,
   "metadata": {},
   "outputs": [],
   "source": [
    "#upgrad\n",
    "#!/usr/local/bin/python3\n",
    "\n",
    "import os\n",
    "\n",
    "def file_read_write(input_string):\n",
    "    file = open(\"filename.txt\", 'w')\n",
    "    file.write(input_string)\n",
    "    file.close()\n",
    "\n",
    "    file = open(\"filename.txt\", 'r')\n",
    "    text = file.read()\n",
    "    file.close()\n",
    "    return text\n",
    "\n",
    "\n",
    "\n",
    "if __name__ == '__main__':\n",
    "    input_string = input()\n",
    "\n",
    "    result = file_read_write(input_string)\n",
    "\n",
    "    print(result)"
   ]
  },
  {
   "cell_type": "markdown",
   "metadata": {},
   "source": [
    "#Q\n",
    "user takes input as an integer i.e 6 and creates a list starting with the integer till +5 i.e. ['6', '7', '8', '9', '10', '11']. Write this list in a CSV file and then read that CSV file an d print output."
   ]
  },
  {
   "cell_type": "code",
   "execution_count": null,
   "metadata": {},
   "outputs": [],
   "source": [
    "import csv\n",
    "def csv_operation(input_epoc):\n",
    "    lst = []\n",
    "    for i in range(input_epoc,input_epoc+6):\n",
    "        lst.append(i)\n",
    "    try:\n",
    "        with open('temp_csv.csv','w') as csv_file:\n",
    "            csv_write = csv.writer(csv_file)\n",
    "            csv_write.writerow(lst)\n",
    "    except Exception as e:\n",
    "        print (str(e))\n",
    "    finally:\n",
    "        with open('temp_csv.csv','r') as csv_file:\n",
    "            csv_read = csv.reader(csv_file)\n",
    "            op = next(csv_read)\n",
    "            return op\n",
    "            \n",
    "        \n",
    "\n",
    "\n",
    "input_epoc=int(input())\n",
    "csv_operation(input_epoc)"
   ]
  },
  {
   "cell_type": "code",
   "execution_count": null,
   "metadata": {},
   "outputs": [],
   "source": [
    "import os \n",
    "\n",
    "def directory_operations(parent_directory):\n",
    "    try:\n",
    "        parent_dir = parent_directory\n",
    "        print (parent_dir)\n",
    "        child_dir = parent_dir+'_child'\n",
    "    \n",
    "        new_dir = os.path.join(parent_dir,child_dir) \n",
    "    \n",
    "        os.mkdir(new_dir)\n",
    "    \n",
    "        os.chdir(new_dir)\n",
    "        new_path = os.getcwd()\n",
    "        print(new_path)\n",
    "        filename = child_dir+'.txt'\n",
    "        with open(filename,'w') as f:\n",
    "            return os.listdir()\n",
    "    \n",
    "    except Exception as e:\n",
    "        print ('Error Occured as:',e)\n",
    "    \n",
    "if __name__ == \"__main__\":\n",
    "    dir_name = input()\n",
    "    result = directory_operations(dir_name)\n",
    "    print (result)"
   ]
  },
  {
   "cell_type": "code",
   "execution_count": null,
   "metadata": {},
   "outputs": [],
   "source": [
    "import os \n",
    "\n",
    "def directory_operations(parent_directory):\n",
    "    try:\n",
    "        parent_dir = parent_directory\n",
    "        print ('PARENT_DIR:',parent_dir)\n",
    "        child_dir = parent_dir+'_child'\n",
    "        print ('CHILD_DIR:',child_dir)\n",
    "        \n",
    "        current_path = os.getcwd()\n",
    "        print ('CURRENT_PATH:',current_path)\n",
    "        os.mkdir(parent_dir)\n",
    "        parent_path = os.path.join(current_path,parent_dir) \n",
    "        os.chdir(parent_path)\n",
    "        print ('CURRENT_PC_PATH:',parent_path)\n",
    "        os.mkdir(child_dir)\n",
    "        child_file = child_dir+'.txt'\n",
    "        with open(child_file,'w') as f:\n",
    "            pass\n",
    "        \n",
    "        return os.listdir()\n",
    "    \n",
    "    except Exception as e:\n",
    "        print ('Error Occured as:',e)\n",
    "    \n",
    "if __name__ == \"__main__\":\n",
    "    dir_name = input()\n",
    "    result = directory_operations(dir_name)\n",
    "    print (result)"
   ]
  },
  {
   "cell_type": "code",
   "execution_count": null,
   "metadata": {},
   "outputs": [],
   "source": [
    "# Upgrad OP\n",
    "usr/local/bin/python3\n",
    "\n",
    "import os\n",
    "\n",
    "def directory_operations(parent_directory):\n",
    "    child_directory = parent_directory + \"_child\"\n",
    "    text_file = child_directory + \".txt\"\n",
    "    lookback = \"../\" + parent_directory\n",
    "    os.mkdir(parent_directory)\n",
    "    os.chdir(parent_directory)\n",
    "    os.mkdir(child_directory)\n",
    "    with open(text_file, 'w') as file_name:\n",
    "        pass\n",
    "    list_of_dir = os.listdir(lookback)\n",
    "    return list_of_dir\n",
    "\n",
    "\n",
    "if __name__ == '__main__':\n",
    "    parent_directory = input()\n",
    "    result = directory_operations(parent_directory)\n",
    "\n",
    "    print(result)"
   ]
  },
  {
   "cell_type": "code",
   "execution_count": null,
   "metadata": {},
   "outputs": [],
   "source": [
    "os.chdir('/Users/samarthi/jobs')"
   ]
  },
  {
   "cell_type": "code",
   "execution_count": null,
   "metadata": {},
   "outputs": [],
   "source": [
    "os.listdir()"
   ]
  },
  {
   "cell_type": "markdown",
   "metadata": {},
   "source": [
    "# REGEXP"
   ]
  },
  {
   "cell_type": "code",
   "execution_count": null,
   "metadata": {},
   "outputs": [],
   "source": [
    "import re\n",
    "\n",
    "string = \"Hello Worldians!! Welcome to Python Course Session 3\" \n",
    "\n",
    "## Find a specific word \n",
    "pattern = re.compile('Hello')\n",
    "match = pattern.match(string=string)\n",
    "print (match)\n",
    "\n",
    "## Find if the string starts with a specific word \n",
    "pattern = re.compile('^Hello')\n",
    "match = pattern.search(string=string)\n",
    "print (match)\n",
    "\n",
    "## Find if the string starts with a Upper Case Letter\n",
    "pattern = re.compile('^[A-Z]')\n",
    "match = pattern.search(string=string)\n",
    "print (match)\n",
    "\n",
    "## Find if the string ends with a specific word \n",
    "pattern = re.compile('3$')\n",
    "match = pattern.search(string=string)\n",
    "print (match)\n",
    "\n",
    "## Find if the string ends with a number\n",
    "pattern = re.compile('\\d$')\n",
    "match = pattern.search(string=string)\n",
    "match\n",
    "           \n",
    "## Split a string using regular expressions \n",
    "pattern = re.compile('[^a-zA-Z0-9]')####This expression correspionds to special characters\n",
    "splits = pattern.split(string=string)\n",
    "print(splits)\n",
    "\n",
    "## Find and replace using regex\n",
    "pattern = re.compile('[^a-zA-Z0-9\\s]')\n",
    "string_d = pattern.sub(string=string,repl='*')#####Replacing all special chars and non space with *\n",
    "print (string_d)\n",
    "\n",
    "## Regex groups \n",
    "pattern = re.compile('[^a-zA-Z0-9]+')\n",
    "groups = pattern.findall(string=string)\n",
    "print (groups)"
   ]
  },
  {
   "cell_type": "markdown",
   "metadata": {},
   "source": [
    "# JSON"
   ]
  },
  {
   "cell_type": "code",
   "execution_count": null,
   "metadata": {},
   "outputs": [],
   "source": [
    "import json,os\n",
    "jsonString = '{ \"id\": \"5c8a1d5b0190b214360dc097\", \"course\": \"Python Session 1\",\"Date\": \"18/12/2021\"}' \n",
    "\n",
    "course = json.loads(jsonString) #Converting json string into DICT\n",
    "print (course)\n",
    "print (type(course))\n",
    "\n",
    "print('ID:',course['id'])\n",
    "print ('COURSE',course['course'])\n",
    "print ('DATE:',course['Date'])\n",
    "\n",
    "os.getcwd()\n",
    "#WRITE JSON-->DUMP\n",
    "f = open('json/course.json','w')\n",
    "json.dump(course,f)\n",
    "f.close()\n",
    "\n",
    "#READ JSON-->LOAD\n",
    "f = open('json/course.json','r')\n",
    "course_1 = json.load(f)\n",
    "print(course_1)\n",
    "f.close()\n",
    "\n",
    "###KEYS\n",
    "for keys in course:\n",
    "    print (keys,end='\\n')\n",
    "print ('\\n')\n",
    "##Values\n",
    "for value in course.values():\n",
    "    print (value)\n",
    "print ('\\n')\n",
    "##ITEMS\n",
    "for key,value in course.items():\n",
    "    print (key,':',value)\n",
    "\n",
    "# READING json list file\n",
    "f = open('json/courses.json','r')\n",
    "courses = json.load(f)\n",
    "f.close()\n",
    "#print (courses)\n",
    "for c in courses:\n",
    "    print (c)\n",
    "    print (type(c))\n",
    "    \n",
    "f = open('json/courses_w.json','w')\n",
    "json.dump(courses,f)\n",
    "f.close()\n",
    "\n",
    "\n",
    "\n",
    "f = open('json/courses_w.json','r')\n",
    "courses = json.load(f)\n",
    "print (courses)"
   ]
  },
  {
   "cell_type": "markdown",
   "metadata": {},
   "source": [
    "# HTTP REQUESTS"
   ]
  },
  {
   "cell_type": "code",
   "execution_count": null,
   "metadata": {},
   "outputs": [],
   "source": [
    "import requests\n",
    "\n",
    "# JUST URL RESP\n",
    "g_url = 'http://www.google.com'\n",
    "resp = requests.get(g_url)\n",
    "print ('RESP_CONTENT:',resp.content)\n",
    "\n",
    "#parameter request\n",
    "parameter= {\"q\":'python','a':'b'}\n",
    "p_url = 'http://www.google.com/search'\n",
    "resp = requests.get(p_url,params = parameter)\n",
    "#print ('RESP_TEXT:',resp.text)\n",
    "\n",
    "##POST\n",
    "po_url = 'https://httpbin.org/post'\n",
    "json_data = {'username':'suman','password':'Aruba@123'}\n",
    "\n",
    "resp = requests.post(po_url,data=json_data,headers={'accept':'application/json'})\n",
    "#resp.text\n",
    "\n",
    "\n",
    "## Cookies and Sessions \n",
    "# http_url = \"https://httpbin.org/cookies\" \n",
    "# ssn = requests.Session()\n",
    "# ssn.cookies.update({'visit-month': 'December'})\n",
    " \n",
    "# resOne = ssn.get(http_url)\n",
    "# print(resOne.text)\n",
    "# # prints information about \"visit-month\" cookie\n",
    " \n",
    "# resTwo = ssn.get(http_url, cookies={'visit-year': '2021'})\n",
    "# print(resTwo.text)\n",
    "# # prints information about \"visit-month\" and \"visit-year\" cookie\n",
    " \n",
    "# resThree = ssn.get(http_url)\n",
    "# print(resThree.text)"
   ]
  },
  {
   "cell_type": "markdown",
   "metadata": {},
   "source": [
    "# Exception"
   ]
  },
  {
   "cell_type": "code",
   "execution_count": null,
   "metadata": {},
   "outputs": [],
   "source": [
    "# ZeroDivisionError\n",
    "# a = 10/0 \n",
    "# print(a) \n",
    "\n",
    "# Handling ZeroDivisionError\n",
    "# try: \n",
    "#     a = 10/0\n",
    "#     print(a)\n",
    "# except ZeroDivisionError: \n",
    "#     print(\"An error Ocurred\") \n",
    "\n",
    "# Handling NameError \n",
    "try: \n",
    "    b=2\n",
    "    a = 10/b\n",
    "    print(a)\n",
    "except ZeroDivisionError: \n",
    "    print(\"Division by zero\") \n",
    "except NameError: \n",
    "    print(\"Element Not found\") \n",
    "else: #####This block will hit if any exceptions are not hit\n",
    "    print(\"Executed Happily\") \n",
    "finally: \n",
    "    print(\"Ending the division\") \n",
    "\n",
    "# ## Raising an exception \n",
    "#try: \n",
    "#    raise NameError(\"Raising a NameError\")\n",
    "#except Exception as e:\n",
    "#    print(str(e)) "
   ]
  },
  {
   "cell_type": "markdown",
   "metadata": {},
   "source": [
    "# grep AWK and SED"
   ]
  },
  {
   "cell_type": "markdown",
   "metadata": {},
   "source": [
    "# Frequency of WORD occurences\n",
    "[root@Nagios-Ansible-Srv home]# cat words.txt \n",
    "the day is sunny the the\n",
    "the sunny is is\n",
    "[root@Nagios-Ansible-Srv home]# sed -r 's/\\s+/\\n/g' words.txt | grep -v \"^$\" | sort | uniq -c | sort -r | awk '{print $2\" \"$1}'\n",
    "the 4\n",
    "is 3\n",
    "sunny 2\n",
    "day 1\n",
    "[root@Nagios-Ansible-Srv home]# grep -o -E '\\w+' words.txt  | sort | uniq -c | awk '{print $2\" \"$1 }'\n",
    "day 1\n",
    "is 3\n",
    "sunny 2\n",
    "the 4\n"
   ]
  },
  {
   "cell_type": "markdown",
   "metadata": {},
   "source": [
    "[root@Nagios-Ansible-Srv home]# grep -o -E '\\w+' words.txt  | sort | uniq -c | awk '{print $2\" \"$1 }'\n",
    "day 1\n",
    "is 3\n",
    "sunny 2\n",
    "the 4\n",
    "[root@Nagios-Ansible-Srv home]# sed -r 's/\\s+/\\n/g' words.txt | grep -v \"^$\" | sort | uniq -c | sort -r | awk '{print $2\" \"$1}'\n",
    "the 4\n",
    "is 3\n",
    "sunny 2\n",
    "day 1\n",
    "[root@Nagios-Ansible-Srv home]# cat words.txt \n",
    "the day is sunny the the\n",
    "the sunny is is\n",
    "[root@Nagios-Ansible-Srv home]# sed -r 's/\\s+/\\n/g' words.txt | grep -v \"^$\" | sort | uniq -c | sort -r | awk '{print $2\" \"$1}'\n",
    "the 4\n",
    "is 3\n",
    "sunny 2\n",
    "day 1\n",
    "[root@Nagios-Ansible-Srv home]# grep -o -E '\\w+' words.txt  | sort | uniq -c | awk '{print $2\" \"$1 }'\n",
    "day 1\n",
    "is 3\n",
    "sunny 2\n",
    "the 4\n",
    "[root@Nagios-Ansible-Srv home]# grep -i 'sunny' words.txt \n",
    "the day is sunny the the\n",
    "the sunny is is\n",
    "[root@Nagios-Ansible-Srv home]# grep -c 'sunny' words.txt \n",
    "2\n",
    "[root@Nagios-Ansible-Srv home]# grep -E 'sunny' words.txt \n",
    "the day is sunny the the\n",
    "the sunny is is\n",
    "[root@Nagios-Ansible-Srv home]# grep -E '\\w+' words.txt \n",
    "the day is sunny the the\n",
    "the sunny is is\n",
    "[root@Nagios-Ansible-Srv home]# find /home/suman/ -name a.py\n",
    "/home/suman/Longevities/python-scripts/Rolling_Upgrade/a.py\n",
    "/home/suman/python-scripts/workspace/jankine_try/a.py\n",
    "/home/suman/python-scripts/a.py\n",
    "[root@Nagios-Ansible-Srv home]# find /home/suman/ -name *.py\n"
   ]
  },
  {
   "cell_type": "markdown",
   "metadata": {},
   "source": [
    "[root@Nagios-Ansible-Srv home]# grep -o -E '\\w+' words.txt | uniq -c\n",
    "      1 the\n",
    "      1 day\n",
    "      1 is\n",
    "      1 sunny\n",
    "      3 the\n",
    "      1 sunny\n",
    "      2 is\n",
    "[root@Nagios-Ansible-Srv home]# grep -o -E '\\w+' words.txt | sort| uniq -c\n",
    "      1 day\n",
    "      3 is\n",
    "      2 sunny\n",
    "      4 the\n",
    "[root@Nagios-Ansible-Srv home]# grep -o -E '\\w+' words.txt | sort | uniq -c\n",
    "      1 day\n",
    "      3 is\n",
    "      2 sunny\n",
    "      4 the\n",
    "[root@Nagios-Ansible-Srv home]# \n",
    "[root@Nagios-Ansible-Srv home]# echo -e 'This is suman'\n",
    "This is suman\n",
    "[root@Nagios-Ansible-Srv home]# echo -e 'This \\bis \\bsuman'\n",
    "Thisissuman\n",
    "[root@Nagios-Ansible-Srv home]# echo -e 'This \\nis \\nsuman'\n",
    "This \n",
    "is \n",
    "suman\n",
    "[root@Nagios-Ansible-Srv home]# echo -e 'This \\tis \\tsuman'\n",
    "This \tis \tsuman\n",
    "[root@Nagios-Ansible-Srv home]# touch ABC\n",
    "[root@Nagios-Ansible-Srv home]# ls -l ABC\n",
    "-rw-r--r--. 1 root root 0 Jun 22 20:40 ABC\n",
    "[root@Nagios-Ansible-Srv home]# chmod u=r ABC\n",
    "[root@Nagios-Ansible-Srv home]# ls -l ABC\n",
    "-r--r--r--. 1 root root 0 Jun 22 20:40 ABC\n",
    "[root@Nagios-Ansible-Srv home]# chmod g=w ABC\n",
    "[root@Nagios-Ansible-Srv home]# ls -l ABC\n",
    "-r---w-r--. 1 root root 0 Jun 22 20:40 ABC\n",
    "[root@Nagios-Ansible-Srv home]# chmod o=w ABC\n",
    "[root@Nagios-Ansible-Srv home]# ls -l ABC\n",
    "-r---w--w-. 1 root root 0 Jun 22 20:40 ABC\n",
    "[root@Nagios-Ansible-Srv home]# chmod u=w ABC\n",
    "[root@Nagios-Ansible-Srv home]# ls -l ABC\n",
    "--w--w--w-. 1 root root 0 Jun 22 20:40 ABC\n",
    "[root@Nagios-Ansible-Srv home]# chmod u=rw,go=r ABC \n",
    "[root@Nagios-Ansible-Srv home]# ls -l ABC\n",
    "-rw-r--r--. 1 root root 0 Jun 22 20:40 ABC\n"
   ]
  },
  {
   "cell_type": "markdown",
   "metadata": {},
   "source": [
    "[root@Nagios-Ansible-Srv home]# awk '/sunny/{print }' words.txt \n",
    "the day is sunny the the\n",
    "the sunny is is\n",
    "[root@Nagios-Ansible-Srv home]# awk '/sunny/{print $1}' words.txt \n",
    "the\n",
    "the\n",
    "[root@Nagios-Ansible-Srv home]# awk '/sunny/{print $2}' words.txt \n",
    "day\n",
    "sunny\n",
    "[root@Nagios-Ansible-Srv home]# awk '/sunny/{print $1 $2}' words.txt \n",
    "theday\n",
    "thesunny\n",
    "[root@Nagios-Ansible-Srv home]# awk '/sunny/{print $1 \" \"$2}' words.txt \n",
    "the day\n",
    "the sunny\n",
    "[root@Nagios-Ansible-Srv home]# awk '/sunny/{print $1 \" \"$2 \" \" $4}' words.txt \n",
    "the day sunny\n",
    "the sunny is\n"
   ]
  },
  {
   "cell_type": "markdown",
   "metadata": {},
   "source": [
    "# CHMOD"
   ]
  },
  {
   "cell_type": "markdown",
   "metadata": {},
   "source": [
    "[root@Nagios-Ansible-Srv ~]# chmod 777 A1\n",
    "[root@Nagios-Ansible-Srv ~]# ls -l A1\n",
    "-rwxrwxrwx. 1 root root 14 Jun 22 19:12 A1\n",
    "[root@Nagios-Ansible-Srv ~]# chmod u-r A1\n",
    "[root@Nagios-Ansible-Srv ~]# ls -l A1\n",
    "--wxrwxrwx. 1 root root 14 Jun 22 19:12 A1\n",
    "[root@Nagios-Ansible-Srv ~]# chmod u-w A1\n",
    "[root@Nagios-Ansible-Srv ~]# ls -l A1\n",
    "---xrwxrwx. 1 root root 14 Jun 22 19:12 A1\n",
    "[root@Nagios-Ansible-Srv ~]# chmod u-x A1\n",
    "[root@Nagios-Ansible-Srv ~]# ls -l A1\n",
    "----rwxrwx. 1 root root 14 Jun 22 19:12 A1\n",
    "[root@Nagios-Ansible-Srv ~]# chmod o-r A1\n",
    "[root@Nagios-Ansible-Srv ~]# ls -l A1\n",
    "----rwx-wx. 1 root root 14 Jun 22 19:12 A1\n",
    "[root@Nagios-Ansible-Srv ~]# chmod o-w A1\n",
    "[root@Nagios-Ansible-Srv ~]# ls -l A1\n",
    "----rwx--x. 1 root root 14 Jun 22 19:12 A1\n",
    "[root@Nagios-Ansible-Srv ~]# chmod o-x A1\n",
    "[root@Nagios-Ansible-Srv ~]# ls -l A1\n",
    "----rwx---. 1 root root 14 Jun 22 19:12 A1\n",
    "[root@Nagios-Ansible-Srv ~]# chmod g-g A1\n",
    "[root@Nagios-Ansible-Srv ~]# ls -l A1\n",
    "----------. 1 root root 14 Jun 22 19:12 A1"
   ]
  },
  {
   "cell_type": "markdown",
   "metadata": {},
   "source": [
    "# chmod --reference=old.txt new.txt\n",
    "to copy file permission from one file to another. "
   ]
  },
  {
   "cell_type": "markdown",
   "metadata": {},
   "source": [
    "# You are given  a file called myFile.txt. Write a command which gives read, write and execute permission to the file’s owner, read permissions to the file’s group and no permissions to all other users. \n",
    "[root@Nagios-Ansible-Srv ~]# chmod u=rwx,go=r,o= A1\n",
    "[root@Nagios-Ansible-Srv ~]# ls -l A1\n",
    "-rwxr-----. 1 root root 14 Jun 22 19:12 A1\n"
   ]
  },
  {
   "cell_type": "markdown",
   "metadata": {},
   "source": [
    "# CURL"
   ]
  },
  {
   "cell_type": "code",
   "execution_count": null,
   "metadata": {},
   "outputs": [],
   "source": [
    "# curl <URL>###########Only response\n",
    "(base) administrators-MacBook-Pro-2:~ samarthi$ curl http://google.com\n",
    "<HTML><HEAD><meta http-equiv=\"content-type\" content=\"text/html;charset=utf-8\">\n",
    "<TITLE>301 Moved</TITLE></HEAD><BODY>\n",
    "<H1>301 Moved</H1>\n",
    "The document has moved\n",
    "<A HREF=\"http://www.google.com/\">here</A>.\n",
    "</BODY></HTML>\n",
    "\n",
    "#curl -i <URL>#########Header and Response\n",
    "(base) administrators-MacBook-Pro-2:~ samarthi$ curl -i http://google.com\n",
    "HTTP/1.1 301 Moved Permanently\n",
    "Location: http://www.google.com/\n",
    "Content-Type: text/html; charset=UTF-8\n",
    "Date: Sun, 26 Jun 2022 03:45:51 GMT\n",
    "Expires: Tue, 26 Jul 2022 03:45:51 GMT\n",
    "Cache-Control: public, max-age=2592000\n",
    "Server: gws\n",
    "Content-Length: 219\n",
    "X-XSS-Protection: 0\n",
    "X-Frame-Options: SAMEORIGIN\n",
    "\n",
    "<HTML><HEAD><meta http-equiv=\"content-type\" content=\"text/html;charset=utf-8\">\n",
    "<TITLE>301 Moved</TITLE></HEAD><BODY>\n",
    "<H1>301 Moved</H1>\n",
    "The document has moved\n",
    "<A HREF=\"http://www.google.com/\">here</A>.\n",
    "</BODY></HTML>\n",
    "\n",
    "#curl -I <URL>############Only Header\n",
    "(base) administrators-MacBook-Pro-2:~ samarthi$ curl -I http://google.com\n",
    "HTTP/1.1 301 Moved Permanently\n",
    "Location: http://www.google.com/\n",
    "Content-Type: text/html; charset=UTF-8\n",
    "Date: Sun, 26 Jun 2022 03:49:02 GMT\n",
    "Expires: Tue, 26 Jul 2022 03:49:02 GMT\n",
    "Cache-Control: public, max-age=2592000\n",
    "Server: gws\n",
    "Content-Length: 219\n",
    "X-XSS-Protection: 0\n",
    "X-Frame-Options: SAMEORIGIN\n",
    "    \n",
    "#curl --head <URL>############Only Header\n",
    "(base) administrators-MacBook-Pro-2:~ samarthi$ curl --head  http://google.com\n",
    "HTTP/1.1 301 Moved Permanently\n",
    "Location: http://www.google.com/\n",
    "Content-Type: text/html; charset=UTF-8\n",
    "Date: Sun, 26 Jun 2022 03:50:12 GMT\n",
    "Expires: Tue, 26 Jul 2022 03:50:12 GMT\n",
    "Cache-Control: public, max-age=2592000\n",
    "Server: gws\n",
    "Content-Length: 219\n",
    "X-XSS-Protection: 0\n",
    "X-Frame-Options: SAMEORIGIN\n",
    "    \n",
    "#curl -o <filename> <URL>######output to a file\n",
    "(base) administrators-MacBook-Pro-2:~ samarthi$ curl -o abc http://google.com\n",
    "  % Total    % Received % Xferd  Average Speed   Time    Time     Time  Current\n",
    "                                 Dload  Upload   Total   Spent    Left  Speed\n",
    "100   219  100   219    0     0   3369      0 --:--:-- --:--:-- --:--:--  3421\n",
    "(base) administrators-MacBook-Pro-2:~ samarthi$ cat abc \n",
    "<HTML><HEAD><meta http-equiv=\"content-type\" content=\"text/html;charset=utf-8\">\n",
    "<TITLE>301 Moved</TITLE></HEAD><BODY>\n",
    "<H1>301 Moved</H1>\n",
    "The document has moved\n",
    "<A HREF=\"http://www.google.com/\">here</A>.\n",
    "</BODY></HTML>\n",
    "-head\n",
    "\n",
    "#curl -i -X POST \"Accept:application/json\" URL -d <body>\n",
    "(base) administrators-MacBook-Pro-2:~ samarthi$ curl -i -X POST -H \"Accept: application/json\" https://reqres.in/api/users -d \"name:morpheus&job:leader\"\n",
    "HTTP/1.1 201 Created\n",
    "Date: Sun, 26 Jun 2022 04:15:35 GMT\n",
    "Content-Type: application/json; charset=utf-8\n",
    "Content-Length: 86\n",
    "Connection: keep-alive\n",
    "X-Powered-By: Express\n",
    "Access-Control-Allow-Origin: *\n",
    "Etag: W/\"56-spnILRfEGm4+evhAd6hlsteK+jo\"\n",
    "Via: 1.1 vegur\n",
    "CF-Cache-Status: DYNAMIC\n",
    "Expect-CT: max-age=604800, report-uri=\"https://report-uri.cloudflare.com/cdn-cgi/beacon/expect-ct\"\n",
    "Report-To: {\"endpoints\":[{\"url\":\"https:\\/\\/a.nel.cloudflare.com\\/report\\/v3?s=5%2B2YZj28wKgp%2FaG7BInOhyV4o3C7c4pWdQndf%2BeLOFIBM5fsJtfLeOYCSJzK6BU037%2FL3DosZnLDjpAIXj7BjJ5lwDLqq68dmkJ0OQ8LmdrmQ1gPgtw7KQ1a%2Bw%3D%3D\"}],\"group\":\"cf-nel\",\"max_age\":604800}\n",
    "NEL: {\"success_fraction\":0,\"report_to\":\"cf-nel\",\"max_age\":604800}\n",
    "Server: cloudflare\n",
    "CF-RAY: 72131f619a7f3c06-BLR\n",
    "    \n",
    "    \n",
    "#curl -X POST \"Accept:application/json\" URL -d <body>####With out -i is gives only response with out headers \n",
    "(base) administrators-MacBook-Pro-2:~ samarthi$ curl -X POST -H \"Accept: application/json\" https://reqres.in/api/users -d \"name:morpheus&job:leader\"\n",
    "{\"name:morpheus\":\"\",\"job:leader\":\"\",\"id\":\"646\",\"createdAt\":\"2022-06-26T04:19:31.999Z\"}(base) administrators-MacBook-Pro-2:~ samarthi$ \n",
    "\n",
    "\n",
    "    \n",
    "#curl -i -X PUT <URL> -d <body>#####using -i \n",
    "#curl -X PUT <URL> -d <body>######with -i\n",
    "(base) administrators-MacBook-Pro-2:~ samarthi$ curl  -X PUT https://reqres.in/api/users/2 -d \"name:suman&job:Umresident\"\n",
    "{\"name:suman\":\"\",\"job:Umresident\":\"\",\"updatedAt\":\"2022-06-26T04:24:48.745Z\"}(base) administrators-MacBook-Pro-2:~ samarthi$ \n",
    "(base) administrators-MacBook-Pro-2:~ samarthi$ curl -i -X PUT https://reqres.in/api/users/2 -d \"name:suman&job:Umresident\"\n",
    "HTTP/1.1 200 OK\n",
    "Date: Sun, 26 Jun 2022 04:24:52 GMT\n",
    "Content-Type: application/json; charset=utf-8\n",
    "Content-Length: 76\n",
    "Connection: keep-alive\n",
    "X-Powered-By: Express\n",
    "Access-Control-Allow-Origin: *\n",
    "Etag: W/\"4c-ZZhsZ16Y9GuZOLgSRAKxmSrNiNY\"\n",
    "Via: 1.1 vegur\n",
    "CF-Cache-Status: DYNAMIC\n",
    "Expect-CT: max-age=604800, report-uri=\"https://report-uri.cloudflare.com/cdn-cgi/beacon/expect-ct\"\n",
    "Report-To: {\"endpoints\":[{\"url\":\"https:\\/\\/a.nel.cloudflare.com\\/report\\/v3?s=rqZKfXmwYcEeCXe%2FR%2F4ewCCZCd6Lsof76n3T5uSHvMfSgISyMd5goDIv9UzVWQBjVp5XaRkYTIMHQX%2BI9vssk1hGePBZKi4BGvz7Rv6EQmHnAlZu1llOReCPMQ%3D%3D\"}],\"group\":\"cf-nel\",\"max_age\":604800}\n",
    "NEL: {\"success_fraction\":0,\"report_to\":\"cf-nel\",\"max_age\":604800}\n",
    "Server: cloudflare\n",
    "CF-RAY: 72132cfe498a83f5-BLR\n",
    "\n",
    "#curl -i -X DELETE <URL>  \n",
    "(base) administrators-MacBook-Pro-2:~ samarthi$ curl -i -X DELETE https://reqres.in/api/users/2\n",
    "HTTP/1.1 204 No Content\n",
    "Date: Sun, 26 Jun 2022 04:28:07 GMT\n",
    "Content-Length: 0\n",
    "Connection: keep-alive\n",
    "X-Powered-By: Express\n",
    "Access-Control-Allow-Origin: *\n",
    "Etag: W/\"2-vyGp6PvFo4RvsFtPoIWeCReyIC8\"\n",
    "Via: 1.1 vegur\n",
    "CF-Cache-Status: DYNAMIC\n",
    "Expect-CT: max-age=604800, report-uri=\"https://report-uri.cloudflare.com/cdn-cgi/beacon/expect-ct\"\n",
    "Report-To: {\"endpoints\":[{\"url\":\"https:\\/\\/a.nel.cloudflare.com\\/report\\/v3?s=Pbd1KuyKxVf7cyIAHQblR65ilX%2B9g9rtasNg2qEQ84S1WVrsqtZMSNnh6XJY4bvcg5MkG%2FaDzMUPKKBOEJ6XiEn%2BH7LOsVqTgWp%2FFZsE0VL8GYgGj6AEdWfaPA%3D%3D\"}],\"group\":\"cf-nel\",\"max_age\":604800}\n",
    "NEL: {\"success_fraction\":0,\"report_to\":\"cf-nel\",\"max_age\":604800}\n",
    "Server: cloudflare\n",
    "CF-RAY: 721331be9d3d3c07-BLR\n",
    "\n",
    "(base) administrators-MacBook-Pro-2:~ samarthi$ curl -X DELETE https://reqres.in/api/users/2\n",
    "(base) administrators-MacBook-Pro-2:~ samarthi$ \n",
    "\n",
    "\n"
   ]
  },
  {
   "cell_type": "code",
   "execution_count": null,
   "metadata": {},
   "outputs": [],
   "source": [
    "s= {\"page\":1,\"per_page\":6,\"total\":12,\"total_pages\":2,\"data\":[{\"id\":1,\"name\":\"cerulean\",\"year\":2000,\"color\":\"#98B2D1\",\"pantone_value\":\"15-4020\"},{\"id\":2,\"name\":\"fuchsia rose\",\"year\":2001,\"color\":\"#C74375\",\"pantone_value\":\"17-2031\"},{\"id\":3,\"name\":\"true red\",\"year\":2002,\"color\":\"#BF1932\",\"pantone_value\":\"19-1664\"},{\"id\":4,\"name\":\"aqua sky\",\"year\":2003,\"color\":\"#7BC4C4\",\"pantone_value\":\"14-4811\"},{\"id\":5,\"name\":\"tigerlily\",\"year\":2004,\"color\":\"#E2583E\",\"pantone_value\":\"17-1456\"},{\"id\":6,\"name\":\"blue turquoise\",\"year\":2005,\"color\":\"#53B0AE\",\"pantone_value\":\"15-5217\"}],\"support\":{\"url\":\"https://reqres.in/#support-heading\",\"text\":\"To keep ReqRes free, contributions towards server costs are appreciated!\"}}\n"
   ]
  },
  {
   "cell_type": "code",
   "execution_count": null,
   "metadata": {},
   "outputs": [],
   "source": [
    "s['content']"
   ]
  },
  {
   "cell_type": "markdown",
   "metadata": {},
   "source": [
    "# Networking Commands"
   ]
  },
  {
   "cell_type": "markdown",
   "metadata": {},
   "source": [
    "#dig\n",
    "(base) administrators-MacBook-Pro-2:Downloads samarthi$ dig google.com\n",
    "\n",
    "; <<>> DiG 9.10.6 <<>> google.com\n",
    ";; global options: +cmd\n",
    ";; Got answer:\n",
    ";; ->>HEADER<<- opcode: QUERY, status: NOERROR, id: 60711\n",
    ";; flags: qr rd ra; QUERY: 1, ANSWER: 1, AUTHORITY: 0, ADDITIONAL: 1\n",
    "\n",
    ";; OPT PSEUDOSECTION:\n",
    "; EDNS: version: 0, flags:; udp: 4000\n",
    ";; QUESTION SECTION:\n",
    ";google.com.\t\t\tIN\tA\n",
    "\n",
    ";; ANSWER SECTION:\n",
    "google.com.\t\t164\tIN\tA\t142.250.76.78\n",
    "\n",
    ";; Query time: 17 msec\n",
    ";; SERVER: 10.20.50.25#53(10.20.50.25)\n",
    ";; WHEN: Mon Jun 27 23:42:52 IST 2022\n",
    ";; MSG SIZE  rcvd: 55\n",
    "\n",
    "(base) administrators-MacBook-Pro-2:Downloads samarthi$ dig google.com +short\n",
    "142.250.76.78\n"
   ]
  },
  {
   "cell_type": "markdown",
   "metadata": {},
   "source": [
    "# at"
   ]
  },
  {
   "cell_type": "markdown",
   "metadata": {},
   "source": [
    "# execute all jobs\n",
    "at -l\n",
    "\n",
    "# From tuesdya process job every 20minutes\n",
    "at Tuesday + 20mins\n",
    "\n",
    "# Specific time and date\n",
    "at 11:50 06272022 \n",
    "\n",
    "# 2pm after 6days\n",
    "at 2pm + 6days\n",
    "\n",
    "#From now after 5hrs\n",
    "\n",
    "at now + 5 hours "
   ]
  },
  {
   "cell_type": "markdown",
   "metadata": {},
   "source": [
    "# Linux Scripting Module 3"
   ]
  },
  {
   "cell_type": "markdown",
   "metadata": {},
   "source": [
    "# Linux Commands\n",
    "#sort, uniq, whoami, lsof, cut, more, less, wc, df, top, ps, kill, nohup "
   ]
  },
  {
   "cell_type": "markdown",
   "metadata": {},
   "source": [
    "fazlur@fazlur-lin:~$ id\n",
    "uid=1000(fazlur) gid=1000(fazlur) groups=1000(fazlur),4(adm),24(cdrom),27(sudo),30(dip),46(plugdev),115(lxd)\n",
    "fazlur@fazlur-lin:~$ lsof -u fazlur | more\n",
    "COMMAND     PID   USER   FD      TYPE             DEVICE SIZE/OFF       NODE NAME\n",
    "bash        332 fazlur  cwd       DIR                8,2    12288    3014658 /home/fazlur\n",
    "bash        332 fazlur  rtd       DIR                8,2     4096          2 /\n",
    "bash        332 fazlur  txt       REG                8,2  1166912    7864802 /usr/bin/bash\n",
    "bash        332 fazlur  mem       REG                8,2    51832    7871840 /usr/lib/x86_64-linux"
   ]
  },
  {
   "cell_type": "markdown",
   "metadata": {},
   "source": [
    "fazlur@fazlur-lin:~$ cat values \n",
    "12\n",
    "13\n",
    "32\n",
    "45\n",
    "45\n",
    "67\n",
    "87\n",
    "67\n",
    "98\n",
    "76\n",
    "5\n",
    "4\n",
    "3\n",
    "3\n",
    "34\n",
    "2\n",
    "23\n",
    "65\n",
    "23\n",
    "23\n",
    "45\n",
    "45\n",
    "6\n",
    "6\n",
    "6\n",
    "612\n",
    "12\n",
    "12\n",
    "13\n",
    "13\n",
    "fazlur@fazlur-lin:~$ sort values | uniq\n",
    "12\n",
    "13\n",
    "2\n",
    "23\n",
    "3\n",
    "32\n",
    "34\n",
    "4\n",
    "45\n",
    "5\n",
    "6\n",
    "612\n",
    "65\n",
    "67\n",
    "76\n",
    "87\n",
    "98"
   ]
  },
  {
   "cell_type": "markdown",
   "metadata": {},
   "source": [
    "# cut"
   ]
  },
  {
   "cell_type": "markdown",
   "metadata": {},
   "source": [
    "fazlur@fazlur-lin:~$ cat names.txt\n",
    "suman\n",
    "bihar\n",
    "west bangal\n",
    "pata\n",
    "andhra pradesh\n",
    "goa\n",
    "india\n",
    "china\n",
    "pakala\n",
    "fazlur@fazlur-lin:~$ cut 1,2,3 names.txt \n",
    "cut: you must specify a list of bytes, characters, or fields\n",
    "Try 'cut --help' for more information.\n",
    "fazlur@fazlur-lin:~$ cut -b 1,2,3 names.txt \n",
    "sum\n",
    "bih\n",
    "wes\n",
    "pat\n",
    "and\n",
    "goa\n",
    "ind\n",
    "chi\n",
    "pak\n",
    "fazlur@fazlur-lin:~$ cut -b 1-3 names.txt \n",
    "sum\n",
    "bih\n",
    "wes\n",
    "pat\n",
    "and\n",
    "goa\n",
    "ind\n",
    "chi\n",
    "pak\n",
    "fazlur@fazlur-lin:~$ cut -b -3 names.txt \n",
    "sum\n",
    "bih\n",
    "wes\n",
    "pat\n",
    "and\n",
    "goa\n",
    "ind\n",
    "chi\n",
    "pak\n",
    "fazlur@fazlur-lin:~$ cut -b 4- names.txt\n",
    "an\n",
    "ar\n",
    "t bangal\n",
    "a\n",
    "hra pradesh\n",
    "\n",
    "ia\n",
    "na\n",
    "ala"
   ]
  },
  {
   "cell_type": "markdown",
   "metadata": {},
   "source": [
    "# uniq"
   ]
  },
  {
   "cell_type": "markdown",
   "metadata": {},
   "source": [
    "#used to delete all repeated lines in a file\n",
    "# Gives uniq case sensitive values which are uniq\n",
    "#cat names.txt | uniq\n",
    "#uniq names.txt\n",
    "\n",
    "# prints uniq names avoids repeat when -i used even theire are same but case insensitive\n",
    "#uniq -i names.txt\n",
    "\n",
    "# print only duplicates \n",
    "#uniq -d names.txt\n",
    "\n",
    "# prints after changing the chars form lower to UPPER\n",
    "fazlur@fazlur-lin:~$ cat names.txt | tr \"[a-z]\" \"[A-Z]\"\n",
    "SUMAN\n",
    "BIHAR\n",
    "WEST BANGAL\n",
    "PATA\n",
    "ANDHRA PRADESH\n",
    "GOA\n",
    "INDIA\n",
    "CHINA\n",
    "PAKALA\n",
    "SUMAN\n",
    "PAKALA\n",
    "CHINA\n",
    "INDIA\n",
    "SUMAN\n",
    "PAKALA\n",
    "SUMAN\n",
    "SUMAN\n",
    "PAKALA\n",
    "\n",
    "# tr all spaces to transform into new TAB /t\n",
    "fazlur@fazlur-lin:~$ cat names.txt | tr \"[:space:]\" \"\\t\"\n",
    "suman   bihar   west    bangal  pata    andhra  pradesh goa     india   china   pakala  suman   pakala  china   INDIA   SUMAN   PAKALA  Suman   suman   pakala\n",
    "\n",
    "\n",
    "# TR to use to delete digits and some chars\n",
    "fazlur@fazlur-lin:~$ echo \"hi suman how r u Aruba@123\"\n",
    "hi suman how r u Aruba@123\n",
    "fazlur@fazlur-lin:~$ echo \"hi suman how r u Aruba@123\" | tr -d \"[:digit:]\"\n",
    "\n",
    "hi suman how r u Aruba@\n",
    "fazlur@fazlur-lin:~$ echo \"hi suman how r u Aruba@123\" | tr -d \"Arub\"\n",
    "hi sman how   a@123\n",
    "\n",
    "#lower to UPPER using lower and upper\n",
    "\n",
    "fazlur@fazlur-lin:~$ cat myFile.txt  | tr \"[:lower:]\" \"[:upper:]\"\n",
    "COLLEGE\n"
   ]
  },
  {
   "cell_type": "markdown",
   "metadata": {},
   "source": [
    "# commands or TOOLS in LINUX\n",
    "cut: It is used for cutting sections from each line of an input file and then printing it on the standard output. \n",
    "\n",
    "uniq: It is used to delete all the repeated lines that exist in an input file. \n",
    "\n",
    "tr: It is used to translate and delete characters in a file. This translation includes changing uppercase to lowercase, deleting certain characters, finding and replacing characters and deleting repeating characters.\n",
    "\n",
    "Isof: It stands for List of Open Files. It tells you which files are opened by which process. In Linux, the pipes, sockets and directories are also considered as files. Isof gives us the list of all open files belonging to all active processes. \n",
    "\n",
    "id: It is used to find out the user ID and the group ID of any user in the server. \n",
    "\n",
    "whoami: It is used to display the username of the current logged in user on the system.\n",
    "\n",
    "more: It is used to view files in a scrollable manner. If the file is large, this command displays one screen at a time. It allows the user to scroll up and down through the file.\n",
    "\n",
    "less: It is used to display the contents of a file one page at a time. It has faster access as compared to the more command because, in case of a large file, less accesses the file page by page rather than accessing the complete file. \n",
    "\n",
    "\n",
    "wc: It is used to find out the number of lines, number of words, and character count in a file which is passed as an argument to the command. \n",
    "\n",
    "history: It gives us the list of all the previous commands that are used in the terminal session. \n",
    "\n",
    "df: It is the short form of Disk Free. It is used to show the amount of disk space that is available on file systems. It tells you about the total space and the available space on file systems.\n",
    "\n",
    "du: It is the short form of Disk Usage. It is used to find out the disk space occupied by a file or a directory. \n",
    "\n",
    "ps: It stands for Process Status. It tells you about all the processes that are currently running on the system along with their process IDs (PID). \n",
    "\n",
    "w: It is used to display who all are currently logged in on the system and their activities (their processes).\n",
    "\n",
    "top: It is used to display all the currently running processes along with the resources that all the processes are using in the system. It refreshes itself and displays the information until it is stopped.\n",
    "\n",
    "expr: It is used to perform operations like addition, subtraction, modulus (on integers), multiplication and division on the given set of expressions and then prints the output. \n",
    "\n",
    " "
   ]
  },
  {
   "cell_type": "markdown",
   "metadata": {},
   "source": [
    "# wc word count\n",
    "#lines\n",
    "fazlur@fazlur-lin:~$ wc -l names.txt \n",
    "19 names.txt\n",
    "#words\n",
    "fazlur@fazlur-lin:~$ wc -w names.txt \n",
    "20 names.txt\n",
    "#characters\n",
    "fazlur@fazlur-lin:~$ wc -m names.txt \n",
    "125 names.txt\n",
    "\n",
    "#all of wc\n",
    "fazlur@fazlur-lin:~$ wc names.txt \n",
    " 19  20 125 names.txt\n",
    "\n",
    "# Longest char in the file\n",
    "fazlur@fazlur-lin:~$ wc -L names.txt \n",
    "14 names.txt\n",
    "# bytes \n",
    "fazlur@fazlur-lin:~$ wc --b names.txt \n",
    "125 names.txt"
   ]
  },
  {
   "cell_type": "markdown",
   "metadata": {},
   "source": [
    "# expr\n",
    "fazlur@fazlur-lin:~$ expr 4 \\* 4\n",
    "16\n",
    "fazlur@fazlur-lin:~$ expr 4 \\% 4\n",
    "0\n",
    "fazlur@fazlur-lin:~$ expr length \"suman\"\n",
    "5\n",
    "fazlur@fazlur-lin:~$ expr \"suman\" : \"suuman\"\n",
    "0\n",
    "fazlur@fazlur-lin:~$ expr \"suman\" : \"suman\"\n",
    "5\n",
    "fazlur@fazlur-lin:~$ "
   ]
  },
  {
   "cell_type": "markdown",
   "metadata": {},
   "source": [
    "# TEST \n",
    "# nohup\n",
    "# dd\n",
    "(base) administrators-MacBook-Pro-2:Downloads samarthi$ test 5 -gt 3\n",
    "(base) administrators-MacBook-Pro-2:Downloads samarthi$ test 5 -gt 3 && echo \"YES\"\n",
    "YES\n",
    "(base) administrators-MacBook-Pro-2:Downloads samarthi$ test 5 -gt 3 && echo \"YES\" || echo \"NO\"\n",
    "YES\n",
    "(base) administrators-MacBook-Pro-2:Downloads samarthi$ test 5 -gt 10 && echo \"YES\" || echo \"NO\"\n",
    "NO\n",
    "(base) administrators-MacBook-Pro-2:Downloads samarthi$ nohup ping 8.8.8.8 &\n",
    "[1] 95703\n",
    "(base) administrators-MacBook-Pro-2:Downloads samarthi$ appending output to nohup.out\n",
    "\n",
    "(base) administrators-MacBook-Pro-2:Downloads samarthi$ cat nohup.out \n",
    "PING 8.8.8.8 (8.8.8.8): 56 data bytes\n",
    "64 bytes from 8.8.8.8: icmp_seq=0 ttl=57 time=25.128 ms\n",
    "64 bytes from 8.8.8.8: icmp_seq=1 ttl=57 time=25.437 ms\n",
    "64 bytes from 8.8.8.8: icmp_seq=2 ttl=57 time=28.145 ms\n",
    "64 bytes from 8.8.8.8: icmp_seq=3 ttl=57 time=26.984 ms\n",
    "64 bytes from 8.8.8.8: icmp_seq=4 ttl=57 time=34.787 ms\n",
    "64 bytes from 8.8.8.8: icmp_seq=5 ttl=57 time=32.629 ms\n",
    "(base) administrators-MacBook-Pro-2:Downloads samarthi$ fg\n",
    "nohup ping 9.9.9.9\n",
    "^C(base) administrators-MacBook-Pro-2:Downloads samarthi$ \n",
    "base) administrators-MacBook-Pro-2:Downloads samarthi$ dd if=/Users/samarthi/Downloads/Book1.xlsx of=/Users/samarthi/Downloads/suman.txt\n",
    "16+1 records in\n",
    "16+1 records out\n",
    "8354 bytes transferred in 0.001974 secs (4231789 bytes/sec)\n",
    "(base) administrators-MacBook-Pro-2:Downloads samarthi$ ls -l suman.txt \n",
    "-rw-r--r--  1 samarthi  staff  8354 Jul  2 11:50 suman.txt\n"
   ]
  },
  {
   "cell_type": "code",
   "execution_count": null,
   "metadata": {},
   "outputs": [],
   "source": [
    "import os\n",
    "os.getcwd()"
   ]
  },
  {
   "cell_type": "markdown",
   "metadata": {},
   "source": [
    "# awk"
   ]
  },
  {
   "cell_type": "code",
   "execution_count": null,
   "metadata": {},
   "outputs": [],
   "source": [
    "Linux Commands\n",
    "Find out with how many unique IPs his account was accessed. (Type your answer along with the command.)\n",
    "\n",
    "(base) administrators-MacBook-Pro-2:Downloads samarthi$ awk -F \",\" '$4==\"Abhinav\"{print $3}' logs.txt | sort | uniq\n",
    "14.1.99.255\n",
    "14.131.255.250\n",
    "14.131.255.251\n",
    "14.131.255.252\n",
    "14.131.255.253\n",
    "14.131.255.254\n",
    "14.131.255.255\n",
    "182.65.138.165\n",
    "47.29.213.79\n"
   ]
  },
  {
   "cell_type": "markdown",
   "metadata": {},
   "source": [
    "# Q2\n",
    "How many times his account was accessed using an iPad, list all those IPs in file “iPad.txt” copy the text and use bulk IP to location website to find each IP’s location. (Type your answer along with the command.)"
   ]
  },
  {
   "cell_type": "markdown",
   "metadata": {},
   "source": [
    "(base) administrators-MacBook-Pro-2:Downloads samarthi$ awk -F ',' '/Abhinav/ && /iPad/{print $3}' logs.txt \n",
    "14.131.255.255\n",
    "14.131.255.255\n",
    "14.131.255.254\n",
    "14.131.255.253\n",
    "14.131.255.252\n",
    "14.131.255.251\n",
    "14.131.255.250\n",
    "14.1.99.255\n",
    "14.1.99.255"
   ]
  },
  {
   "cell_type": "markdown",
   "metadata": {},
   "source": [
    "(base) administrators-MacBook-Pro-2:Downloads samarthi$ awk -F, '/Abhinav/&& /iPad/{print $3}' logs.txt \n",
    "14.131.255.255\n",
    "14.131.255.255\n",
    "14.131.255.254\n",
    "14.131.255.253\n",
    "14.131.255.252\n",
    "14.131.255.251\n",
    "14.131.255.250\n",
    "14.1.99.255\n",
    "14.1.99.255\n",
    "(base) administrators-MacBook-Pro-2:Downloads samarthi$ awk -F, '/Abhinav/&& /iPad/{print $3}' logs.txt  | wc\n",
    "       9       9     129\n"
   ]
  },
  {
   "cell_type": "code",
   "execution_count": null,
   "metadata": {},
   "outputs": [],
   "source": []
  }
 ],
 "metadata": {
  "kernelspec": {
   "display_name": "Python 3",
   "language": "python",
   "name": "python3"
  },
  "language_info": {
   "codemirror_mode": {
    "name": "ipython",
    "version": 3
   },
   "file_extension": ".py",
   "mimetype": "text/x-python",
   "name": "python",
   "nbconvert_exporter": "python",
   "pygments_lexer": "ipython3",
   "version": "3.8.3"
  }
 },
 "nbformat": 4,
 "nbformat_minor": 4
}
