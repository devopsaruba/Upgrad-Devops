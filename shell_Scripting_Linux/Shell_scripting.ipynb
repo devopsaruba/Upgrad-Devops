{
 "cells": [
  {
   "cell_type": "markdown",
   "metadata": {},
   "source": [
    "# Shell scripting Operators "
   ]
  },
  {
   "cell_type": "markdown",
   "metadata": {},
   "source": [
    "1. User input: read \n",
    "2. Arethmatic Operations: +/-/*///%/\n",
    "3. Relational Operators: -eq/-ne/-lt/-gt/-le/-ge/\n",
    "4. Logical operators: -a/-o\n",
    "5. File operators: -e/-b/-c/-r/-w/-x"
   ]
  },
  {
   "cell_type": "markdown",
   "metadata": {},
   "source": [
    "# User addition:"
   ]
  },
  {
   "cell_type": "markdown",
   "metadata": {},
   "source": [
    "//Creating user with home directory structure\n",
    "[root@Nagios-Ansible-Srv ~]# useradd -m -s /bin/bash testuser\n",
    "[root@Nagios-Ansible-Srv ~]# cd /home/\n",
    "ABC         ansible/    auto/       lost+found/ nagios/     suman/      testuser/   words.txt   \n",
    "\n",
    "[root@Nagios-Ansible-Srv ~]# groupadd section\n",
    "\n",
    "[root@Nagios-Ansible-Srv ~]# usermod -aG section  testuser\n",
    "\n",
    "[root@Nagios-Ansible-Srv ~]# ls -l /home/testuser/\n",
    "total 0\n",
    "\n",
    "//Removing user from the group\n",
    "[root@Nagios-Ansible-Srv ~]# sudo gpasswd -d testuser section\n",
    "Removing user testuser from group section\n",
    "\n"
   ]
  },
  {
   "cell_type": "markdown",
   "metadata": {},
   "source": [
    "#logical Link\n",
    "#ln \n",
    "[root@Nagios-Ansible-Srv ~]# ln -s ABC/ abc.txt\n",
    "\n",
    "[root@Nagios-Ansible-Srv ~]# ls -l | grep -i ABC\n",
    "drwx------.  2 root  root       4096 Jul  3 23:23 ABC\n",
    "-rwxrwxrwx.  1 root  root         11 Jun 22  2018 abc\n",
    "lrwxrwxrwx.  1 root  root          4 Jul  3 23:22 abc.txt -> ABC/\n",
    "    \n"
   ]
  },
  {
   "cell_type": "markdown",
   "metadata": {},
   "source": [
    "# Mounting\n",
    "Unmount the device:\n",
    "$sudo umount /data\n",
    "Run fsck to repair the file system:\n",
    "$sudo fsck -p /dev/xvdf\n",
    "The -p option tells fsck to automatically repair any problems that can be safely fixed without user intervention.\n",
    "Once the file system is repaired, mount the partition:\n",
    "$sudo mount /dev/xvdf /data\n"
   ]
  },
  {
   "cell_type": "markdown",
   "metadata": {},
   "source": [
    "# NFS File Sharing\n",
    "## Server side commands\n",
    "$ sudo apt install nfs-kernel-server\n",
    "$ sudo mkdir /mnt/sharedfolder/\n",
    "$ sudo vi /etc/exports\n",
    "/mnt/sharedfolder/ *(rw,sync)\n",
    "$ sudo exportfs -a\n",
    "$ sudo  /etc/init.d/nfs-kernel-server start\n",
    "\n",
    "## Clien side\n",
    "Client system\n",
    "$ sudo apt update\n",
    "$ sudo apt install nfs-common\n",
    "$ sudo mkdir -p /mnt/client_sharedfolder\n",
    "sudo mount [NFS _IP]:/[NFS_export] [Local_mountpoint]\n",
    "$ sudo mount 54.69.61.208:/mnt/sharedfolder /mnt/client_sharedfolder\n",
    "$ df -h\n",
    "$ cd /mnt/client_sharedfolder\n",
    "$ ls\n"
   ]
  },
  {
   "cell_type": "code",
   "execution_count": null,
   "metadata": {},
   "outputs": [],
   "source": []
  }
 ],
 "metadata": {
  "kernelspec": {
   "display_name": "Python 3",
   "language": "python",
   "name": "python3"
  },
  "language_info": {
   "codemirror_mode": {
    "name": "ipython",
    "version": 3
   },
   "file_extension": ".py",
   "mimetype": "text/x-python",
   "name": "python",
   "nbconvert_exporter": "python",
   "pygments_lexer": "ipython3",
   "version": "3.8.3"
  }
 },
 "nbformat": 4,
 "nbformat_minor": 4
}
