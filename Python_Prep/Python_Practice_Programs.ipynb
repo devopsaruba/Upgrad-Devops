{
 "cells": [
  {
   "cell_type": "markdown",
   "metadata": {},
   "source": [
    "# Python PRACTICE"
   ]
  },
  {
   "cell_type": "markdown",
   "metadata": {},
   "source": [
    "## 1: Find the duplicates in LIST"
   ]
  },
  {
   "cell_type": "markdown",
   "metadata": {},
   "source": [
    "### 1: Brute Force Method"
   ]
  },
  {
   "cell_type": "code",
   "execution_count": 9,
   "metadata": {},
   "outputs": [],
   "source": [
    "def lst_duplicates(X):\n",
    "    dups = []\n",
    "    ln = len(X)\n",
    "    for i in range(ln):\n",
    "        k = i + 1\n",
    "        for j in range(k,ln):\n",
    "            if X[i]==X[j] and X[i] not in dups:\n",
    "                dups.append(i)\n",
    "    return dups                "
   ]
  },
  {
   "cell_type": "code",
   "execution_count": 10,
   "metadata": {},
   "outputs": [
    {
     "data": {
      "text/plain": [
       "[1, 4, 6]"
      ]
     },
     "execution_count": 10,
     "metadata": {},
     "output_type": "execute_result"
    }
   ],
   "source": [
    "d=lst_duplicates([1,2,2,3,4,4,5,6,5])\n",
    "d"
   ]
  },
  {
   "cell_type": "markdown",
   "metadata": {},
   "source": [
    "### 2: Count Method"
   ]
  },
  {
   "cell_type": "code",
   "execution_count": 11,
   "metadata": {},
   "outputs": [],
   "source": [
    "def dups_cnt(X):\n",
    "    ln = len(X)\n",
    "    dups = []\n",
    "    for i in X:\n",
    "        if  (X.count(i) > 1 and dups.count(i) == 0):\n",
    "            dups.append(i)\n",
    "        else:\n",
    "            continue\n",
    "    return dups        \n",
    "            \n",
    "        "
   ]
  },
  {
   "cell_type": "code",
   "execution_count": 12,
   "metadata": {},
   "outputs": [
    {
     "data": {
      "text/plain": [
       "[2, 4, 5]"
      ]
     },
     "execution_count": 12,
     "metadata": {},
     "output_type": "execute_result"
    }
   ],
   "source": [
    "d=dups_cnt([1,2,2,3,4,4,5,6,5])\n",
    "d"
   ]
  },
  {
   "cell_type": "markdown",
   "metadata": {},
   "source": [
    "# Q\n",
    "Installed packages"
   ]
  },
  {
   "cell_type": "code",
   "execution_count": 13,
   "metadata": {},
   "outputs": [
    {
     "name": "stdout",
     "output_type": "stream",
     "text": [
      "\n",
      "Please wait a moment while I gather a list of all available modules...\n",
      "\n",
      "Cython              brain_fstrings      ipykernel_launcher  readline\n",
      "IPython             brain_functools     ipython_genutils    regex\n",
      "OpenGL              brain_gi            ipywidgets          reprlib\n",
      "OpenSSL             brain_hashlib       isort               requests\n",
      "PIL                 brain_http          isympy              resource\n",
      "PyQt5               brain_io            itertools           retrying\n",
      "__future__          brain_mechanize     itsdangerous        rlcompleter\n",
      "_abc                brain_multiprocessing jdcal               rmagic\n",
      "_ast                brain_namedtuple_enum jedi                rope\n",
      "_asyncio            brain_nose          jinja2              rtree\n",
      "_bisect             brain_numpy_core_fromnumeric joblib              ruamel_yaml\n",
      "_blake2             brain_numpy_core_function_base json                runpy\n",
      "_bootlocale         brain_numpy_core_multiarray json5               sched\n",
      "_bz2                brain_numpy_core_numeric jsonschema          scipy\n",
      "_cffi_backend       brain_numpy_core_numerictypes jupyter             scripts\n",
      "_codecs             brain_numpy_core_umath jupyter_client      seaborn\n",
      "_codecs_cn          brain_numpy_ndarray jupyter_console     secrets\n",
      "_codecs_hk          brain_numpy_random_mtrand jupyter_core        select\n",
      "_codecs_iso2022     brain_numpy_utils   jupyterlab          selectors\n",
      "_codecs_jp          brain_pkg_resources jupyterlab_server   send2trash\n",
      "_codecs_kr          brain_pytest        keyring             setuptools\n",
      "_codecs_tw          brain_qt            keyword             shelve\n",
      "_collections        brain_random        kiwisolver          shlex\n",
      "_collections_abc    brain_re            lazy_object_proxy   shutil\n",
      "_compat_pickle      brain_responses     lib2to3             signal\n",
      "_compression        brain_scipy_signal  libarchive          simplegeneric\n",
      "_contextvars        brain_six           libfuturize         singledispatch\n",
      "_crypt              brain_ssl           libpasteurize       singledispatch_helpers\n",
      "_csv                brain_subprocess    lief                sip\n",
      "_ctypes             brain_threading     linecache           sipconfig\n",
      "_ctypes_test        brain_typing        llvmlite            sipdistutils\n",
      "_curses             brain_uuid          locale              site\n",
      "_curses_panel       brotli              locket              six\n",
      "_datetime           bs4                 logging             skimage\n",
      "_dbm                builtins            lxml                sklearn\n",
      "_decimal            bz2                 lzma                smtpd\n",
      "_dummy_thread       cProfile            mactypes            smtplib\n",
      "_elementtree        calendar            mailbox             sndhdr\n",
      "_functools          certifi             mailcap             snowballstemmer\n",
      "_hashlib            cffi                markupsafe          socket\n",
      "_heapq              cgi                 marshal             socketserver\n",
      "_imp                cgitb               math                socks\n",
      "_io                 chardet             matplotlib          sockshandler\n",
      "_json               chunk               mccabe              sortedcollections\n",
      "_locale             click               mimetypes           sortedcontainers\n",
      "_lsprof             cloudpickle         mistune             soupsieve\n",
      "_lzma               clyent              mkl                 sphinx\n",
      "_markupbase         cmath               mkl_fft             sphinxcontrib\n",
      "_md5                cmd                 mkl_random          sphinxify\n",
      "_multibytecodec     code                mmap                sphinxthread\n",
      "_multiprocessing    codecs              mock                spyder\n",
      "_opcode             codeop              modulefinder        spyder_kernels\n",
      "_operator           collections         more_itertools      sqlalchemy\n",
      "_osx_support        colorama            mpl_scatter_density sqlite3\n",
      "_pickle             colorsys            mpmath              sre_compile\n",
      "_plotly_future_     compileall          msgpack             sre_constants\n",
      "_plotly_utils       concurrent          multipledispatch    sre_parse\n",
      "_posixshmem         conda               multiprocessing     ssl\n",
      "_posixsubprocess    conda_build         navigator_updater   stat\n",
      "_py_abc             conda_env           nbconvert           statistics\n",
      "_pydecimal          conda_package_handling nbformat            statsmodels\n",
      "_pyio               conda_verify        netrc               storemagic\n",
      "_pyrsistent_version conf                networkx            string\n",
      "_pytest             configparser        nis                 stringprep\n",
      "_queue              contextlib          nltk                struct\n",
      "_random             contextlib2         nntplib             subprocess\n",
      "_scproxy            contextvars         nose                sunau\n",
      "_sha1               copy                notebook            symbol\n",
      "_sha256             copyreg             ntpath              sympy\n",
      "_sha3               crypt               nturl2path          sympyprinting\n",
      "_sha512             cryptography        numba               symtable\n",
      "_signal             csv                 numbers             sys\n",
      "_sitebuiltins       ctypes              numexpr             sysconfig\n",
      "_socket             curl                numpy               syslog\n",
      "_sqlite3            curses              numpydoc            tables\n",
      "_sre                cycler              olefile             tabnanny\n",
      "_ssl                cython              opcode              tarfile\n",
      "_stat               cythonmagic         openpyxl            tblib\n",
      "_statistics         cytoolz             operator            telnetlib\n",
      "_string             dask                optparse            tempfile\n",
      "_strptime           dataclasses         os                  terminado\n",
      "_struct             datetime            osax                termios\n",
      "_symtable           dateutil            packaging           test\n",
      "_sysconfigdata__darwin_darwin dbm                 pandas              test_data\n",
      "_sysconfigdata_aarch64_conda_cos7_linux_gnu decimal             pandocfilters       test_pycosat\n",
      "_sysconfigdata_i686_conda_cos6_linux_gnu decorator           parser              testpath\n",
      "_sysconfigdata_powerpc64le_conda_cos7_linux_gnu defusedxml          parso               tests\n",
      "_sysconfigdata_x86_64_apple_darwin13_4_0 diff_match_patch    partd               textwrap\n",
      "_sysconfigdata_x86_64_conda_cos6_linux_gnu difflib             past                this\n",
      "_testbuffer         dill                path                threading\n",
      "_testcapi           dis                 pathlib             threadpoolctl\n",
      "_testimportmultiple distributed         pathlib2            time\n",
      "_testinternalcapi   distutils           pathtools           timeit\n",
      "_testmultiphase     doctest             patsy               tkinter\n",
      "_thread             docutils            pdb                 tlz\n",
      "_threading_local    dummy_threading     pep8                token\n",
      "_tkinter            easy_install        pexpect             tokenize\n",
      "_tracemalloc        email               pickle              toml\n",
      "_uuid               encodings           pickleshare         toolz\n",
      "_warnings           ensurepip           pickletools         tornado\n",
      "_watchdog_fsevents  entrypoints         pip                 tqdm\n",
      "_weakref            enum                pipes               trace\n",
      "_weakrefset         errno               pkg_resources       traceback\n",
      "_xxsubinterpreters  et_xmlfile          pkginfo             tracemalloc\n",
      "_xxtestfuzz         fast_histogram      pkgutil             traitlets\n",
      "_yaml               fastcache           platform            tty\n",
      "abc                 faulthandler        plistlib            turtle\n",
      "aem                 fcntl               plotly              turtledemo\n",
      "aifc                filecmp             plotlywidget        types\n",
      "alabaster           fileinput           pluggy              typing\n",
      "anaconda_navigator  filelock            ply                 typing_extensions\n",
      "anaconda_project    flake8              poplib              ujson\n",
      "antigravity         flask               posix               unicodecsv\n",
      "applaunchservices   fnmatch             posixpath           unicodedata\n",
      "appnope             formatter           pprint              unittest\n",
      "appscript           fractions           profile             urllib\n",
      "argh                fsspec              prometheus_client   urllib3\n",
      "argparse            ftplib              prompt_toolkit      uu\n",
      "array               functools           pstats              uuid\n",
      "asn1crypto          future              psutil              venv\n",
      "ast                 gc                  pty                 warnings\n",
      "astroid             genericpath         ptyprocess          watchdog\n",
      "astropy             getopt              pvectorc            wave\n",
      "asynchat            getpass             pwd                 wcwidth\n",
      "asyncio             gettext             py                  weakref\n",
      "asyncore            gevent              py_compile          webbrowser\n",
      "atexit              glob                pyclbr              webencodings\n",
      "atomicwrites        glob2               pycodestyle         werkzeug\n",
      "attr                glue                pycosat             wheel\n",
      "audioop             glue_vispy_viewers  pycparser           widgetsnbextension\n",
      "autopep8            gmpy2               pycurl              wrapt\n",
      "autoreload          greenlet            pydoc               wsgiref\n",
      "babel               grp                 pydoc_data          wurlitzer\n",
      "backcall            gzip                pydocstyle          xdrlib\n",
      "backports           h5py                pyexpat             xlrd\n",
      "base64              hashlib             pyflakes            xlsxwriter\n",
      "bdb                 heapdict            pygments            xlwings\n",
      "binascii            heapq               pylab               xlwt\n",
      "binhex              hmac                pylint              xml\n",
      "binstar_client      html                pyls                xmlrpc\n",
      "bisect              html5lib            pyls_jsonrpc        xmltodict\n",
      "bitarray            http                pyodbc              xxlimited\n",
      "bkcharts            idlelib             pyparsing           xxsubtype\n",
      "bleach              idna                pyrsistent          yaml\n",
      "bokeh               imageio             pytest              yapf\n",
      "boto                imagesize           pytz                yapftests\n",
      "bottleneck          imaplib             pywt                zict\n",
      "brain_argparse      imghdr              pyximport           zipapp\n",
      "brain_attrs         imp                 qdarkstyle          zipfile\n",
      "brain_boto3         importlib           qtawesome           zipimport\n",
      "brain_builtin_inference importlib_metadata  qtconsole           zipp\n",
      "brain_collections   inspect             qtpy                zlib\n",
      "brain_crypt         intervaltree        queue               zmq\n",
      "brain_curses        io                  quopri              zope\n",
      "brain_dataclasses   ipaddress           random              \n",
      "brain_dateutil      ipykernel           re                  \n",
      "\n",
      "Enter any module name to get more help.  Or, type \"modules spam\" to search\n",
      "for modules whose name or summary contain the string \"spam\".\n",
      "\n"
     ]
    }
   ],
   "source": [
    "#help(\"modules\")"
   ]
  },
  {
   "cell_type": "code",
   "execution_count": 14,
   "metadata": {},
   "outputs": [
    {
     "name": "stdout",
     "output_type": "stream",
     "text": [
      "Package                            Version\r\n",
      "---------------------------------- ----------------------\r\n",
      "alabaster                          0.7.12\r\n",
      "anaconda-client                    1.7.2\r\n",
      "anaconda-navigator                 1.9.12\r\n",
      "anaconda-project                   0.8.3\r\n",
      "applaunchservices                  0.2.1\r\n",
      "appnope                            0.1.0\r\n",
      "appscript                          1.1.1\r\n",
      "argh                               0.26.2\r\n",
      "asn1crypto                         1.3.0\r\n",
      "astroid                            2.4.2\r\n",
      "astropy                            4.0.1.post1\r\n",
      "atomicwrites                       1.4.0\r\n",
      "attrs                              19.3.0\r\n",
      "autopep8                           1.5.3\r\n",
      "Babel                              2.8.0\r\n",
      "backcall                           0.2.0\r\n",
      "backports.functools-lru-cache      1.6.1\r\n",
      "backports.shutil-get-terminal-size 1.0.0\r\n",
      "backports.tempfile                 1.0\r\n",
      "backports.weakref                  1.0.post1\r\n",
      "beautifulsoup4                     4.9.1\r\n",
      "bitarray                           1.4.0\r\n",
      "bkcharts                           0.2\r\n",
      "bleach                             3.1.5\r\n",
      "bokeh                              2.1.1\r\n",
      "boto                               2.49.0\r\n",
      "Bottleneck                         1.3.2\r\n",
      "brotlipy                           0.7.0\r\n",
      "certifi                            2020.6.20\r\n",
      "cffi                               1.14.0\r\n",
      "chardet                            3.0.4\r\n",
      "click                              7.1.2\r\n",
      "cloudpickle                        1.5.0\r\n",
      "clyent                             1.2.2\r\n",
      "colorama                           0.4.3\r\n",
      "conda                              4.10.1\r\n",
      "conda-build                        3.18.11\r\n",
      "conda-package-handling             1.7.0+0.g7c4a471.dirty\r\n",
      "conda-verify                       3.4.2\r\n",
      "contextlib2                        0.6.0.post1\r\n",
      "cryptography                       2.9.2\r\n",
      "cycler                             0.10.0\r\n",
      "Cython                             0.29.21\r\n",
      "cytoolz                            0.10.1\r\n",
      "dask                               2.20.0\r\n",
      "decorator                          4.4.2\r\n",
      "defusedxml                         0.6.0\r\n",
      "diff-match-patch                   20200713\r\n",
      "dill                               0.3.3\r\n",
      "distributed                        2.20.0\r\n",
      "docutils                           0.16\r\n",
      "entrypoints                        0.3\r\n",
      "et-xmlfile                         1.0.1\r\n",
      "fast-histogram                     0.9\r\n",
      "fastcache                          1.1.0\r\n",
      "filelock                           3.0.12\r\n",
      "flake8                             3.8.3\r\n",
      "Flask                              1.1.2\r\n",
      "fsspec                             0.7.4\r\n",
      "future                             0.18.2\r\n",
      "gevent                             20.6.2\r\n",
      "glob2                              0.7\r\n",
      "glue-core                          0.15.6\r\n",
      "glue-vispy-viewers                 0.12.2\r\n",
      "gmpy2                              2.0.8\r\n",
      "greenlet                           0.4.16\r\n",
      "h5py                               2.10.0\r\n",
      "HeapDict                           1.0.1\r\n",
      "html5lib                           1.1\r\n",
      "idna                               2.10\r\n",
      "imageio                            2.9.0\r\n",
      "imagesize                          1.2.0\r\n",
      "importlib-metadata                 1.7.0\r\n",
      "intervaltree                       3.0.2\r\n",
      "ipykernel                          5.3.2\r\n",
      "ipython                            7.16.1\r\n",
      "ipython-genutils                   0.2.0\r\n",
      "ipywidgets                         7.5.1\r\n",
      "isort                              4.3.21\r\n",
      "itsdangerous                       1.1.0\r\n",
      "jdcal                              1.4.1\r\n",
      "jedi                               0.17.1\r\n",
      "Jinja2                             2.11.2\r\n",
      "joblib                             0.16.0\r\n",
      "json5                              0.9.5\r\n",
      "jsonschema                         3.2.0\r\n",
      "jupyter                            1.0.0\r\n",
      "jupyter-client                     6.1.6\r\n",
      "jupyter-console                    6.1.0\r\n",
      "jupyter-core                       4.6.3\r\n",
      "jupyterlab                         2.1.5\r\n",
      "jupyterlab-server                  1.2.0\r\n",
      "keyring                            21.2.1\r\n",
      "kiwisolver                         1.2.0\r\n",
      "lazy-object-proxy                  1.4.3\r\n",
      "libarchive-c                       2.9\r\n",
      "llvmlite                           0.33.0+1.g022ab0f\r\n",
      "locket                             0.2.0\r\n",
      "lxml                               4.5.2\r\n",
      "MarkupSafe                         1.1.1\r\n",
      "matplotlib                         3.2.2\r\n",
      "mccabe                             0.6.1\r\n",
      "mistune                            0.8.4\r\n",
      "mkl-fft                            1.1.0\r\n",
      "mkl-random                         1.1.1\r\n",
      "mkl-service                        2.3.0\r\n",
      "mock                               4.0.2\r\n",
      "more-itertools                     8.4.0\r\n",
      "mpl-scatter-density                0.7\r\n",
      "mpmath                             1.1.0\r\n",
      "msgpack                            1.0.0\r\n",
      "multipledispatch                   0.6.0\r\n",
      "navigator-updater                  0.2.1\r\n",
      "nbconvert                          5.6.1\r\n",
      "nbformat                           5.0.7\r\n",
      "networkx                           2.4\r\n",
      "nltk                               3.5\r\n",
      "nose                               1.3.7\r\n",
      "notebook                           6.0.3\r\n",
      "numba                              0.50.1\r\n",
      "numexpr                            2.7.1\r\n",
      "numpy                              1.18.5\r\n",
      "numpydoc                           1.1.0\r\n",
      "olefile                            0.46\r\n",
      "openpyxl                           3.0.4\r\n",
      "packaging                          20.4\r\n",
      "pandas                             1.0.5\r\n",
      "pandocfilters                      1.4.2\r\n",
      "parso                              0.7.0\r\n",
      "partd                              1.1.0\r\n",
      "path                               13.1.0\r\n",
      "pathlib2                           2.3.5\r\n",
      "pathtools                          0.1.2\r\n",
      "patsy                              0.5.1\r\n",
      "pep8                               1.7.1\r\n",
      "pexpect                            4.8.0\r\n",
      "pickleshare                        0.7.5\r\n",
      "Pillow                             7.2.0\r\n",
      "pip                                20.1.1\r\n",
      "pkginfo                            1.5.0.1\r\n",
      "plotly                             4.14.3\r\n",
      "pluggy                             0.13.1\r\n",
      "ply                                3.11\r\n",
      "prometheus-client                  0.8.0\r\n",
      "prompt-toolkit                     3.0.5\r\n",
      "psutil                             5.7.0\r\n",
      "ptyprocess                         0.6.0\r\n",
      "py                                 1.9.0\r\n",
      "pycodestyle                        2.6.0\r\n",
      "pycosat                            0.6.3\r\n",
      "pycparser                          2.20\r\n",
      "pycurl                             7.43.0.5\r\n",
      "pydocstyle                         5.0.2\r\n",
      "pyflakes                           2.2.0\r\n",
      "Pygments                           2.6.1\r\n",
      "pylint                             2.5.3\r\n",
      "pyodbc                             4.0.0-unsupported\r\n",
      "PyOpenGL                           3.1.1a1\r\n",
      "pyOpenSSL                          19.1.0\r\n",
      "pyparsing                          2.4.7\r\n",
      "pyrsistent                         0.16.0\r\n",
      "PySocks                            1.7.1\r\n",
      "pytest                             5.4.3\r\n",
      "python-dateutil                    2.8.1\r\n",
      "python-jsonrpc-server              0.3.4\r\n",
      "python-language-server             0.34.1\r\n",
      "pytz                               2020.1\r\n",
      "PyWavelets                         1.1.1\r\n",
      "PyYAML                             5.3.1\r\n",
      "pyzmq                              19.0.1\r\n",
      "QDarkStyle                         2.8.1\r\n",
      "QtAwesome                          0.7.2\r\n",
      "qtconsole                          4.7.5\r\n",
      "QtPy                               1.9.0\r\n",
      "regex                              2020.6.8\r\n",
      "requests                           2.24.0\r\n",
      "retrying                           1.3.3\r\n",
      "rope                               0.17.0\r\n",
      "Rtree                              0.9.4\r\n",
      "ruamel-yaml                        0.15.87\r\n",
      "scikit-image                       0.16.2\r\n",
      "scikit-learn                       0.23.1\r\n",
      "scipy                              1.5.0\r\n",
      "seaborn                            0.10.1\r\n",
      "Send2Trash                         1.5.0\r\n",
      "setuptools                         49.2.0.post20200714\r\n",
      "simplegeneric                      0.8.1\r\n",
      "singledispatch                     3.4.0.3\r\n",
      "six                                1.15.0\r\n",
      "snowballstemmer                    2.0.0\r\n",
      "sortedcollections                  1.2.1\r\n",
      "sortedcontainers                   2.2.2\r\n",
      "soupsieve                          2.0.1\r\n",
      "Sphinx                             3.1.2\r\n",
      "sphinxcontrib-applehelp            1.0.2\r\n",
      "sphinxcontrib-devhelp              1.0.2\r\n",
      "sphinxcontrib-htmlhelp             1.0.3\r\n",
      "sphinxcontrib-jsmath               1.0.1\r\n",
      "sphinxcontrib-qthelp               1.0.3\r\n",
      "sphinxcontrib-serializinghtml      1.1.4\r\n",
      "sphinxcontrib-websupport           1.2.3\r\n",
      "spyder                             4.1.4\r\n",
      "spyder-kernels                     1.9.2\r\n",
      "SQLAlchemy                         1.3.18\r\n",
      "statsmodels                        0.11.1\r\n",
      "sympy                              1.6.1\r\n",
      "tables                             3.6.1\r\n",
      "tblib                              1.6.0\r\n",
      "terminado                          0.8.3\r\n",
      "testpath                           0.4.4\r\n",
      "threadpoolctl                      2.1.0\r\n",
      "toml                               0.10.1\r\n",
      "toolz                              0.10.0\r\n",
      "tornado                            6.0.4\r\n",
      "tqdm                               4.47.0\r\n",
      "traitlets                          4.3.3\r\n",
      "typing-extensions                  3.7.4.2\r\n",
      "ujson                              1.35\r\n",
      "unicodecsv                         0.14.1\r\n",
      "urllib3                            1.25.9\r\n",
      "watchdog                           0.10.3\r\n",
      "wcwidth                            0.2.5\r\n",
      "webencodings                       0.5.1\r\n",
      "Werkzeug                           1.0.1\r\n",
      "wheel                              0.34.2\r\n",
      "widgetsnbextension                 3.5.1\r\n",
      "wrapt                              1.11.2\r\n",
      "wurlitzer                          2.0.1\r\n",
      "xlrd                               1.2.0\r\n",
      "XlsxWriter                         1.2.9\r\n",
      "xlwings                            0.19.5\r\n",
      "xlwt                               1.3.0\r\n",
      "xmltodict                          0.12.0\r\n",
      "yapf                               0.30.0\r\n",
      "zict                               2.0.0\r\n",
      "zipp                               3.1.0\r\n",
      "zope.event                         4.4\r\n",
      "zope.interface                     4.7.1\r\n",
      "Note: you may need to restart the kernel to use updated packages.\n"
     ]
    }
   ],
   "source": [
    "#pip list"
   ]
  },
  {
   "cell_type": "code",
   "execution_count": 15,
   "metadata": {},
   "outputs": [
    {
     "name": "stdout",
     "output_type": "stream",
     "text": [
      "alabaster==0.7.12\r\n",
      "anaconda-client==1.7.2\r\n",
      "anaconda-navigator==1.9.12\r\n",
      "anaconda-project==0.8.3\r\n",
      "applaunchservices==0.2.1\r\n",
      "appnope @ file:///opt/concourse/worker/volumes/live/0291c9e1-4b15-459f-623e-2770f55be269/volume/appnope_1594338395037/work\r\n",
      "appscript @ file:///opt/concourse/worker/volumes/live/50ca4c96-3090-40bb-6981-3a6114ed0af4/volume/appscript_1594840187551/work\r\n",
      "argh==0.26.2\r\n",
      "asn1crypto @ file:///opt/concourse/worker/volumes/live/29c500db-6cdf-4cc7-7df8-fca74d6f0b64/volume/asn1crypto_1594339172552/work\r\n",
      "astroid @ file:///opt/concourse/worker/volumes/live/21fd14a9-2a7e-484b-7394-5a9912cdcf80/volume/astroid_1592498459180/work\r\n",
      "astropy==4.0.1.post1\r\n",
      "atomicwrites==1.4.0\r\n",
      "attrs==19.3.0\r\n",
      "autopep8 @ file:///tmp/build/80754af9/autopep8_1592412889138/work\r\n",
      "Babel==2.8.0\r\n",
      "backcall==0.2.0\r\n",
      "backports.functools-lru-cache==1.6.1\r\n",
      "backports.shutil-get-terminal-size==1.0.0\r\n",
      "backports.tempfile==1.0\r\n",
      "backports.weakref==1.0.post1\r\n",
      "beautifulsoup4==4.9.1\r\n",
      "bitarray @ file:///opt/concourse/worker/volumes/live/9034c98d-f3e3-4444-48f0-092269ed9919/volume/bitarray_1594753940633/work\r\n",
      "bkcharts==0.2\r\n",
      "bleach==3.1.5\r\n",
      "bokeh @ file:///opt/concourse/worker/volumes/live/eb4a1f42-db74-4fc3-7f34-0189ef49c1a1/volume/bokeh_1593187606262/work\r\n",
      "boto==2.49.0\r\n",
      "Bottleneck==1.3.2\r\n",
      "brotlipy==0.7.0\r\n",
      "certifi==2020.6.20\r\n",
      "cffi==1.14.0\r\n",
      "chardet==3.0.4\r\n",
      "click==7.1.2\r\n",
      "cloudpickle @ file:///tmp/build/80754af9/cloudpickle_1594141588948/work\r\n",
      "clyent==1.2.2\r\n",
      "colorama==0.4.3\r\n",
      "conda==4.10.1\r\n",
      "conda-build==3.18.11\r\n",
      "conda-package-handling==1.7.0+0.g7c4a471.dirty\r\n",
      "conda-verify==3.4.2\r\n",
      "contextlib2==0.6.0.post1\r\n",
      "cryptography==2.9.2\r\n",
      "cycler==0.10.0\r\n",
      "Cython @ file:///opt/concourse/worker/volumes/live/6158b663-a4ca-4e19-7e05-8807e4f79146/volume/cython_1594835048880/work\r\n",
      "cytoolz==0.10.1\r\n",
      "dask @ file:///tmp/build/80754af9/dask-core_1594156306305/work\r\n",
      "decorator==4.4.2\r\n",
      "defusedxml==0.6.0\r\n",
      "diff-match-patch @ file:///tmp/build/80754af9/diff-match-patch_1594828741838/work\r\n",
      "dill @ file:///tmp/build/80754af9/dill_1605066453875/work\r\n",
      "distributed @ file:///opt/concourse/worker/volumes/live/ec098701-cad7-4317-4576-0365c5f66992/volume/distributed_1594350140096/work\r\n",
      "docutils==0.16\r\n",
      "entrypoints==0.3\r\n",
      "et-xmlfile==1.0.1\r\n",
      "fast-histogram @ file:///opt/concourse/worker/volumes/live/7e641de8-c470-4a63-56ba-bdc5512456a3/volume/fast-histogram_1614080065084/work\r\n",
      "fastcache==1.1.0\r\n",
      "filelock==3.0.12\r\n",
      "flake8==3.8.3\r\n",
      "Flask==1.1.2\r\n",
      "fsspec==0.7.4\r\n",
      "future==0.18.2\r\n",
      "gevent @ file:///opt/concourse/worker/volumes/live/78aec834-bbf0-47a7-799f-96dd2cf589ab/volume/gevent_1593009579767/work\r\n",
      "glob2==0.7\r\n",
      "glue-core @ file:///opt/concourse/worker/volumes/live/7e1121bb-5fe7-4790-6250-8c38d039dc3d/volume/glue-core_1614166676269/work\r\n",
      "glue-vispy-viewers==0.12.2\r\n",
      "gmpy2==2.0.8\r\n",
      "greenlet==0.4.16\r\n",
      "h5py==2.10.0\r\n",
      "HeapDict==1.0.1\r\n",
      "html5lib @ file:///tmp/build/80754af9/html5lib_1593446221756/work\r\n",
      "idna @ file:///tmp/build/80754af9/idna_1593446292537/work\r\n",
      "imageio @ file:///tmp/build/80754af9/imageio_1594161405741/work\r\n",
      "imagesize==1.2.0\r\n",
      "importlib-metadata @ file:///opt/concourse/worker/volumes/live/290b74d5-e5f3-47ff-7257-17b3c9ccecab/volume/importlib-metadata_1593446478206/work\r\n",
      "intervaltree @ file:///tmp/build/80754af9/intervaltree_1594361675072/work\r\n",
      "ipykernel @ file:///opt/concourse/worker/volumes/live/cb5649db-6f30-435c-6981-1014aa39f028/volume/ipykernel_1594755378873/work/dist/ipykernel-5.3.2-py3-none-any.whl\r\n",
      "ipython @ file:///opt/concourse/worker/volumes/live/41e43e2f-bbbe-4c76-44fb-a6de0e826dd8/volume/ipython_1593447396701/work\r\n",
      "ipython-genutils==0.2.0\r\n",
      "ipywidgets==7.5.1\r\n",
      "isort==4.3.21\r\n",
      "itsdangerous==1.1.0\r\n",
      "jdcal==1.4.1\r\n",
      "jedi @ file:///opt/concourse/worker/volumes/live/1c5c293b-9147-4b4b-5a7f-d3f5eddb8470/volume/jedi_1592841952519/work\r\n",
      "Jinja2==2.11.2\r\n",
      "joblib @ file:///tmp/build/80754af9/joblib_1594236160679/work\r\n",
      "json5==0.9.5\r\n",
      "jsonschema @ file:///opt/concourse/worker/volumes/live/143dedb7-a810-4064-6e47-436d4dbcc943/volume/jsonschema_1594363611216/work\r\n",
      "jupyter==1.0.0\r\n",
      "jupyter-client @ file:///tmp/build/80754af9/jupyter_client_1594826976318/work\r\n",
      "jupyter-console==6.1.0\r\n",
      "jupyter-core==4.6.3\r\n",
      "jupyterlab==2.1.5\r\n",
      "jupyterlab-server @ file:///tmp/build/80754af9/jupyterlab_server_1594164409481/work\r\n",
      "keyring @ file:///opt/concourse/worker/volumes/live/f2a8edc0-64b5-40f0-5d81-bbd31149cbe1/volume/keyring_1593109772159/work\r\n",
      "kiwisolver==1.2.0\r\n",
      "lazy-object-proxy==1.4.3\r\n",
      "libarchive-c==2.9\r\n",
      "llvmlite==0.33.0+1.g022ab0f\r\n",
      "locket==0.2.0\r\n",
      "lxml @ file:///opt/concourse/worker/volumes/live/d42457f0-83be-4fb6-6c8d-8f9319a861b0/volume/lxml_1594826854945/work\r\n",
      "MarkupSafe @ file:///opt/concourse/worker/volumes/live/cb778296-98db-45ad-411e-6f726e102dc3/volume/markupsafe_1594371638608/work\r\n",
      "matplotlib @ file:///opt/concourse/worker/volumes/live/59859a4b-794b-4c9f-51fd-a0ac1d1ab595/volume/matplotlib-base_1592846058943/work\r\n",
      "mccabe==0.6.1\r\n",
      "mistune @ file:///opt/concourse/worker/volumes/live/95802d64-d39c-491b-74ce-b9326880ca54/volume/mistune_1594373201816/work\r\n",
      "mkl-fft==1.1.0\r\n",
      "mkl-random==1.1.1\r\n",
      "mkl-service==2.3.0\r\n",
      "mock==4.0.2\r\n",
      "more-itertools==8.4.0\r\n",
      "mpl-scatter-density @ file:///tmp/build/80754af9/mpl-scatter-density_1596880069366/work\r\n",
      "mpmath==1.1.0\r\n",
      "msgpack==1.0.0\r\n",
      "multipledispatch==0.6.0\r\n",
      "navigator-updater==0.2.1\r\n",
      "nbconvert @ file:///opt/concourse/worker/volumes/live/70406b39-619d-477e-7507-0cc36a02f91a/volume/nbconvert_1594376816864/work\r\n",
      "nbformat==5.0.7\r\n",
      "networkx @ file:///tmp/build/80754af9/networkx_1594377231366/work\r\n",
      "nltk @ file:///tmp/build/80754af9/nltk_1592496090529/work\r\n",
      "nose @ file:///opt/concourse/worker/volumes/live/a029938e-1732-4cd8-5b98-0542283d158b/volume/nose_1594377915100/work\r\n",
      "notebook==6.0.3\r\n",
      "numba==0.50.1\r\n",
      "numexpr==2.7.1\r\n",
      "numpy==1.18.5\r\n",
      "numpydoc @ file:///tmp/build/80754af9/numpydoc_1594166760263/work\r\n",
      "olefile==0.46\r\n",
      "openpyxl @ file:///tmp/build/80754af9/openpyxl_1594167385094/work\r\n",
      "packaging==20.4\r\n",
      "pandas @ file:///opt/concourse/worker/volumes/live/5ef6147e-ea92-446e-4065-0c8c7435293f/volume/pandas_1592841676717/work\r\n",
      "pandocfilters==1.4.2\r\n",
      "parso==0.7.0\r\n",
      "partd==1.1.0\r\n",
      "path==13.1.0\r\n",
      "pathlib2 @ file:///opt/concourse/worker/volumes/live/de518564-0d9f-405e-472b-38136f0c2169/volume/pathlib2_1594381084269/work\r\n",
      "pathtools==0.1.2\r\n",
      "patsy==0.5.1\r\n",
      "pep8==1.7.1\r\n",
      "pexpect @ file:///opt/concourse/worker/volumes/live/8701bb20-ad87-46c7-5108-30c178cf97e5/volume/pexpect_1594383388344/work\r\n",
      "pickleshare @ file:///opt/concourse/worker/volumes/live/93ec39d8-05bb-4f84-7efc-98735bc39b70/volume/pickleshare_1594384101884/work\r\n",
      "Pillow @ file:///opt/concourse/worker/volumes/live/be1e8a56-c4be-4ffe-4fa7-5a0e9c460b1a/volume/pillow_1594307312933/work\r\n",
      "pkginfo==1.5.0.1\r\n",
      "plotly @ file:///tmp/build/80754af9/plotly_1610565580232/work\r\n",
      "pluggy==0.13.1\r\n",
      "ply==3.11\r\n",
      "prometheus-client==0.8.0\r\n",
      "prompt-toolkit==3.0.5\r\n",
      "psutil==5.7.0\r\n",
      "ptyprocess==0.6.0\r\n",
      "py @ file:///tmp/build/80754af9/py_1593446248552/work\r\n",
      "pycodestyle==2.6.0\r\n",
      "pycosat==0.6.3\r\n",
      "pycparser @ file:///tmp/build/80754af9/pycparser_1594388511720/work\r\n",
      "pycurl==7.43.0.5\r\n",
      "pydocstyle @ file:///tmp/build/80754af9/pydocstyle_1592848020240/work\r\n",
      "pyflakes==2.2.0\r\n",
      "Pygments==2.6.1\r\n",
      "pylint @ file:///opt/concourse/worker/volumes/live/0a2a544e-806a-4267-74b2-a3f95578c3f2/volume/pylint_1592498630326/work\r\n",
      "pyodbc===4.0.0-unsupported\r\n",
      "PyOpenGL==3.1.1a1\r\n",
      "pyOpenSSL @ file:///tmp/build/80754af9/pyopenssl_1594392929924/work\r\n",
      "pyparsing==2.4.7\r\n",
      "pyrsistent==0.16.0\r\n",
      "PySocks @ file:///opt/concourse/worker/volumes/live/85a5b906-0e08-41d9-6f59-084cee4e9492/volume/pysocks_1594394636991/work\r\n",
      "pytest==5.4.3\r\n",
      "python-dateutil==2.8.1\r\n",
      "python-jsonrpc-server @ file:///tmp/build/80754af9/python-jsonrpc-server_1594397536060/work\r\n",
      "python-language-server @ file:///opt/concourse/worker/volumes/live/5f0313b4-ff69-4d9d-5c31-e01b223dabd6/volume/python-language-server_1594161914367/work\r\n",
      "pytz==2020.1\r\n",
      "PyWavelets==1.1.1\r\n",
      "PyYAML==5.3.1\r\n",
      "pyzmq==19.0.1\r\n",
      "QDarkStyle==2.8.1\r\n",
      "QtAwesome==0.7.2\r\n",
      "qtconsole @ file:///tmp/build/80754af9/qtconsole_1592848611704/work\r\n",
      "QtPy==1.9.0\r\n",
      "regex @ file:///opt/concourse/worker/volumes/live/93a9c6ee-7d77-4975-4d26-29732dd5574b/volume/regex_1593435592218/work\r\n",
      "requests @ file:///tmp/build/80754af9/requests_1592841827918/work\r\n",
      "retrying==1.3.3\r\n",
      "rope==0.17.0\r\n",
      "Rtree==0.9.4\r\n",
      "ruamel-yaml==0.15.87\r\n",
      "scikit-image==0.16.2\r\n",
      "scikit-learn @ file:///opt/concourse/worker/volumes/live/47a3ec7c-70dc-43c0-7317-def24a8afaf5/volume/scikit-learn_1592503037057/work\r\n",
      "scipy @ file:///opt/concourse/worker/volumes/live/7f5e51f8-abf3-4409-4c56-a4fb14cc9869/volume/scipy_1593104185999/work\r\n",
      "seaborn==0.10.1\r\n",
      "Send2Trash==1.5.0\r\n",
      "simplegeneric==0.8.1\r\n",
      "singledispatch==3.4.0.3\r\n",
      "six==1.15.0\r\n",
      "snowballstemmer==2.0.0\r\n",
      "sortedcollections==1.2.1\r\n",
      "sortedcontainers==2.2.2\r\n",
      "soupsieve==2.0.1\r\n",
      "Sphinx @ file:///tmp/build/80754af9/sphinx_1594223420021/work\r\n",
      "sphinxcontrib-applehelp==1.0.2\r\n",
      "sphinxcontrib-devhelp==1.0.2\r\n",
      "sphinxcontrib-htmlhelp==1.0.3\r\n",
      "sphinxcontrib-jsmath==1.0.1\r\n",
      "sphinxcontrib-qthelp==1.0.3\r\n",
      "sphinxcontrib-serializinghtml==1.1.4\r\n",
      "sphinxcontrib-websupport @ file:///tmp/build/80754af9/sphinxcontrib-websupport_1593446360927/work\r\n",
      "spyder @ file:///opt/concourse/worker/volumes/live/0e97f897-b36b-4f78-7283-e99903208a48/volume/spyder_1594831780108/work\r\n",
      "spyder-kernels @ file:///opt/concourse/worker/volumes/live/682c8d56-759f-49eb-7914-dbce4a625209/volume/spyder-kernels_1594751614984/work\r\n",
      "SQLAlchemy @ file:///opt/concourse/worker/volumes/live/45657106-f60d-42e1-6501-7d65be3b36ab/volume/sqlalchemy_1593446313078/work\r\n",
      "statsmodels==0.11.1\r\n",
      "sympy @ file:///opt/concourse/worker/volumes/live/32ef3b19-6d5e-459b-54bf-1bfa312324b4/volume/sympy_1594236601710/work\r\n",
      "tables==3.6.1\r\n",
      "tblib==1.6.0\r\n",
      "terminado==0.8.3\r\n",
      "testpath==0.4.4\r\n",
      "threadpoolctl @ file:///tmp/tmp9twdgx9k/threadpoolctl-2.1.0-py3-none-any.whl\r\n",
      "toml @ file:///tmp/build/80754af9/toml_1592853716807/work\r\n",
      "toolz==0.10.0\r\n",
      "tornado==6.0.4\r\n",
      "tqdm @ file:///tmp/build/80754af9/tqdm_1593446365756/work\r\n",
      "traitlets==4.3.3\r\n",
      "typing-extensions @ file:///tmp/build/80754af9/typing_extensions_1592847887441/work\r\n",
      "ujson==1.35\r\n",
      "unicodecsv==0.14.1\r\n",
      "urllib3==1.25.9\r\n",
      "watchdog @ file:///opt/concourse/worker/volumes/live/cc0ee7bb-1065-44c4-5867-0fd5d13729e0/volume/watchdog_1593447373245/work\r\n",
      "wcwidth @ file:///tmp/build/80754af9/wcwidth_1593447189090/work\r\n",
      "webencodings==0.5.1\r\n",
      "Werkzeug==1.0.1\r\n",
      "widgetsnbextension==3.5.1\r\n",
      "wrapt==1.11.2\r\n",
      "wurlitzer @ file:///opt/concourse/worker/volumes/live/01a17f3d-eafe-4806-57a1-4b9ef5d1815f/volume/wurlitzer_1594753845129/work\r\n",
      "xlrd==1.2.0\r\n",
      "XlsxWriter==1.2.9\r\n",
      "xlwings==0.19.5\r\n",
      "xlwt==1.3.0\r\n",
      "xmltodict==0.12.0\r\n",
      "yapf @ file:///tmp/build/80754af9/yapf_1593528177422/work\r\n",
      "zict==2.0.0\r\n",
      "zipp==3.1.0\r\n",
      "zope.event==4.4\r\n",
      "zope.interface==4.7.1\r\n",
      "Note: you may need to restart the kernel to use updated packages.\n"
     ]
    }
   ],
   "source": [
    "#pip freeze"
   ]
  },
  {
   "cell_type": "code",
   "execution_count": 16,
   "metadata": {},
   "outputs": [
    {
     "ename": "SyntaxError",
     "evalue": "invalid syntax (<ipython-input-16-9e7b8b285ea0>, line 12)",
     "output_type": "error",
     "traceback": [
      "\u001b[0;36m  File \u001b[0;32m\"<ipython-input-16-9e7b8b285ea0>\"\u001b[0;36m, line \u001b[0;32m12\u001b[0m\n\u001b[0;31m    if\u001b[0m\n\u001b[0m       ^\u001b[0m\n\u001b[0;31mSyntaxError\u001b[0m\u001b[0;31m:\u001b[0m invalid syntax\n"
     ]
    }
   ],
   "source": [
    "#Q find repeated words\n",
    "sentence  = input()\n",
    "sentence = sentence.lower()\n",
    "\n",
    "words = sentence.split(\" \")\n",
    "words\n",
    "\n",
    "for i in range(0,len(words)):\n",
    "    count = 0\n",
    "    k = i + 1\n",
    "    for j in range(k,len(words)):\n",
    "        if "
   ]
  },
  {
   "cell_type": "code",
   "execution_count": null,
   "metadata": {},
   "outputs": [],
   "source": [
    "def sentance_word_count(X):\n",
    "    #X=set(X)\n",
    "    #X=str(X)\n",
    "    for i in X.lower().split(' '):\n",
    "        print (i,X.lower().count(i))"
   ]
  },
  {
   "cell_type": "code",
   "execution_count": null,
   "metadata": {},
   "outputs": [],
   "source": [
    "sentance_word_count(\"sea sells sea shells in the sea shore\")"
   ]
  },
  {
   "cell_type": "code",
   "execution_count": null,
   "metadata": {},
   "outputs": [],
   "source": [
    "def count_words(str,word):\n",
    "    word_list=str.split(' ')\n",
    "    return word_list.count(word)\n",
    "str1= 'sea sells sea shells in the sea shore'\n",
    "word = 'shore'\n",
    "print (count_words(str1,word))"
   ]
  },
  {
   "cell_type": "code",
   "execution_count": 17,
   "metadata": {},
   "outputs": [
    {
     "data": {
      "text/plain": [
       "0"
      ]
     },
     "execution_count": 17,
     "metadata": {},
     "output_type": "execute_result"
    }
   ],
   "source": [
    "import re\n",
    "str1= 'sea sells sea shells in the sea shore'\n",
    "word = 'shore'\n",
    "count = len(re.findall(r'\\bword\\b',str1,re.IGNORECASE))\n",
    "count"
   ]
  },
  {
   "cell_type": "code",
   "execution_count": 18,
   "metadata": {},
   "outputs": [
    {
     "name": "stdout",
     "output_type": "stream",
     "text": [
      "shore Occured: 1 TIMES\n",
      "in Occured: 1 TIMES\n",
      "the Occured: 1 TIMES\n",
      "sells Occured: 1 TIMES\n",
      "shells Occured: 1 TIMES\n",
      "sea Occured: 3 TIMES\n"
     ]
    }
   ],
   "source": [
    "def occurance_count(X):\n",
    "    str1=X\n",
    "    unique_words=set(str1.split(' '))\n",
    "    for i in unique_words:\n",
    "        count = len(re.findall(i,str1,re.IGNORECASE))\n",
    "        print (i+\" Occured:\",count,'TIMES')\n",
    "occurance_count('sea sells sea shells in the sea shore')"
   ]
  },
  {
   "cell_type": "code",
   "execution_count": 19,
   "metadata": {},
   "outputs": [
    {
     "name": "stdout",
     "output_type": "stream",
     "text": [
      "suman\n",
      "[['suman', 1]]\n"
     ]
    }
   ],
   "source": [
    "str = input()\n",
    "str_lst = str.split(' ')\n",
    "print ([[i,str_lst.count(i)] for i in set(str_lst)])"
   ]
  },
  {
   "cell_type": "markdown",
   "metadata": {},
   "source": [
    "# Yield"
   ]
  },
  {
   "cell_type": "code",
   "execution_count": 20,
   "metadata": {},
   "outputs": [
    {
     "name": "stdout",
     "output_type": "stream",
     "text": [
      "sun mon\n"
     ]
    }
   ],
   "source": [
    "def testgen(index):\n",
    "    weekdays = ['sun','mon','tue','wed','thu','fri','sat']\n",
    "    yield weekdays[index]\n",
    "    yield weekdays[index+1]\n",
    "day = testgen(0)\n",
    "print (next(day),next(day))"
   ]
  },
  {
   "cell_type": "markdown",
   "metadata": {},
   "source": [
    "# Factorial Function using Reduce Functio"
   ]
  },
  {
   "cell_type": "code",
   "execution_count": 55,
   "metadata": {},
   "outputs": [
    {
     "name": "stdout",
     "output_type": "stream",
     "text": [
      "-3\n"
     ]
    },
    {
     "data": {
      "text/plain": [
       "-1"
      ]
     },
     "execution_count": 55,
     "metadata": {},
     "output_type": "execute_result"
    }
   ],
   "source": [
    "from functools import reduce\n",
    "def facto(num):\n",
    "    inp = range(1,num+1)\n",
    "    if num == 0:\n",
    "        return 1\n",
    "    elif num <=0:\n",
    "        return -1\n",
    "    else:\n",
    "        facto = reduce(lambda x,y:x*y,inp)\n",
    "    return facto\n",
    "num = int(input())\n",
    "facto(num)"
   ]
  },
  {
   "cell_type": "markdown",
   "metadata": {},
   "source": [
    "# Factorial using Standard Approach"
   ]
  },
  {
   "cell_type": "code",
   "execution_count": 51,
   "metadata": {},
   "outputs": [
    {
     "name": "stdout",
     "output_type": "stream",
     "text": [
      "-4\n"
     ]
    },
    {
     "data": {
      "text/plain": [
       "-1"
      ]
     },
     "execution_count": 51,
     "metadata": {},
     "output_type": "execute_result"
    }
   ],
   "source": [
    "def factorial(n):\n",
    "    if n <=0:\n",
    "        return -1\n",
    "    elif n ==0:\n",
    "        return 1\n",
    "    else:\n",
    "        f = 1\n",
    "        for i in range(1,n+1):\n",
    "            f = f * i\n",
    "        return f\n",
    "num = int(input())\n",
    "factorial(num)"
   ]
  },
  {
   "cell_type": "markdown",
   "metadata": {},
   "source": [
    "# Alarm Clock"
   ]
  },
  {
   "cell_type": "code",
   "execution_count": 37,
   "metadata": {},
   "outputs": [
    {
     "name": "stdout",
     "output_type": "stream",
     "text": [
      "12,False\n",
      "7:00\n"
     ]
    }
   ],
   "source": [
    "import ast\n",
    "input_str = input()\n",
    "#[7,True]  Saple inut\n",
    "input_list = ast.literal_eval(input_str)\n",
    "\n",
    "#the data or the two values in list is now changed to separate variables\n",
    "day_of_the_week = input_list[0] #first element is an integer denoting the day of the week\n",
    "is_on_vacation = input_list[1] #this is a boolean denoting if its vacation or not\n",
    "\n",
    "# write your code here\n",
    "def alarm_clock(day_of_the_week,is_on_vacation):\n",
    "    weekend = [6,7]\n",
    "    if is_on_vacation:\n",
    "        if day_of_the_week not in weekend:\n",
    "            return '10:00'\n",
    "        else:\n",
    "            return 'off'\n",
    "    else:\n",
    "        if day_of_the_week not in weekend:\n",
    "            return '7:00'\n",
    "        else:\n",
    "            return '10:00'\n",
    "\n",
    "print (alarm_clock(day_of_the_week,is_on_vacation))"
   ]
  },
  {
   "cell_type": "markdown",
   "metadata": {},
   "source": [
    "# AST LITERAL"
   ]
  },
  {
   "cell_type": "code",
   "execution_count": 48,
   "metadata": {},
   "outputs": [
    {
     "name": "stdout",
     "output_type": "stream",
     "text": [
      "'abc','def'\n"
     ]
    },
    {
     "data": {
      "text/plain": [
       "('abc', 'def')"
      ]
     },
     "execution_count": 48,
     "metadata": {},
     "output_type": "execute_result"
    }
   ],
   "source": [
    "import ast\n",
    "inp1 = input()\n",
    "inp1\n",
    "inp = ast.literal_eval(inp1)\n",
    "inp"
   ]
  },
  {
   "cell_type": "markdown",
   "metadata": {},
   "source": [
    "# Reverse Digit"
   ]
  },
  {
   "cell_type": "code",
   "execution_count": 63,
   "metadata": {},
   "outputs": [
    {
     "name": "stdout",
     "output_type": "stream",
     "text": [
      "34567891\n"
     ]
    },
    {
     "data": {
      "text/plain": [
       "19876543"
      ]
     },
     "execution_count": 63,
     "metadata": {},
     "output_type": "execute_result"
    }
   ],
   "source": [
    "def reverse_digit(n):\n",
    "    r = 0\n",
    "    while(n>0):\n",
    "        r = n%10+r*10\n",
    "        n = n//10\n",
    "    return r\n",
    "num = int(input())\n",
    "op = reverse_digit(num)\n",
    "op"
   ]
  },
  {
   "cell_type": "code",
   "execution_count": 66,
   "metadata": {},
   "outputs": [
    {
     "name": "stdout",
     "output_type": "stream",
     "text": [
      "1234567\n",
      "7654321\n"
     ]
    }
   ],
   "source": [
    "n=int(input())\n",
    "r=0\n",
    "while(n>0):\n",
    "    r=n%10+r*10\n",
    "    n=n//10\n",
    "print (r)"
   ]
  },
  {
   "cell_type": "markdown",
   "metadata": {},
   "source": [
    "# How many CHocoletes"
   ]
  },
  {
   "cell_type": "code",
   "execution_count": null,
   "metadata": {},
   "outputs": [],
   "source": [
    "money = int(input())\n",
    "cost = int(input())\n",
    "choco = money//cost\n",
    "wrapper = choco\n",
    "while (wrapper //3 !=0):\n",
    "    choco = choco + wrapper//3\n",
    "    wrapper = wrapper//3+wrapper%3\n",
    "print (choco)"
   ]
  },
  {
   "cell_type": "markdown",
   "metadata": {},
   "source": [
    "# bool"
   ]
  },
  {
   "cell_type": "code",
   "execution_count": 3,
   "metadata": {},
   "outputs": [
    {
     "data": {
      "text/plain": [
       "1"
      ]
     },
     "execution_count": 3,
     "metadata": {},
     "output_type": "execute_result"
    }
   ],
   "source": [
    "int(True)"
   ]
  },
  {
   "cell_type": "code",
   "execution_count": 4,
   "metadata": {},
   "outputs": [
    {
     "data": {
      "text/plain": [
       "0"
      ]
     },
     "execution_count": 4,
     "metadata": {},
     "output_type": "execute_result"
    }
   ],
   "source": [
    "int(False)"
   ]
  },
  {
   "cell_type": "code",
   "execution_count": 5,
   "metadata": {},
   "outputs": [
    {
     "data": {
      "text/plain": [
       "True"
      ]
     },
     "execution_count": 5,
     "metadata": {},
     "output_type": "execute_result"
    }
   ],
   "source": [
    "bool(True)"
   ]
  },
  {
   "cell_type": "code",
   "execution_count": 6,
   "metadata": {},
   "outputs": [
    {
     "data": {
      "text/plain": [
       "False"
      ]
     },
     "execution_count": 6,
     "metadata": {},
     "output_type": "execute_result"
    }
   ],
   "source": [
    "bool(False)"
   ]
  },
  {
   "cell_type": "code",
   "execution_count": 12,
   "metadata": {},
   "outputs": [
    {
     "data": {
      "text/plain": [
       "1"
      ]
     },
     "execution_count": 12,
     "metadata": {},
     "output_type": "execute_result"
    }
   ],
   "source": [
    "a=1\n",
    "a"
   ]
  },
  {
   "cell_type": "code",
   "execution_count": 9,
   "metadata": {},
   "outputs": [
    {
     "data": {
      "text/plain": [
       "True"
      ]
     },
     "execution_count": 9,
     "metadata": {},
     "output_type": "execute_result"
    }
   ],
   "source": [
    "bool(a)"
   ]
  },
  {
   "cell_type": "code",
   "execution_count": 11,
   "metadata": {},
   "outputs": [
    {
     "data": {
      "text/plain": [
       "-1"
      ]
     },
     "execution_count": 11,
     "metadata": {},
     "output_type": "execute_result"
    }
   ],
   "source": [
    "b=-1\n",
    "b"
   ]
  },
  {
   "cell_type": "code",
   "execution_count": 13,
   "metadata": {},
   "outputs": [
    {
     "data": {
      "text/plain": [
       "True"
      ]
     },
     "execution_count": 13,
     "metadata": {},
     "output_type": "execute_result"
    }
   ],
   "source": [
    "bool(b)"
   ]
  },
  {
   "cell_type": "code",
   "execution_count": 14,
   "metadata": {},
   "outputs": [
    {
     "data": {
      "text/plain": [
       "0"
      ]
     },
     "execution_count": 14,
     "metadata": {},
     "output_type": "execute_result"
    }
   ],
   "source": [
    "c=0\n",
    "c"
   ]
  },
  {
   "cell_type": "code",
   "execution_count": 15,
   "metadata": {},
   "outputs": [
    {
     "data": {
      "text/plain": [
       "False"
      ]
     },
     "execution_count": 15,
     "metadata": {},
     "output_type": "execute_result"
    }
   ],
   "source": [
    "bool(c)"
   ]
  },
  {
   "cell_type": "markdown",
   "metadata": {},
   "source": [
    "# Operator Prededence"
   ]
  },
  {
   "cell_type": "markdown",
   "metadata": {},
   "source": [
    "### Operator precedence rule =>  ()>**>//>%>+>-\n",
    "### PEFMAS"
   ]
  },
  {
   "cell_type": "code",
   "execution_count": 20,
   "metadata": {},
   "outputs": [
    {
     "data": {
      "text/plain": [
       "-2"
      ]
     },
     "execution_count": 20,
     "metadata": {},
     "output_type": "execute_result"
    }
   ],
   "source": [
    "4%(1+ 9)**2 - 60//(7+2)\n",
    "4%10**2-60//9\n",
    "4%100-6\n",
    "4-6"
   ]
  },
  {
   "cell_type": "code",
   "execution_count": 23,
   "metadata": {},
   "outputs": [
    {
     "data": {
      "text/plain": [
       "'1'"
      ]
     },
     "execution_count": 23,
     "metadata": {},
     "output_type": "execute_result"
    }
   ],
   "source": [
    "a='1'\n",
    "a\n",
    "int(1)\n",
    "a"
   ]
  },
  {
   "cell_type": "code",
   "execution_count": 26,
   "metadata": {},
   "outputs": [
    {
     "data": {
      "text/plain": [
       "'Python'"
      ]
     },
     "execution_count": 26,
     "metadata": {},
     "output_type": "execute_result"
    }
   ],
   "source": [
    "s= \"I love Python programming\"\n",
    "s[7:13]"
   ]
  },
  {
   "cell_type": "code",
   "execution_count": 28,
   "metadata": {},
   "outputs": [
    {
     "data": {
      "text/plain": [
       "'Python'"
      ]
     },
     "execution_count": 28,
     "metadata": {},
     "output_type": "execute_result"
    }
   ],
   "source": [
    "s[-18:-12]"
   ]
  },
  {
   "cell_type": "code",
   "execution_count": 30,
   "metadata": {},
   "outputs": [
    {
     "data": {
      "text/plain": [
       "'e'"
      ]
     },
     "execution_count": 30,
     "metadata": {},
     "output_type": "execute_result"
    }
   ],
   "source": [
    "x='len'\n",
    "x[len(x*2)-5]"
   ]
  },
  {
   "cell_type": "code",
   "execution_count": 31,
   "metadata": {},
   "outputs": [
    {
     "data": {
      "text/plain": [
       "1"
      ]
     },
     "execution_count": 31,
     "metadata": {},
     "output_type": "execute_result"
    }
   ],
   "source": [
    "x.count('e')"
   ]
  },
  {
   "cell_type": "code",
   "execution_count": 39,
   "metadata": {},
   "outputs": [
    {
     "data": {
      "text/plain": [
       "2"
      ]
     },
     "execution_count": 39,
     "metadata": {},
     "output_type": "execute_result"
    }
   ],
   "source": [
    "x.find('n')"
   ]
  },
  {
   "cell_type": "code",
   "execution_count": 38,
   "metadata": {},
   "outputs": [
    {
     "data": {
      "text/plain": [
       "2"
      ]
     },
     "execution_count": 38,
     "metadata": {},
     "output_type": "execute_result"
    }
   ],
   "source": [
    "x.index('n')"
   ]
  },
  {
   "cell_type": "code",
   "execution_count": 40,
   "metadata": {},
   "outputs": [
    {
     "ename": "ValueError",
     "evalue": "substring not found",
     "output_type": "error",
     "traceback": [
      "\u001b[0;31m---------------------------------------------------------------------------\u001b[0m",
      "\u001b[0;31mValueError\u001b[0m                                Traceback (most recent call last)",
      "\u001b[0;32m<ipython-input-40-996f7fb11d7b>\u001b[0m in \u001b[0;36m<module>\u001b[0;34m\u001b[0m\n\u001b[0;32m----> 1\u001b[0;31m \u001b[0mx\u001b[0m\u001b[0;34m.\u001b[0m\u001b[0mindex\u001b[0m\u001b[0;34m(\u001b[0m\u001b[0;34m'T'\u001b[0m\u001b[0;34m)\u001b[0m\u001b[0;34m\u001b[0m\u001b[0;34m\u001b[0m\u001b[0m\n\u001b[0m",
      "\u001b[0;31mValueError\u001b[0m: substring not found"
     ]
    }
   ],
   "source": [
    "x.index('T')"
   ]
  },
  {
   "cell_type": "code",
   "execution_count": 41,
   "metadata": {},
   "outputs": [
    {
     "data": {
      "text/plain": [
       "-1"
      ]
     },
     "execution_count": 41,
     "metadata": {},
     "output_type": "execute_result"
    }
   ],
   "source": [
    "x.find('T')"
   ]
  },
  {
   "cell_type": "markdown",
   "metadata": {},
   "source": [
    "# Difference between INDEX and FIND string method \n",
    "### Index return's the index if substring matches in string.Else returns ERROR.\n",
    "### Find return's the index if substring matches in string.Else returns -1."
   ]
  },
  {
   "cell_type": "code",
   "execution_count": 44,
   "metadata": {},
   "outputs": [
    {
     "data": {
      "text/plain": [
       "True"
      ]
     },
     "execution_count": 44,
     "metadata": {},
     "output_type": "execute_result"
    }
   ],
   "source": [
    "x.islower()"
   ]
  },
  {
   "cell_type": "code",
   "execution_count": 45,
   "metadata": {},
   "outputs": [
    {
     "name": "stdout",
     "output_type": "stream",
     "text": [
      "Printing STRING:len\n"
     ]
    }
   ],
   "source": [
    "print ('Printing STRING:{0}'.format(x))"
   ]
  },
  {
   "cell_type": "markdown",
   "metadata": {},
   "source": [
    "# Q\n",
    "In a certain encrypted message which has information about the location(area, city), the characters are jumbled such that first character of the first word is followed by the first character of the second word, then it is followed by second character of the first word and so on\n",
    "In other words, let’s say the location is bandra,mumbai\n",
    "The encrypted message says ‘bmaunmdbraai’.\n",
    "\n",
    "Sample Input:\n",
    "\n",
    "bmaunmdbraai\n",
    "\n",
    "Sample Output:\n",
    "\n",
    "bandra,mumbai\n"
   ]
  },
  {
   "cell_type": "code",
   "execution_count": 53,
   "metadata": {},
   "outputs": [
    {
     "name": "stdout",
     "output_type": "stream",
     "text": [
      "psaukmaalna#\n",
      "pakala,suman\n"
     ]
    }
   ],
   "source": [
    "string = input()\n",
    "message1 = string[::2].strip('#')\n",
    "message2 = string[1::2].strip('#')\n",
    "print (message1 +','+message2)"
   ]
  },
  {
   "cell_type": "markdown",
   "metadata": {},
   "source": [
    "# file backup"
   ]
  },
  {
   "cell_type": "code",
   "execution_count": 63,
   "metadata": {},
   "outputs": [
    {
     "ename": "SyntaxError",
     "evalue": "unexpected EOF while parsing (<ipython-input-63-ec8b2928cfd7>, line 11)",
     "output_type": "error",
     "traceback": [
      "\u001b[0;36m  File \u001b[0;32m\"<ipython-input-63-ec8b2928cfd7>\"\u001b[0;36m, line \u001b[0;32m11\u001b[0m\n\u001b[0;31m    #zip_command\u001b[0m\n\u001b[0m                ^\u001b[0m\n\u001b[0;31mSyntaxError\u001b[0m\u001b[0;31m:\u001b[0m unexpected EOF while parsing\n"
     ]
    }
   ],
   "source": [
    "import os\n",
    "import time\n",
    "source = ['/Users/swa/notes']\n",
    "target_dir = '/Users/swa/backup'\n",
    "today = target_dir + os.sep + time.strftime('%Y%m%d')\n",
    "now = time.strftime('%H%M%S')\n",
    "target = today + os.sep + now + '.zip'\n",
    "target\n",
    "zip_command = 'zip -r {0} {1}'.format(target,\n",
    "                                      ' '.join(source)\n",
    "#zip_command"
   ]
  },
  {
   "cell_type": "markdown",
   "metadata": {},
   "source": [
    "# Fibinocci Series"
   ]
  },
  {
   "cell_type": "code",
   "execution_count": 74,
   "metadata": {},
   "outputs": [
    {
     "name": "stdout",
     "output_type": "stream",
     "text": [
      "0\n",
      "1\n",
      "1\n",
      "2\n",
      "3\n",
      "5\n",
      "8\n",
      "13\n"
     ]
    }
   ],
   "source": [
    "a,b = 0,1\n",
    "while a<20:\n",
    "    print (a)\n",
    "    a,b=b,a+b"
   ]
  },
  {
   "cell_type": "markdown",
   "metadata": {},
   "source": [
    "# Shallow and Deep Copying"
   ]
  },
  {
   "cell_type": "code",
   "execution_count": 93,
   "metadata": {},
   "outputs": [
    {
     "name": "stdout",
     "output_type": "stream",
     "text": [
      "['Suman', 'Archana', 'Sanvith']\n",
      "['Suman', 'Archana', 'Sanvith']\n"
     ]
    }
   ],
   "source": [
    "a=['Suman','Archana']\n",
    "b=a##Deep copy which copies the complete variable\n",
    "a.append('Sanvith')\n",
    "print (a)\n",
    "print (b)"
   ]
  },
  {
   "cell_type": "code",
   "execution_count": 94,
   "metadata": {},
   "outputs": [
    {
     "name": "stdout",
     "output_type": "stream",
     "text": [
      "['Suman', 'Archana', 'Sanvith']\n",
      "['Suman', 'Archana']\n"
     ]
    }
   ],
   "source": [
    "a=['Suman','Archana']\n",
    "b=a[:]  #Shallow copy just copies the data of a to b and not a.\n",
    "a.append('Sanvith')\n",
    "print (a)\n",
    "print (b)"
   ]
  },
  {
   "cell_type": "code",
   "execution_count": 95,
   "metadata": {},
   "outputs": [
    {
     "data": {
      "text/plain": [
       "['Sanvith', 'Suman', 'Archana', 'Sanvith']"
      ]
     },
     "execution_count": 95,
     "metadata": {},
     "output_type": "execute_result"
    }
   ],
   "source": [
    "a.insert(0,'Sanvith')\n",
    "a"
   ]
  },
  {
   "cell_type": "code",
   "execution_count": 96,
   "metadata": {},
   "outputs": [
    {
     "data": {
      "text/plain": [
       "['Archana', 'Sanvith']"
      ]
     },
     "execution_count": 96,
     "metadata": {},
     "output_type": "execute_result"
    }
   ],
   "source": [
    "a[0:2]=[]\n",
    "a"
   ]
  },
  {
   "cell_type": "code",
   "execution_count": 98,
   "metadata": {},
   "outputs": [
    {
     "data": {
      "text/plain": [
       "['Suman', 'Suman', 'Archana', 'Sanvith']"
      ]
     },
     "execution_count": 98,
     "metadata": {},
     "output_type": "execute_result"
    }
   ],
   "source": [
    "a.insert(0,'Suman')\n",
    "a"
   ]
  },
  {
   "cell_type": "code",
   "execution_count": 106,
   "metadata": {},
   "outputs": [
    {
     "data": {
      "text/plain": [
       "['SAS', 'R', 'PYTHON', 'SPARK']"
      ]
     },
     "execution_count": 106,
     "metadata": {},
     "output_type": "execute_result"
    }
   ],
   "source": [
    "tp = ['SAS', 'R', 'PYTHON', 'SPSS']\n",
    "tp.remove('SPSS')\n",
    "tp.append('SPARK')\n",
    "tp"
   ]
  },
  {
   "cell_type": "markdown",
   "metadata": {},
   "source": [
    "# SETS"
   ]
  },
  {
   "cell_type": "code",
   "execution_count": 120,
   "metadata": {},
   "outputs": [
    {
     "name": "stdout",
     "output_type": "stream",
     "text": [
      "{1, 3, 4, 5, 6, 7}\n",
      "{1, 2, 3, 5, 7}\n"
     ]
    }
   ],
   "source": [
    "A = [5,1,3,4,4,5,6,7]\n",
    "B = [3,3,5,5,1,7,2]\n",
    "A,B = set(A),set(B)\n",
    "print (A)\n",
    "print (B)"
   ]
  },
  {
   "cell_type": "code",
   "execution_count": 113,
   "metadata": {},
   "outputs": [
    {
     "data": {
      "text/plain": [
       "{1, 2, 3, 4, 5, 6, 7}"
      ]
     },
     "execution_count": 113,
     "metadata": {},
     "output_type": "execute_result"
    }
   ],
   "source": [
    "A.union(B)"
   ]
  },
  {
   "cell_type": "code",
   "execution_count": 114,
   "metadata": {},
   "outputs": [
    {
     "data": {
      "text/plain": [
       "{1, 3, 5, 7}"
      ]
     },
     "execution_count": 114,
     "metadata": {},
     "output_type": "execute_result"
    }
   ],
   "source": [
    "A.intersection(B)"
   ]
  },
  {
   "cell_type": "code",
   "execution_count": 115,
   "metadata": {},
   "outputs": [
    {
     "data": {
      "text/plain": [
       "{4, 6}"
      ]
     },
     "execution_count": 115,
     "metadata": {},
     "output_type": "execute_result"
    }
   ],
   "source": [
    "A.difference(B)"
   ]
  },
  {
   "cell_type": "code",
   "execution_count": 119,
   "metadata": {},
   "outputs": [
    {
     "data": {
      "text/plain": [
       "{2, 4, 6}"
      ]
     },
     "execution_count": 119,
     "metadata": {},
     "output_type": "execute_result"
    }
   ],
   "source": [
    "A^B"
   ]
  },
  {
   "cell_type": "code",
   "execution_count": 127,
   "metadata": {},
   "outputs": [
    {
     "data": {
      "text/plain": [
       "{2, 4, 6}"
      ]
     },
     "execution_count": 127,
     "metadata": {},
     "output_type": "execute_result"
    }
   ],
   "source": [
    "((A.union(B)).difference(A.intersection(B)))"
   ]
  },
  {
   "cell_type": "markdown",
   "metadata": {},
   "source": [
    "#Important methods SETS\n",
    "#add(), copy(), clear(), pop(), remove(), discard(), issubset(), issuperset(), union(), intersection(), difference(), update()"
   ]
  },
  {
   "cell_type": "markdown",
   "metadata": {},
   "source": [
    "# Dictionary"
   ]
  },
  {
   "cell_type": "code",
   "execution_count": 128,
   "metadata": {},
   "outputs": [],
   "source": [
    "Employee_data = { 101:['Shiva', 24, 'Content Strategist'] ,102:['Udit',25,'Content Strategist'], 103:['Sonam', 28,'Sr Manager'], 104:['Ansari',29,'Product Lead' ],105:['Huzefa',32,'Project Manager' ]}"
   ]
  },
  {
   "cell_type": "code",
   "execution_count": 130,
   "metadata": {},
   "outputs": [
    {
     "data": {
      "text/plain": [
       "'Product Lead'"
      ]
     },
     "execution_count": 130,
     "metadata": {},
     "output_type": "execute_result"
    }
   ],
   "source": [
    "Employee_data[104][2]"
   ]
  },
  {
   "cell_type": "markdown",
   "metadata": {},
   "source": [
    "Important methods of DICT\n",
    "pop(), popitem(), clear(), copy(), get(), items(), fromkeys(), keys(), values(), setdefault(), update()"
   ]
  },
  {
   "cell_type": "code",
   "execution_count": 137,
   "metadata": {},
   "outputs": [
    {
     "data": {
      "text/plain": [
       "'HMM'"
      ]
     },
     "execution_count": 137,
     "metadata": {},
     "output_type": "execute_result"
    }
   ],
   "source": [
    "dct1={'Name': 'Monty', 'Profession': 'Singer' }\n",
    "a1=dct1.get('SUMAN','HMM')\n",
    "a1"
   ]
  },
  {
   "cell_type": "code",
   "execution_count": 141,
   "metadata": {},
   "outputs": [
    {
     "name": "stdout",
     "output_type": "stream",
     "text": [
      "alpha\n",
      "YES\n"
     ]
    }
   ],
   "source": [
    "input_str = input()\n",
    "if 'a' or 'e'or'i' or 'o' or 'u' in input_str.lower()[0]:\n",
    "    print ('YES')\n",
    "else:\n",
    "    print ('NO')"
   ]
  },
  {
   "cell_type": "markdown",
   "metadata": {},
   "source": [
    "# Q\n",
    "Income of a persona and expenses"
   ]
  },
  {
   "cell_type": "code",
   "execution_count": 153,
   "metadata": {},
   "outputs": [
    {
     "data": {
      "text/plain": [
       "[2, 6, 15, 4, 8]"
      ]
     },
     "execution_count": 153,
     "metadata": {},
     "output_type": "execute_result"
    }
   ],
   "source": [
    "L1 = [10,20,30,24,18]\n",
    "L2 = [8,14,15,20,10]\n",
    "L3 = list(range(len(L1)))\n",
    "for i in L3:\n",
    "    L3[i] = L1[i]-L2[i]\n",
    "L3"
   ]
  },
  {
   "cell_type": "code",
   "execution_count": 165,
   "metadata": {},
   "outputs": [
    {
     "name": "stdout",
     "output_type": "stream",
     "text": [
      "10:8:20:14:30:15:24:20:18:10:"
     ]
    }
   ],
   "source": [
    "L1 = [10,20,30,24,18]\n",
    "L2 = [8,14,15,20,10]\n",
    "L3 = []\n",
    "for j in range(0,len(L1)):\n",
    "    #L3[j] = L1[j]-L2[j]\n",
    "    print(L1[j],end=':')\n",
    "    print(L2[j],end=':')\n",
    "#L3"
   ]
  },
  {
   "cell_type": "markdown",
   "metadata": {},
   "source": [
    "# Q \n",
    "PRIME NUMBERS LOGIC"
   ]
  },
  {
   "cell_type": "code",
   "execution_count": 168,
   "metadata": {},
   "outputs": [
    {
     "name": "stdout",
     "output_type": "stream",
     "text": [
      "1\n",
      "2\n",
      "3\n",
      "5\n",
      "7\n",
      "11\n",
      "13\n",
      "17\n",
      "19\n"
     ]
    }
   ],
   "source": [
    "for n in range(1,20):\n",
    "    flag = True\n",
    "    for i in range(2,n):\n",
    "        if n % i == 0:\n",
    "            flag = False\n",
    "            break\n",
    "    if flag:\n",
    "        print(n)\n",
    "        "
   ]
  },
  {
   "cell_type": "code",
   "execution_count": 169,
   "metadata": {},
   "outputs": [
    {
     "name": "stdout",
     "output_type": "stream",
     "text": [
      "100:99:98:97:96:95:94:93:92:91:90:89:88:87:86:85:84:83:82:81:80:79:78:77:76:75:74:73:72:71:70:69:68:67:66:65:64:63:62:61:60:59:58:57:56:55:54:53:52:51:50:49:48:47:46:45:44:43:42:41:40:39:38:37:36:35:34:33:32:31:30:29:28:27:26:25:24:23:22:21:20:19:18:17:16:15:14:13:12:11:10:9:8:7:6:5:4:3:2:1:"
     ]
    }
   ],
   "source": [
    "for i in range(100,0,-1):\n",
    "    print (i,end=':')"
   ]
  },
  {
   "cell_type": "markdown",
   "metadata": {},
   "source": [
    "# Q \n",
    "PRIME NUMBERS"
   ]
  },
  {
   "cell_type": "code",
   "execution_count": 12,
   "metadata": {},
   "outputs": [
    {
     "name": "stdout",
     "output_type": "stream",
     "text": [
      "Enter end NUmber:20\n",
      "1,2,3,5,7,11,13,17,19,"
     ]
    }
   ],
   "source": [
    "n = int(input(\"Enter end NUmber:\"))\n",
    "for i in range(1,n):  # run through series of numbers\n",
    "    flag = True\n",
    "    for j in range(2,i): # no i+1 as the division loop should be without \"i\".Hence i-1 so using \"i\"\n",
    "        if i%j==0:\n",
    "            flag = False\n",
    "    if flag:\n",
    "        print (i,end=',')"
   ]
  },
  {
   "cell_type": "code",
   "execution_count": 1,
   "metadata": {},
   "outputs": [
    {
     "data": {
      "text/plain": [
       "8"
      ]
     },
     "execution_count": 1,
     "metadata": {},
     "output_type": "execute_result"
    }
   ],
   "source": [
    "#power of 2 to power of 3 is 8\n",
    "def powerof(a,b):\n",
    "    c=1\n",
    "    res=1\n",
    "    if (a == 0):\n",
    "        res=0\n",
    "    if (b==0):\n",
    "        res=1\n",
    "    if (a>=1&b>=1):\n",
    "        while(c<=b):\n",
    "            res=a*res\n",
    "            c=c+1\n",
    "        return res\n",
    "powerof(2,3)\n",
    "    "
   ]
  },
  {
   "cell_type": "markdown",
   "metadata": {},
   "source": [
    "# Q \n",
    "Vowel in String"
   ]
  },
  {
   "cell_type": "code",
   "execution_count": 13,
   "metadata": {},
   "outputs": [
    {
     "name": "stdout",
     "output_type": "stream",
     "text": [
      "suman\n",
      "NO\n"
     ]
    }
   ],
   "source": [
    "\n",
    "str=input()\n",
    "if str[0] in 'aeiou':\n",
    "    print ('YES')\n",
    "else:\n",
    "    print('NO')"
   ]
  },
  {
   "cell_type": "code",
   "execution_count": 25,
   "metadata": {},
   "outputs": [
    {
     "data": {
      "text/plain": [
       "['Varma', 'Raj', 'Gupta', 'Sandeep']"
      ]
     },
     "execution_count": 25,
     "metadata": {},
     "output_type": "execute_result"
    }
   ],
   "source": [
    "lst=['VARMA', 'raj', 'Gupta', 'SaNdeeP']\n",
    "nlst = []\n",
    "for word in lst:\n",
    "    nlst.append(word.capitalize())\n",
    "nlst\n",
    "        \n",
    "        "
   ]
  },
  {
   "cell_type": "code",
   "execution_count": 26,
   "metadata": {},
   "outputs": [
    {
     "data": {
      "text/plain": [
       "['Varma', 'Raj', 'Gupta', 'Sandeep']"
      ]
     },
     "execution_count": 26,
     "metadata": {},
     "output_type": "execute_result"
    }
   ],
   "source": [
    "lst=['VARMA', 'raj', 'Gupta', 'SaNdeeP']\n",
    "nlst = []\n",
    "for word in lst:\n",
    "    word = word[0].upper()+word[1:].lower()\n",
    "    nlst.append(word)\n",
    "nlst"
   ]
  },
  {
   "cell_type": "markdown",
   "metadata": {},
   "source": [
    "# Q\n",
    "While loops"
   ]
  },
  {
   "cell_type": "code",
   "execution_count": 4,
   "metadata": {},
   "outputs": [
    {
     "name": "stdout",
     "output_type": "stream",
     "text": [
      "\n",
      "s\n",
      "s\n",
      "quit\n"
     ]
    }
   ],
   "source": [
    "ch = ''\n",
    "while ch != 'quit':\n",
    "    print (ch)\n",
    "    ch = input()\n",
    "    "
   ]
  },
  {
   "cell_type": "code",
   "execution_count": 3,
   "metadata": {},
   "outputs": [
    {
     "name": "stdout",
     "output_type": "stream",
     "text": [
      "s\n",
      "s\n",
      "3\n",
      "3\n",
      "quit\n"
     ]
    }
   ],
   "source": [
    "ch = ''\n",
    "while True:\n",
    "    ch = input()\n",
    "    if ch == 'quit':\n",
    "        break\n",
    "    print (ch)"
   ]
  },
  {
   "cell_type": "markdown",
   "metadata": {},
   "source": [
    "# Dict examples"
   ]
  },
  {
   "cell_type": "code",
   "execution_count": 19,
   "metadata": {},
   "outputs": [
    {
     "data": {
      "text/plain": [
       "{'Hans': 'active', '景太郎': 'active'}"
      ]
     },
     "execution_count": 19,
     "metadata": {},
     "output_type": "execute_result"
    }
   ],
   "source": [
    "users = {'Hans': 'active', 'Éléonore': 'inactive', '景太郎': 'active'}\n",
    "for user,status in users.copy().items():\n",
    "    if status == 'inactive':\n",
    "        del users[user]\n",
    "users"
   ]
  },
  {
   "cell_type": "code",
   "execution_count": 20,
   "metadata": {},
   "outputs": [
    {
     "data": {
      "text/plain": [
       "{'Hans': 'active', '景太郎': 'active'}"
      ]
     },
     "execution_count": 20,
     "metadata": {},
     "output_type": "execute_result"
    }
   ],
   "source": [
    "#users = {'Hans': 'active', 'Éléonore': 'inactive', '景太郎': 'active'}\n",
    "n_users={}\n",
    "for user,status in users.items():\n",
    "    if status == 'active':\n",
    "        n_users[user] = status\n",
    "n_users\n",
    "        "
   ]
  },
  {
   "cell_type": "markdown",
   "metadata": {},
   "source": [
    "# HCF \n",
    "Highest Common Factor"
   ]
  },
  {
   "cell_type": "code",
   "execution_count": 31,
   "metadata": {},
   "outputs": [
    {
     "name": "stdout",
     "output_type": "stream",
     "text": [
      "Enter two numbers:20,44\n"
     ]
    },
    {
     "data": {
      "text/plain": [
       "4"
      ]
     },
     "execution_count": 31,
     "metadata": {},
     "output_type": "execute_result"
    }
   ],
   "source": [
    "input_list = (input('Enter two numbers:')).split(',')\n",
    "x,y = int(input_list[0]),int(input_list[1])\n",
    "\n",
    "if x>y:\n",
    "    smaller = y\n",
    "else:\n",
    "    smaller = x\n",
    "\n",
    "for i in range(1,smaller+1):\n",
    "    if ((x%i==0)&(y%i==0)):\n",
    "        hcf=i\n",
    "hcf"
   ]
  },
  {
   "cell_type": "code",
   "execution_count": 44,
   "metadata": {},
   "outputs": [
    {
     "data": {
      "text/plain": [
       "'* * * *'"
      ]
     },
     "execution_count": 44,
     "metadata": {},
     "output_type": "execute_result"
    }
   ],
   "source": [
    "str1='* * * * *'\n",
    "str1[0:-2]"
   ]
  },
  {
   "cell_type": "code",
   "execution_count": 38,
   "metadata": {},
   "outputs": [
    {
     "name": "stdout",
     "output_type": "stream",
     "text": [
      "* \n",
      "* * \n",
      "* * * \n",
      "* * * * \n",
      "* * * * * \n",
      "* * * * \n",
      "* * * \n",
      "* * \n",
      "* \n"
     ]
    }
   ],
   "source": [
    "str1=''\n",
    "for i in range(0,9):\n",
    "    if i<5:\n",
    "        str1 += '* '\n",
    "        print (str1)\n",
    "    elif i>3:\n",
    "        str1 = str1[:-2]\n",
    "        print (str1)\n",
    "        "
   ]
  },
  {
   "cell_type": "code",
   "execution_count": 46,
   "metadata": {},
   "outputs": [
    {
     "name": "stdout",
     "output_type": "stream",
     "text": [
      "None\n",
      "None\n",
      "None\n"
     ]
    }
   ],
   "source": [
    "d = {0, 1, 2}\n",
    "for x in d:\n",
    "    print(d.add(x))"
   ]
  },
  {
   "cell_type": "code",
   "execution_count": 48,
   "metadata": {},
   "outputs": [
    {
     "data": {
      "text/plain": [
       "{0, 1, 2}"
      ]
     },
     "execution_count": 48,
     "metadata": {},
     "output_type": "execute_result"
    }
   ],
   "source": [
    "d.add(0)\n",
    "d"
   ]
  },
  {
   "cell_type": "markdown",
   "metadata": {},
   "source": [
    "# List comprehansion"
   ]
  },
  {
   "cell_type": "code",
   "execution_count": 51,
   "metadata": {},
   "outputs": [
    {
     "data": {
      "text/plain": [
       "[2, 6, 15, 4, 8]"
      ]
     },
     "execution_count": 51,
     "metadata": {},
     "output_type": "execute_result"
    }
   ],
   "source": [
    "L1 = [10,20,30,24,18]\n",
    "L2 = [8,14,15,20,10]\n",
    "L3=[(L1[i]-L2[i]) for i in range(len(L1))]\n",
    "L3"
   ]
  },
  {
   "cell_type": "code",
   "execution_count": 56,
   "metadata": {},
   "outputs": [
    {
     "data": {
      "text/plain": [
       "[5, 12, 15, 24, 25, 36, 35, 48, 45, 60]"
      ]
     },
     "execution_count": 56,
     "metadata": {},
     "output_type": "execute_result"
    }
   ],
   "source": [
    "[n*6 if n%2 == 0 else n*5 for n in range(1,11)]"
   ]
  },
  {
   "cell_type": "code",
   "execution_count": 66,
   "metadata": {},
   "outputs": [
    {
     "data": {
      "text/plain": [
       "[5, 12, 15, 24, 25, 36, 35, 48, 45, 60]"
      ]
     },
     "execution_count": 66,
     "metadata": {},
     "output_type": "execute_result"
    }
   ],
   "source": [
    "lst = []\n",
    "for i in range(1,11):\n",
    "    if i%2 ==0:\n",
    "        lst.append(i*6)\n",
    "    else:\n",
    "        lst.append(i*5)\n",
    "lst\n",
    "        "
   ]
  },
  {
   "cell_type": "code",
   "execution_count": 67,
   "metadata": {},
   "outputs": [
    {
     "name": "stdout",
     "output_type": "stream",
     "text": [
      "[1, 2, 3, 4, 5, 6, 7, 8, 9, 10, 2, 4, 6, 8, 10, 12, 14, 16, 18, 20, 3, 6, 9, 12, 15, 18, 21, 24, 27, 30]\n"
     ]
    }
   ],
   "source": [
    "lst1=[i*j for i in range(1,4) for j in range(1,11)]\n",
    "print (lst1)"
   ]
  },
  {
   "cell_type": "code",
   "execution_count": 71,
   "metadata": {},
   "outputs": [
    {
     "name": "stdout",
     "output_type": "stream",
     "text": [
      "{2: 4, 4: 16, 6: 36, 8: 64, 10: 100, 12: 144, 14: 196, 16: 256, 18: 324, 20: 400}\n"
     ]
    }
   ],
   "source": [
    "lst2={i:i**2 for i in range(2,21) if i%2 == 0}\n",
    "print (lst2,sep='')"
   ]
  },
  {
   "cell_type": "code",
   "execution_count": 74,
   "metadata": {},
   "outputs": [
    {
     "data": {
      "text/plain": [
       "['old', 'apple', 'item', 'euphoria']"
      ]
     },
     "execution_count": 74,
     "metadata": {},
     "output_type": "execute_result"
    }
   ],
   "source": [
    "input_list=['wood', 'old', 'apple', 'big', 'item', 'euphoria'] \n",
    "[w for w in input_list if w[0].lower() in 'aeiou']"
   ]
  },
  {
   "cell_type": "markdown",
   "metadata": {},
   "source": [
    "# Facto Function"
   ]
  },
  {
   "cell_type": "code",
   "execution_count": 80,
   "metadata": {},
   "outputs": [
    {
     "data": {
      "text/plain": [
       "120"
      ]
     },
     "execution_count": 80,
     "metadata": {},
     "output_type": "execute_result"
    }
   ],
   "source": [
    "def facto(N):\n",
    "    fact = 1\n",
    "    for i in range(1,N+1):\n",
    "        fact *= i\n",
    "    return fact\n",
    "facto(5)"
   ]
  },
  {
   "cell_type": "code",
   "execution_count": 86,
   "metadata": {},
   "outputs": [
    {
     "name": "stdout",
     "output_type": "stream",
     "text": [
      "1\n",
      "[2, 3, 4]\n",
      "5\n"
     ]
    }
   ],
   "source": [
    "(a,*b,c)=[1,2,3,4,5]\n",
    "print (a)\n",
    "print (b)\n",
    "print (c)"
   ]
  },
  {
   "cell_type": "markdown",
   "metadata": {},
   "source": [
    "# Fibbinoci NUmber"
   ]
  },
  {
   "cell_type": "code",
   "execution_count": 91,
   "metadata": {},
   "outputs": [
    {
     "data": {
      "text/plain": [
       "89"
      ]
     },
     "execution_count": 91,
     "metadata": {},
     "output_type": "execute_result"
    }
   ],
   "source": [
    "def fib(n):\n",
    "    if n == 0:\n",
    "        return 0\n",
    "    elif n == 1:\n",
    "        return 1\n",
    "    else:\n",
    "        return fib(n-1)+fib(n-2)\n",
    "fib(11)"
   ]
  },
  {
   "cell_type": "markdown",
   "metadata": {},
   "source": [
    "# LAMBDA FUNCTION"
   ]
  },
  {
   "cell_type": "code",
   "execution_count": 99,
   "metadata": {},
   "outputs": [
    {
     "data": {
      "text/plain": [
       "'A,B'"
      ]
     },
     "execution_count": 99,
     "metadata": {},
     "output_type": "execute_result"
    }
   ],
   "source": [
    "join_by_comma = lambda x: ','.join(x)\n",
    "join_by_comma(['A','B'])"
   ]
  },
  {
   "cell_type": "code",
   "execution_count": 100,
   "metadata": {},
   "outputs": [
    {
     "data": {
      "text/plain": [
       "'suman#samarthi'"
      ]
     },
     "execution_count": 100,
     "metadata": {},
     "output_type": "execute_result"
    }
   ],
   "source": [
    "s='suman samarthi'\n",
    "s=s.split(' ')\n",
    "'#'.join(s)"
   ]
  },
  {
   "cell_type": "code",
   "execution_count": 101,
   "metadata": {},
   "outputs": [
    {
     "data": {
      "text/plain": [
       "9996"
      ]
     },
     "execution_count": 101,
     "metadata": {},
     "output_type": "execute_result"
    }
   ],
   "source": [
    "min=lambda x,y:x if x<y else y\n",
    "min(101*99,102*98)"
   ]
  },
  {
   "cell_type": "code",
   "execution_count": 105,
   "metadata": {},
   "outputs": [
    {
     "data": {
      "text/plain": [
       "140224279446288"
      ]
     },
     "execution_count": 105,
     "metadata": {},
     "output_type": "execute_result"
    }
   ],
   "source": [
    "id(min)"
   ]
  },
  {
   "cell_type": "markdown",
   "metadata": {},
   "source": [
    "# MAP Example"
   ]
  },
  {
   "cell_type": "code",
   "execution_count": 108,
   "metadata": {},
   "outputs": [
    {
     "data": {
      "text/plain": [
       "['Aman Singh', 'Akash Verma', 'Aditya Yadav']"
      ]
     },
     "execution_count": 108,
     "metadata": {},
     "output_type": "execute_result"
    }
   ],
   "source": [
    "first_name=[\"aman\",\"akash\",\"aditya\"]\n",
    "last_name=[\"singh\",\"verma\",\"yadav\"]\n",
    "mylambda = lambda x,y:x[0].upper()+x[1:]+' '+y[0].upper()+y[1:]\n",
    "list(map(mylambda,first_name,last_name))"
   ]
  },
  {
   "cell_type": "code",
   "execution_count": 113,
   "metadata": {},
   "outputs": [
    {
     "data": {
      "text/plain": [
       "3"
      ]
     },
     "execution_count": 113,
     "metadata": {},
     "output_type": "execute_result"
    }
   ],
   "source": [
    "lst = ['Aman Singh', 'Akash Verma', 'Aditya Yadav']\n",
    "len(list(filter(lambda x :x[0]=='A',lst)))"
   ]
  },
  {
   "cell_type": "code",
   "execution_count": 114,
   "metadata": {},
   "outputs": [
    {
     "data": {
      "text/plain": [
       "3"
      ]
     },
     "execution_count": 114,
     "metadata": {},
     "output_type": "execute_result"
    }
   ],
   "source": [
    "lst = ['Aman Singh', 'Akash Verma', 'Aditya Yadav']\n",
    "len(list(map(lambda x :x[0]=='A',lst)))"
   ]
  },
  {
   "cell_type": "code",
   "execution_count": 117,
   "metadata": {},
   "outputs": [
    {
     "data": {
      "text/plain": [
       "['Ankur Narang', 'Avik Sarkar', 'Kiran R', 'Nitin Sareen']"
      ]
     },
     "execution_count": 117,
     "metadata": {},
     "output_type": "execute_result"
    }
   ],
   "source": [
    "lst1 = [ ['Ankur', 'Avik', 'Kiran', 'Nitin'], ['Narang', 'Sarkar', 'R', 'Sareen']]\n",
    "first_name = lst1[0]\n",
    "last_name = lst1[1]\n",
    "list(map(lambda x,y:x+' '+y,first_name,last_name))"
   ]
  },
  {
   "cell_type": "code",
   "execution_count": 119,
   "metadata": {},
   "outputs": [
    {
     "data": {
      "text/plain": [
       "10"
      ]
     },
     "execution_count": 119,
     "metadata": {},
     "output_type": "execute_result"
    }
   ],
   "source": [
    "from functools import reduce\n",
    "l1 = [1,2,3,4]\n",
    "reduce(lambda x,y:x+y,l1)"
   ]
  },
  {
   "cell_type": "code",
   "execution_count": 122,
   "metadata": {},
   "outputs": [
    {
     "data": {
      "text/plain": [
       "[True, True, True]"
      ]
     },
     "execution_count": 122,
     "metadata": {},
     "output_type": "execute_result"
    }
   ],
   "source": [
    "lst = ['Aman Singh', 'Akash Verma', 'Aditya Yadav']\n",
    "A= list(map(lambda x:x[0]=='A',lst))\n",
    "A"
   ]
  },
  {
   "cell_type": "markdown",
   "metadata": {},
   "source": [
    "# OOPS"
   ]
  },
  {
   "cell_type": "code",
   "execution_count": 137,
   "metadata": {},
   "outputs": [
    {
     "name": "stdout",
     "output_type": "stream",
     "text": [
      "Rectangle Length= 10 \n",
      "Rectangle Breadth= 5\n"
     ]
    }
   ],
   "source": [
    "class Rectangle():\n",
    "    def __init__(self):\n",
    "        self.length = 10\n",
    "        self.breadth = 5\n",
    "rect = Rectangle()\n",
    "print('Rectangle Length=',rect.length,'\\nRectangle Breadth=',rect.breadth) "
   ]
  },
  {
   "cell_type": "code",
   "execution_count": 141,
   "metadata": {},
   "outputs": [
    {
     "name": "stdout",
     "output_type": "stream",
     "text": [
      "Rectangle Length= 20 \n",
      "Rectangle Breadth= 10\n"
     ]
    }
   ],
   "source": [
    "class Rectangle():\n",
    "    def __init__(self,length,breadth):\n",
    "        self.length=length\n",
    "        self.breadth=breadth\n",
    "rect=Rectangle(20,10)\n",
    "print('Rectangle Length=',rect.length,'\\nRectangle Breadth=',rect.breadth) "
   ]
  },
  {
   "cell_type": "code",
   "execution_count": 145,
   "metadata": {},
   "outputs": [
    {
     "name": "stdout",
     "output_type": "stream",
     "text": [
      "Circle PI: 10 \n",
      "Circle Radius: 3.14\n"
     ]
    }
   ],
   "source": [
    "class Circle():\n",
    "    def __init__(self,radius,pi):\n",
    "        self.pi = pi\n",
    "        self.radius=radius\n",
    "circle_1 = Circle(3.14,10)\n",
    "print ('Circle PI:',circle_1.pi,'\\nCircle Radius:',circle_1.radius)"
   ]
  },
  {
   "cell_type": "code",
   "execution_count": 160,
   "metadata": {},
   "outputs": [
    {
     "data": {
      "text/plain": [
       "10"
      ]
     },
     "execution_count": 160,
     "metadata": {},
     "output_type": "execute_result"
    }
   ],
   "source": [
    "class Circle():\n",
    "    pi = 3.14\n",
    "    def __init__(self,radius):\n",
    "        self.radius=radius\n",
    "circle_2 = Circle(10)\n",
    "Circle.pi=10\n",
    "#circle_2.pi=20\n",
    "circle_2.pi"
   ]
  },
  {
   "cell_type": "code",
   "execution_count": 161,
   "metadata": {},
   "outputs": [
    {
     "data": {
      "text/plain": [
       "10"
      ]
     },
     "execution_count": 161,
     "metadata": {},
     "output_type": "execute_result"
    }
   ],
   "source": [
    "circle_3 = Circle(30)\n",
    "circle_3.pi"
   ]
  },
  {
   "cell_type": "code",
   "execution_count": 175,
   "metadata": {},
   "outputs": [],
   "source": [
    "class A:\n",
    "    def __init__(self):\n",
    "        self.age = 10\n",
    "        self.name = 'Name'"
   ]
  },
  {
   "cell_type": "code",
   "execution_count": 178,
   "metadata": {},
   "outputs": [
    {
     "ename": "TypeError",
     "evalue": "__init__() takes 1 positional argument but 3 were given",
     "output_type": "error",
     "traceback": [
      "\u001b[0;31m---------------------------------------------------------------------------\u001b[0m",
      "\u001b[0;31mTypeError\u001b[0m                                 Traceback (most recent call last)",
      "\u001b[0;32m<ipython-input-178-2ebbafb16e12>\u001b[0m in \u001b[0;36m<module>\u001b[0;34m\u001b[0m\n\u001b[0;32m----> 1\u001b[0;31m \u001b[0ma\u001b[0m\u001b[0;34m=\u001b[0m\u001b[0mA\u001b[0m\u001b[0;34m(\u001b[0m\u001b[0;36m10\u001b[0m\u001b[0;34m,\u001b[0m\u001b[0;34m'20'\u001b[0m\u001b[0;34m)\u001b[0m\u001b[0;34m\u001b[0m\u001b[0;34m\u001b[0m\u001b[0m\n\u001b[0m",
      "\u001b[0;31mTypeError\u001b[0m: __init__() takes 1 positional argument but 3 were given"
     ]
    }
   ],
   "source": [
    "a=A(10,'20')"
   ]
  },
  {
   "cell_type": "code",
   "execution_count": 244,
   "metadata": {},
   "outputs": [],
   "source": [
    "class A():\n",
    "    x = 10\n",
    "    def __init__(self,y,z):\n",
    "        self.y=y\n",
    "        self.z=z\n",
    "    def update_y(self):\n",
    "        self.y = self.y *self.x\n",
    "        #self.z = self.z * self.x\n",
    "    @classmethod\n",
    "    def class_update(cls):\n",
    "        #self.z = self.z+20\n",
    "        cls.x = 20\n",
    "        return cls.x"
   ]
  },
  {
   "cell_type": "code",
   "execution_count": 245,
   "metadata": {},
   "outputs": [],
   "source": [
    "A1 = A(3,4)\n",
    "A2 = A(5,6)"
   ]
  },
  {
   "cell_type": "code",
   "execution_count": 246,
   "metadata": {},
   "outputs": [],
   "source": [
    "A1.update_y()"
   ]
  },
  {
   "cell_type": "code",
   "execution_count": 247,
   "metadata": {},
   "outputs": [
    {
     "data": {
      "text/plain": [
       "36"
      ]
     },
     "execution_count": 247,
     "metadata": {},
     "output_type": "execute_result"
    }
   ],
   "source": [
    "A1.y+A2.z"
   ]
  },
  {
   "cell_type": "code",
   "execution_count": 248,
   "metadata": {},
   "outputs": [
    {
     "data": {
      "text/plain": [
       "10"
      ]
     },
     "execution_count": 248,
     "metadata": {},
     "output_type": "execute_result"
    }
   ],
   "source": [
    "A.x"
   ]
  },
  {
   "cell_type": "code",
   "execution_count": 249,
   "metadata": {},
   "outputs": [
    {
     "data": {
      "text/plain": [
       "10"
      ]
     },
     "execution_count": 249,
     "metadata": {},
     "output_type": "execute_result"
    }
   ],
   "source": [
    "A1.x"
   ]
  },
  {
   "cell_type": "code",
   "execution_count": 250,
   "metadata": {},
   "outputs": [
    {
     "data": {
      "text/plain": [
       "20"
      ]
     },
     "execution_count": 250,
     "metadata": {},
     "output_type": "execute_result"
    }
   ],
   "source": [
    "A.class_update()"
   ]
  },
  {
   "cell_type": "code",
   "execution_count": 251,
   "metadata": {},
   "outputs": [
    {
     "data": {
      "text/plain": [
       "20"
      ]
     },
     "execution_count": 251,
     "metadata": {},
     "output_type": "execute_result"
    }
   ],
   "source": [
    "A.x"
   ]
  },
  {
   "cell_type": "code",
   "execution_count": 252,
   "metadata": {},
   "outputs": [
    {
     "data": {
      "text/plain": [
       "20"
      ]
     },
     "execution_count": 252,
     "metadata": {},
     "output_type": "execute_result"
    }
   ],
   "source": [
    "A1.x"
   ]
  },
  {
   "cell_type": "code",
   "execution_count": 331,
   "metadata": {},
   "outputs": [],
   "source": [
    "class Circle():\n",
    "    pi = 3.14  #Class variable\n",
    "    def __init__(self,radius):  #Instance Method\n",
    "        self.radius = radius  #Instance variable\n",
    "    def calculate_area(self):\n",
    "        return self.pi*self.radius\n",
    "    @classmethod\n",
    "    def change_pi(cls): #Class method(#Bound to class #need class obj as the first argument)\n",
    "        cls.pi = 3.144\n",
    "        #self.radius = 20  #Cannot call instance variable or instance method\n",
    "        return cls.pi\n",
    "    @staticmethod #class mthiod(#Bound to the class )\n",
    "    def static_method():\n",
    "        #self.radius = 20  #Cannot call instance variable or instance method\n",
    "        print ('I am static method')"
   ]
  },
  {
   "cell_type": "code",
   "execution_count": 322,
   "metadata": {},
   "outputs": [],
   "source": [
    "circle=Circle(10)"
   ]
  },
  {
   "cell_type": "code",
   "execution_count": 323,
   "metadata": {},
   "outputs": [
    {
     "data": {
      "text/plain": [
       "3.14"
      ]
     },
     "execution_count": 323,
     "metadata": {},
     "output_type": "execute_result"
    }
   ],
   "source": [
    "circle.pi"
   ]
  },
  {
   "cell_type": "code",
   "execution_count": 324,
   "metadata": {},
   "outputs": [
    {
     "data": {
      "text/plain": [
       "31.400000000000002"
      ]
     },
     "execution_count": 324,
     "metadata": {},
     "output_type": "execute_result"
    }
   ],
   "source": [
    "circle.calculate_area()"
   ]
  },
  {
   "cell_type": "code",
   "execution_count": 325,
   "metadata": {},
   "outputs": [
    {
     "data": {
      "text/plain": [
       "3.144"
      ]
     },
     "execution_count": 325,
     "metadata": {},
     "output_type": "execute_result"
    }
   ],
   "source": [
    "circle.change_pi()"
   ]
  },
  {
   "cell_type": "code",
   "execution_count": 326,
   "metadata": {},
   "outputs": [
    {
     "data": {
      "text/plain": [
       "3.144"
      ]
     },
     "execution_count": 326,
     "metadata": {},
     "output_type": "execute_result"
    }
   ],
   "source": [
    "Circle.change_pi()"
   ]
  },
  {
   "cell_type": "code",
   "execution_count": 327,
   "metadata": {},
   "outputs": [
    {
     "data": {
      "text/plain": [
       "3.144"
      ]
     },
     "execution_count": 327,
     "metadata": {},
     "output_type": "execute_result"
    }
   ],
   "source": [
    "circle.pi"
   ]
  },
  {
   "cell_type": "code",
   "execution_count": 328,
   "metadata": {},
   "outputs": [
    {
     "data": {
      "text/plain": [
       "3.144"
      ]
     },
     "execution_count": 328,
     "metadata": {},
     "output_type": "execute_result"
    }
   ],
   "source": [
    "Circle.pi"
   ]
  },
  {
   "cell_type": "code",
   "execution_count": 329,
   "metadata": {},
   "outputs": [
    {
     "name": "stdout",
     "output_type": "stream",
     "text": [
      "I am static method\n"
     ]
    }
   ],
   "source": [
    "Circle.static_method()"
   ]
  },
  {
   "cell_type": "code",
   "execution_count": 330,
   "metadata": {},
   "outputs": [
    {
     "name": "stdout",
     "output_type": "stream",
     "text": [
      "I am static method\n"
     ]
    }
   ],
   "source": [
    "circle.static_method()"
   ]
  },
  {
   "cell_type": "markdown",
   "metadata": {},
   "source": [
    "# Inheritance and Overriding"
   ]
  },
  {
   "cell_type": "code",
   "execution_count": 349,
   "metadata": {},
   "outputs": [],
   "source": [
    "class shape():\n",
    "    def __init__(self,color):\n",
    "        self.color = color\n",
    "    def calculate_area(self):  #Method Instanciated will be overwritten by child class\n",
    "        pass\n",
    "    def color_the_price(self):\n",
    "        color_price = {'red':10,'blue':15,'green':20}\n",
    "        return self.calculate_area() * color_price[self.color]\n",
    "        \n",
    "class circle(shape):\n",
    "    pi = 3.14\n",
    "    def __init__(self,radius):\n",
    "        self.radius = radius\n",
    "    def calculate_area(self):\n",
    "        return circle.pi * self.radius\n",
    "class Rectangle(shape):\n",
    "    def __init__(self,length,breadth):\n",
    "        self.length = length\n",
    "        self.breadth = breadth\n",
    "    def calculate_area(self):\n",
    "        return self.length*self.breadth\n",
    "    def __str__(self):\n",
    "        return \"AREA OF RECTANGLE:\"+str(self.calculate_area())"
   ]
  },
  {
   "cell_type": "code",
   "execution_count": 350,
   "metadata": {},
   "outputs": [
    {
     "name": "stdout",
     "output_type": "stream",
     "text": [
      "COLOR: green RADIUS: 10 COLOR_PRICE 628.0\n"
     ]
    }
   ],
   "source": [
    "c=circle(10)\n",
    "c.color='green'\n",
    "print ('COLOR:',c.color,'RADIUS:',c.radius,'COLOR_PRICE',c.color_the_price())"
   ]
  },
  {
   "cell_type": "code",
   "execution_count": 353,
   "metadata": {},
   "outputs": [
    {
     "name": "stdout",
     "output_type": "stream",
     "text": [
      "LENGTH: 10 BREADTH: 20 COLOR_THE_PRICE 3000\n"
     ]
    }
   ],
   "source": [
    "r=Rectangle(10,20)\n",
    "r.color='blue'\n",
    "print ('LENGTH:',r.length,'BREADTH:',r.breadth,'COLOR_THE_PRICE',r.color_the_price())\n",
    "\n",
    "#print (r)"
   ]
  },
  {
   "cell_type": "code",
   "execution_count": 21,
   "metadata": {},
   "outputs": [
    {
     "data": {
      "text/plain": [
       "<re.Match object; span=(0, 9), match='155.2.3.4'>"
      ]
     },
     "execution_count": 21,
     "metadata": {},
     "output_type": "execute_result"
    }
   ],
   "source": [
    "#IP Address Validation\n",
    "string = '155.2.3.4'\n",
    "import re\n",
    "pattern = re.compile('((([0-9]|[1-9][0-9]|1[0-9][0-9]|2[0-4][0-9]|25[0-5])\\.){3}([0-9]|[1-9][0-9]|1[0-9][0-9]|2[0-4][0-9]|25[0-5]))')\n",
    "match = pattern.search(string=string)\n",
    "match"
   ]
  },
  {
   "cell_type": "code",
   "execution_count": 30,
   "metadata": {},
   "outputs": [],
   "source": [
    "string = '155.2.3.2'\n",
    "import re  \n",
    "pattern = re.compile('\\d+\\.\\d+\\.\\d+\\.\\d+')\n",
    "match = pattern.search(string=string)\n",
    "match"
   ]
  },
  {
   "cell_type": "code",
   "execution_count": 41,
   "metadata": {},
   "outputs": [
    {
     "data": {
      "text/plain": [
       "<re.Match object; span=(0, 9), match='155.2.3.2'>"
      ]
     },
     "execution_count": 41,
     "metadata": {},
     "output_type": "execute_result"
    }
   ],
   "source": [
    "# 0-9:[0-9]\n",
    "# 10-99: [1-9][0-9]\n",
    "# 100-199: 1[0-9][0-9]\n",
    "# 200-249: 2[0-4][0-9]\n",
    "# 250-255: 25[0-5]\n",
    "\n",
    "string = '155.2.3.2300'\n",
    "pattern = re.compile('((([0-9]|[1-9][0-9]|1[0-9][0-9]|2[0-4][0-9]|25[0-5])\\.){3}([0-9]|[1-9][0-9]|1[0-9][0-9]|2[0-4][0-9]|25[0-5]))')\n",
    "match = pattern.search(string=string)\n",
    "match"
   ]
  },
  {
   "cell_type": "code",
   "execution_count": null,
   "metadata": {},
   "outputs": [],
   "source": []
  }
 ],
 "metadata": {
  "kernelspec": {
   "display_name": "Python 3",
   "language": "python",
   "name": "python3"
  },
  "language_info": {
   "codemirror_mode": {
    "name": "ipython",
    "version": 3
   },
   "file_extension": ".py",
   "mimetype": "text/x-python",
   "name": "python",
   "nbconvert_exporter": "python",
   "pygments_lexer": "ipython3",
   "version": "3.8.3"
  }
 },
 "nbformat": 4,
 "nbformat_minor": 4
}
