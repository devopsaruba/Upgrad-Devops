{
 "cells": [
  {
   "cell_type": "code",
   "execution_count": 14,
   "metadata": {},
   "outputs": [
    {
     "name": "stdout",
     "output_type": "stream",
     "text": [
      "2022-06-05 13:54:34.852985\n",
      "2022-06-05\n",
      "13:54:34.853229\n",
      "13\n",
      "853313\n"
     ]
    }
   ],
   "source": [
    "from datetime import datetime\n",
    "print (datetime.now())\n",
    "print (datetime.now().date())\n",
    "print (datetime.now().time())\n",
    "print (datetime.now().hour)\n",
    "print (datetime.now().microsecond)"
   ]
  },
  {
   "cell_type": "markdown",
   "metadata": {},
   "source": [
    "# Date time to EPOCH"
   ]
  },
  {
   "cell_type": "code",
   "execution_count": 74,
   "metadata": {},
   "outputs": [
    {
     "name": "stdout",
     "output_type": "stream",
     "text": [
      "DATETIME:Sun Jun  5 14:15:06 2022\n",
      "EPOCH TIME: 1654418706.086321\n"
     ]
    }
   ],
   "source": [
    "from datetime import datetime\n",
    "date_now = datetime.now()\n",
    "epoch = date_now.timestamp()##timestamp gives EPOCH time value \n",
    "print (f\"DATETIME:{date_now.strftime('%c')}\")\n",
    "print (f\"EPOCH TIME: {epoch}\")"
   ]
  },
  {
   "cell_type": "markdown",
   "metadata": {},
   "source": [
    "# Epoch to Datetime"
   ]
  },
  {
   "cell_type": "code",
   "execution_count": 75,
   "metadata": {},
   "outputs": [
    {
     "data": {
      "text/plain": [
       "'Sun Jun  5 14:15:06 2022'"
      ]
     },
     "execution_count": 75,
     "metadata": {},
     "output_type": "execute_result"
    }
   ],
   "source": [
    "from datetime import datetime\n",
    "datetime.fromtimestamp(float(epoch)).strftime('%c') #from timestamp has epocbh"
   ]
  },
  {
   "cell_type": "markdown",
   "metadata": {},
   "source": [
    "# date time print in format"
   ]
  },
  {
   "cell_type": "code",
   "execution_count": 97,
   "metadata": {},
   "outputs": [
    {
     "name": "stdout",
     "output_type": "stream",
     "text": [
      "DATE&TIME         :2022-06-05 14:20:12.121762\n",
      "FORMATTED DATIME  : 22-06-05\n",
      "FORMATED DATETIME : 22-06-05 14-20-1654419012\n"
     ]
    }
   ],
   "source": [
    "current = datetime.now()\n",
    "print (f'DATE&TIME         :{current}')\n",
    "print (f\"FORMATTED DATIME  : {current.strftime('%y-%m-%d')}\")\n",
    "print (f\"FORMATED DATETIME : {current.strftime('%y-%m-%d %H-%M-%s')}\")"
   ]
  },
  {
   "cell_type": "code",
   "execution_count": 129,
   "metadata": {},
   "outputs": [
    {
     "name": "stdout",
     "output_type": "stream",
     "text": [
      "\n",
      "Example 1: Sunday 6 2022\n",
      "\n",
      "Example 3: 2 PM 12\n",
      "\n",
      "Example 4: 14:20:12\n",
      "\n",
      "Example 4: 14:20:12\n"
     ]
    }
   ],
   "source": [
    "s = current.strftime(\"%A %-m %-Y\")\n",
    "print('\\nExample 1:', s)\n",
    "s = current.strftime(\"%-I %p %S\")\n",
    "print('\\nExample 3:', s)\n",
    "s = current.strftime(\"%H:%M:%S\")\n",
    "print('\\nExample 4:', s)\n",
    "s = current.strftime(\"%H:%M:%S\")\n",
    "print('\\nExample 4:', s)"
   ]
  },
  {
   "cell_type": "markdown",
   "metadata": {},
   "source": [
    "# time delta"
   ]
  },
  {
   "cell_type": "code",
   "execution_count": 151,
   "metadata": {},
   "outputs": [
    {
     "name": "stdout",
     "output_type": "stream",
     "text": [
      "TODAY    :2022-06-05 14:39:29.731914\n",
      "AFTERYEAR:2023-06-05 14:39:29.731914\n"
     ]
    }
   ],
   "source": [
    "from datetime import datetime,timedelta\n",
    "today=datetime.today()\n",
    "afteryear=today+timedelta(days=365)\n",
    "print (f\"TODAY    :{today}\")\n",
    "print (f\"AFTERYEAR:{afteryear}\") "
   ]
  },
  {
   "cell_type": "code",
   "execution_count": 163,
   "metadata": {},
   "outputs": [
    {
     "name": "stdout",
     "output_type": "stream",
     "text": [
      "2022-06-05 14:43:04.108367\n",
      "2022-06-05 14:43:04.108489\n"
     ]
    }
   ],
   "source": [
    "print (datetime.now())\n",
    "print (datetime.today())##both are same OP's"
   ]
  },
  {
   "cell_type": "markdown",
   "metadata": {},
   "source": [
    "# time zones"
   ]
  },
  {
   "cell_type": "code",
   "execution_count": 167,
   "metadata": {},
   "outputs": [],
   "source": [
    "from datetime import datetime,timedelta,timezone\n",
    "from pytz import timezone"
   ]
  },
  {
   "cell_type": "code",
   "execution_count": 204,
   "metadata": {},
   "outputs": [
    {
     "name": "stdout",
     "output_type": "stream",
     "text": [
      "2022-06-05 09-41-33 UTC+0000\n",
      "Asia/Kolkata TIME      :2022-06-05 15-11-33 IST+0530\n",
      "Europe/Kiev TIME      :2022-06-05 12-41-33 EEST+0300\n",
      "America/New_york TIME      :2022-06-05 05-41-33 EDT-0400\n"
     ]
    }
   ],
   "source": [
    "format = '%Y-%m-%d %H-%M-%S %Z%z'\n",
    "now_utc = datetime.now(timezone('UTC'))\n",
    "print (now_utc.strftime(format))\n",
    "timezones = ['Asia/Kolkata','Europe/Kiev','America/New_york']\n",
    "\n",
    "for zones in timezones:\n",
    "    zone_time = now_utc.astimezone(timezone(zones))\n",
    "    print (f\"{zones} TIME      :{zone_time.strftime(format)}\")\n",
    "    "
   ]
  },
  {
   "cell_type": "markdown",
   "metadata": {},
   "source": [
    "# Time zone data based on user input"
   ]
  },
  {
   "cell_type": "code",
   "execution_count": 232,
   "metadata": {},
   "outputs": [
    {
     "name": "stdout",
     "output_type": "stream",
     "text": [
      "Enter timezone interested: EX:{Asia/Kolkata,Europe/Kiev,America/New_york}Asia/Kolkata\n",
      "2022-07-06/05/22 22-07-1654447067 IST+0530\n"
     ]
    }
   ],
   "source": [
    "from datetime import datetime,timezone\n",
    "from pytz import timezone\n",
    "def timezone_func(zone):\n",
    "    format = ('%Y-%M-%D %H-%M-%s %Z%z')\n",
    "    utc_now = datetime.now(timezone('UTC'))\n",
    "    zone_time = utc_now.astimezone(timezone(zone))\n",
    "    return zone_time.strftime(format)\n",
    "zone = input('Enter timezone interested: EX:{Asia/Kolkata,Europe/Kiev,America/New_york}')\n",
    "OP=timezone_func(zone)\n",
    "print (OP)\n",
    "    "
   ]
  },
  {
   "cell_type": "code",
   "execution_count": 230,
   "metadata": {},
   "outputs": [],
   "source": [
    "class TZ_CLASS():\n",
    "    def __init__(self,zone):\n",
    "        self.zone = zone\n",
    "    def timezone_func_1(self):\n",
    "        self.format = ('%Y-%M-%D %H-%M-%s %Z%z')\n",
    "        self.utc_now = datetime.now(timezone('UTC'))\n",
    "        self.zone_time = self.utc_now.astimezone(timezone(self.zone))\n",
    "        return self.zone_time.strftime(format)"
   ]
  },
  {
   "cell_type": "code",
   "execution_count": 231,
   "metadata": {},
   "outputs": [
    {
     "data": {
      "text/plain": [
       "'2022-06-05 15-25-27 IST+0530'"
      ]
     },
     "execution_count": 231,
     "metadata": {},
     "output_type": "execute_result"
    }
   ],
   "source": [
    "a=TZ_CLASS('Asia/Kolkata')\n",
    "a.timezone_func_1()"
   ]
  },
  {
   "cell_type": "markdown",
   "metadata": {},
   "source": [
    "# CSV READ"
   ]
  },
  {
   "cell_type": "code",
   "execution_count": 245,
   "metadata": {},
   "outputs": [
    {
     "name": "stdout",
     "output_type": "stream",
     "text": [
      "['Product', 'Size', 'Color', 'Price', '']\n",
      "['Shirt,Medium,Blue,$14,\\n', 'Shirt,Large,Red,$15,\\n', 'Pants,Medium,Khaki,$23,']\n"
     ]
    }
   ],
   "source": [
    "import csv\n",
    "fields= []\n",
    "rows = []\n",
    "with open('python-csvc-datetime-subpropcess/test_csv.csv','r') as csvreader:  # opening csv file\n",
    "    csv_read = csv.reader(csvreader)  # creating csv reader object\n",
    "    fields = next(csv_read)\n",
    "    \n",
    "    for row in csvreader:\n",
    "        rows.append(row)\n",
    "print (fields)\n",
    "print (rows)\n",
    "    "
   ]
  },
  {
   "cell_type": "markdown",
   "metadata": {},
   "source": [
    "# CSV WRITE"
   ]
  },
  {
   "cell_type": "code",
   "execution_count": 248,
   "metadata": {},
   "outputs": [],
   "source": [
    "import csv\n",
    "fields = ['Name', 'Branch', 'Year', 'CGPA']\n",
    "  \n",
    "# data rows of csv file\n",
    "rows = [ ['Nikhil', 'COE', '2', '9.0'],\n",
    "         ['Sanchit', 'COE', '2', '9.1'],\n",
    "         ['Aditya', 'IT', '2', '9.3'],\n",
    "         ['Sagar', 'SE', '1', '9.5'],\n",
    "         ['Prateek', 'MCE', '3', '7.8'],\n",
    "         ['Sahil', 'EP', '2', '9.1']]\n",
    "\n",
    "with open('python-csvc-datetime-subpropcess/test_csv_write.csv','w') as csv_write:\n",
    "    csvwriter = csv.writer(csv_write) #Creating a csv write object\n",
    "    csvwriter.writerow(fields)\n",
    "    \n",
    "    csvwriter.writerows(rows)\n",
    "    "
   ]
  },
  {
   "cell_type": "markdown",
   "metadata": {},
   "source": [
    "# CSV DICT WRITER"
   ]
  },
  {
   "cell_type": "code",
   "execution_count": 252,
   "metadata": {},
   "outputs": [],
   "source": [
    "import csv \n",
    "\n",
    "# my data rows as dictionary objects\n",
    "mydict =[{'branch': 'COE', 'cgpa': '9.0', 'name': 'Nikhil', 'year': '2'},\n",
    "         {'branch': 'COE', 'cgpa': '9.1', 'name': 'Sanchit', 'year': '2'},\n",
    "         {'branch': 'IT', 'cgpa': '9.3', 'name': 'Aditya', 'year': '2'},\n",
    "         {'branch': 'SE', 'cgpa': '9.5', 'name': 'Sagar', 'year': '1'},\n",
    "         {'branch': 'MCE', 'cgpa': '7.8', 'name': 'Prateek', 'year': '3'},\n",
    "         {'branch': 'EP', 'cgpa': '9.1', 'name': 'Sahil', 'year': '2'}]\n",
    "  \n",
    "# field names\n",
    "fields = ['name', 'branch', 'year', 'cgpa']\n",
    "  \n",
    "# name of csv file\n",
    "filename = \"python-csvc-datetime-subpropcess//results_dict_csv.csv\"\n",
    "  \n",
    "# writing to csv file\n",
    "with open(filename, 'w') as csvfile:\n",
    "    # creating a csv dict writer object\n",
    "    writer = csv.DictWriter(csvfile, fieldnames = fields)\n",
    "      \n",
    "    # writing headers (field names)\n",
    "    writer.writeheader()\n",
    "      \n",
    "    # writing data rows\n",
    "    writer.writerows(mydict)"
   ]
  },
  {
   "cell_type": "code",
   "execution_count": null,
   "metadata": {},
   "outputs": [],
   "source": []
  }
 ],
 "metadata": {
  "kernelspec": {
   "display_name": "Python 3",
   "language": "python",
   "name": "python3"
  },
  "language_info": {
   "codemirror_mode": {
    "name": "ipython",
    "version": 3
   },
   "file_extension": ".py",
   "mimetype": "text/x-python",
   "name": "python",
   "nbconvert_exporter": "python",
   "pygments_lexer": "ipython3",
   "version": "3.8.3"
  }
 },
 "nbformat": 4,
 "nbformat_minor": 4
}
