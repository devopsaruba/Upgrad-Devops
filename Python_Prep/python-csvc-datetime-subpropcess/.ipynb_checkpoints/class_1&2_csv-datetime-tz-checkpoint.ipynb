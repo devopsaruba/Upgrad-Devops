{
 "cells": [
  {
   "cell_type": "code",
   "execution_count": 1,
   "metadata": {},
   "outputs": [
    {
     "name": "stdout",
     "output_type": "stream",
     "text": [
      "2022-06-18 18:28:17.418516\n",
      "2022-06-18\n",
      "18:28:17.418974\n",
      "18\n",
      "419175\n"
     ]
    }
   ],
   "source": [
    "from datetime import datetime\n",
    "print (datetime.now())\n",
    "print (datetime.now().date())\n",
    "print (datetime.now().time())\n",
    "print (datetime.now().hour)\n",
    "print (datetime.now().microsecond)"
   ]
  },
  {
   "cell_type": "markdown",
   "metadata": {},
   "source": [
    "# Date time to EPOCH"
   ]
  },
  {
   "cell_type": "code",
   "execution_count": 2,
   "metadata": {},
   "outputs": [
    {
     "name": "stdout",
     "output_type": "stream",
     "text": [
      "DATETIME:Sat Jun 18 18:28:17 2022\n",
      "EPOCH TIME: 1655557097.432178\n"
     ]
    }
   ],
   "source": [
    "from datetime import datetime\n",
    "date_now = datetime.now()\n",
    "epoch = date_now.timestamp()##timestamp gives EPOCH time value \n",
    "print (f\"DATETIME:{date_now.strftime('%c')}\")\n",
    "print (f\"EPOCH TIME: {epoch}\")"
   ]
  },
  {
   "cell_type": "markdown",
   "metadata": {},
   "source": [
    "# Epoch to Datetime"
   ]
  },
  {
   "cell_type": "code",
   "execution_count": 3,
   "metadata": {},
   "outputs": [
    {
     "data": {
      "text/plain": [
       "'Sat Jun 18 18:28:17 2022'"
      ]
     },
     "execution_count": 3,
     "metadata": {},
     "output_type": "execute_result"
    }
   ],
   "source": [
    "from datetime import datetime\n",
    "datetime.fromtimestamp(float(epoch)).strftime('%c') #from timestamp has epocbh"
   ]
  },
  {
   "cell_type": "markdown",
   "metadata": {},
   "source": [
    "# date time print in format"
   ]
  },
  {
   "cell_type": "code",
   "execution_count": 4,
   "metadata": {},
   "outputs": [
    {
     "name": "stdout",
     "output_type": "stream",
     "text": [
      "DATE&TIME         :2022-06-18 18:28:17.466912\n",
      "FORMATTED DATIME  : 22-06-18\n",
      "FORMATED DATETIME : 22-06-18 18-28-1655557097\n"
     ]
    }
   ],
   "source": [
    "current = datetime.now()\n",
    "print (f'DATE&TIME         :{current}')\n",
    "print (f\"FORMATTED DATIME  : {current.strftime('%y-%m-%d')}\")\n",
    "print (f\"FORMATED DATETIME : {current.strftime('%y-%m-%d %H-%M-%s')}\")"
   ]
  },
  {
   "cell_type": "code",
   "execution_count": 5,
   "metadata": {},
   "outputs": [
    {
     "name": "stdout",
     "output_type": "stream",
     "text": [
      "\n",
      "Example 1: Saturday 6 2022\n",
      "\n",
      "Example 3: 6 PM 17\n",
      "\n",
      "Example 4: 18:28:17\n",
      "\n",
      "Example 4: 18:28:17\n"
     ]
    }
   ],
   "source": [
    "s = current.strftime(\"%A %-m %-Y\")\n",
    "print('\\nExample 1:', s)\n",
    "s = current.strftime(\"%-I %p %S\")\n",
    "print('\\nExample 3:', s)\n",
    "s = current.strftime(\"%H:%M:%S\")\n",
    "print('\\nExample 4:', s)\n",
    "s = current.strftime(\"%H:%M:%S\")\n",
    "print('\\nExample 4:', s)"
   ]
  },
  {
   "cell_type": "markdown",
   "metadata": {},
   "source": [
    "# time delta"
   ]
  },
  {
   "cell_type": "code",
   "execution_count": 6,
   "metadata": {},
   "outputs": [
    {
     "name": "stdout",
     "output_type": "stream",
     "text": [
      "TODAY    :2022-06-18 18:28:17.491587\n",
      "AFTERYEAR:2023-06-18 18:28:17.491587\n"
     ]
    }
   ],
   "source": [
    "from datetime import datetime,timedelta\n",
    "today=datetime.today()\n",
    "afteryear=today+timedelta(days=365)\n",
    "print (f\"TODAY    :{today}\")\n",
    "print (f\"AFTERYEAR:{afteryear}\") "
   ]
  },
  {
   "cell_type": "code",
   "execution_count": 7,
   "metadata": {},
   "outputs": [
    {
     "name": "stdout",
     "output_type": "stream",
     "text": [
      "2022-06-18 18:28:17.503308\n",
      "2022-06-18 18:28:17.503908\n"
     ]
    }
   ],
   "source": [
    "print (datetime.now())\n",
    "print (datetime.today())##both are same OP's"
   ]
  },
  {
   "cell_type": "markdown",
   "metadata": {},
   "source": [
    "# time zones"
   ]
  },
  {
   "cell_type": "code",
   "execution_count": 8,
   "metadata": {},
   "outputs": [],
   "source": [
    "from datetime import datetime,timedelta,timezone\n",
    "from pytz import timezone"
   ]
  },
  {
   "cell_type": "code",
   "execution_count": 9,
   "metadata": {},
   "outputs": [
    {
     "name": "stdout",
     "output_type": "stream",
     "text": [
      "2022-06-18 12-58-17 UTC+0000\n",
      "Asia/Kolkata TIME      :2022-06-18 18-28-17 IST+0530\n",
      "Europe/Kiev TIME      :2022-06-18 15-58-17 EEST+0300\n",
      "America/New_york TIME      :2022-06-18 08-58-17 EDT-0400\n"
     ]
    }
   ],
   "source": [
    "format = '%Y-%m-%d %H-%M-%S %Z%z'\n",
    "now_utc = datetime.now(timezone('UTC'))\n",
    "print (now_utc.strftime(format))\n",
    "timezones = ['Asia/Kolkata','Europe/Kiev','America/New_york']\n",
    "\n",
    "for zones in timezones:\n",
    "    zone_time = now_utc.astimezone(timezone(zones))\n",
    "    print (f\"{zones} TIME      :{zone_time.strftime(format)}\")\n",
    "    "
   ]
  },
  {
   "cell_type": "markdown",
   "metadata": {},
   "source": [
    "# Time zone data based on user input"
   ]
  },
  {
   "cell_type": "code",
   "execution_count": 14,
   "metadata": {},
   "outputs": [
    {
     "name": "stdout",
     "output_type": "stream",
     "text": [
      "Enter timezone interested: EX:{Asia/Kolkata,Europe/Kiev,America/New_york}\n"
     ]
    },
    {
     "ename": "UnknownTimeZoneError",
     "evalue": "''",
     "output_type": "error",
     "traceback": [
      "\u001b[0;31m---------------------------------------------------------------------------\u001b[0m",
      "\u001b[0;31mUnknownTimeZoneError\u001b[0m                      Traceback (most recent call last)",
      "\u001b[0;32m<ipython-input-14-bfffe5a7255c>\u001b[0m in \u001b[0;36m<module>\u001b[0;34m\u001b[0m\n\u001b[1;32m      7\u001b[0m     \u001b[0;32mreturn\u001b[0m \u001b[0mzone_time\u001b[0m\u001b[0;34m.\u001b[0m\u001b[0mstrftime\u001b[0m\u001b[0;34m(\u001b[0m\u001b[0mformat\u001b[0m\u001b[0;34m)\u001b[0m\u001b[0;34m\u001b[0m\u001b[0;34m\u001b[0m\u001b[0m\n\u001b[1;32m      8\u001b[0m \u001b[0mzone\u001b[0m \u001b[0;34m=\u001b[0m \u001b[0minput\u001b[0m\u001b[0;34m(\u001b[0m\u001b[0;34m'Enter timezone interested: EX:{Asia/Kolkata,Europe/Kiev,America/New_york}'\u001b[0m\u001b[0;34m)\u001b[0m\u001b[0;34m\u001b[0m\u001b[0;34m\u001b[0m\u001b[0m\n\u001b[0;32m----> 9\u001b[0;31m \u001b[0mOP\u001b[0m\u001b[0;34m=\u001b[0m\u001b[0mtimezone_func\u001b[0m\u001b[0;34m(\u001b[0m\u001b[0mzone\u001b[0m\u001b[0;34m)\u001b[0m\u001b[0;34m\u001b[0m\u001b[0;34m\u001b[0m\u001b[0m\n\u001b[0m\u001b[1;32m     10\u001b[0m \u001b[0mprint\u001b[0m \u001b[0;34m(\u001b[0m\u001b[0mOP\u001b[0m\u001b[0;34m)\u001b[0m\u001b[0;34m\u001b[0m\u001b[0;34m\u001b[0m\u001b[0m\n\u001b[1;32m     11\u001b[0m \u001b[0;34m\u001b[0m\u001b[0m\n",
      "\u001b[0;32m<ipython-input-14-bfffe5a7255c>\u001b[0m in \u001b[0;36mtimezone_func\u001b[0;34m(zone)\u001b[0m\n\u001b[1;32m      4\u001b[0m     \u001b[0mformat\u001b[0m \u001b[0;34m=\u001b[0m \u001b[0;34m(\u001b[0m\u001b[0;34m'%Y-%M-%D %H-%M-%s %Z%z'\u001b[0m\u001b[0;34m)\u001b[0m\u001b[0;34m\u001b[0m\u001b[0;34m\u001b[0m\u001b[0m\n\u001b[1;32m      5\u001b[0m     \u001b[0mutc_now\u001b[0m \u001b[0;34m=\u001b[0m \u001b[0mdatetime\u001b[0m\u001b[0;34m.\u001b[0m\u001b[0mnow\u001b[0m\u001b[0;34m(\u001b[0m\u001b[0mtimezone\u001b[0m\u001b[0;34m(\u001b[0m\u001b[0;34m'UTC'\u001b[0m\u001b[0;34m)\u001b[0m\u001b[0;34m)\u001b[0m\u001b[0;34m\u001b[0m\u001b[0;34m\u001b[0m\u001b[0m\n\u001b[0;32m----> 6\u001b[0;31m     \u001b[0mzone_time\u001b[0m \u001b[0;34m=\u001b[0m \u001b[0mutc_now\u001b[0m\u001b[0;34m.\u001b[0m\u001b[0mastimezone\u001b[0m\u001b[0;34m(\u001b[0m\u001b[0mtimezone\u001b[0m\u001b[0;34m(\u001b[0m\u001b[0mzone\u001b[0m\u001b[0;34m)\u001b[0m\u001b[0;34m)\u001b[0m\u001b[0;34m\u001b[0m\u001b[0;34m\u001b[0m\u001b[0m\n\u001b[0m\u001b[1;32m      7\u001b[0m     \u001b[0;32mreturn\u001b[0m \u001b[0mzone_time\u001b[0m\u001b[0;34m.\u001b[0m\u001b[0mstrftime\u001b[0m\u001b[0;34m(\u001b[0m\u001b[0mformat\u001b[0m\u001b[0;34m)\u001b[0m\u001b[0;34m\u001b[0m\u001b[0;34m\u001b[0m\u001b[0m\n\u001b[1;32m      8\u001b[0m \u001b[0mzone\u001b[0m \u001b[0;34m=\u001b[0m \u001b[0minput\u001b[0m\u001b[0;34m(\u001b[0m\u001b[0;34m'Enter timezone interested: EX:{Asia/Kolkata,Europe/Kiev,America/New_york}'\u001b[0m\u001b[0;34m)\u001b[0m\u001b[0;34m\u001b[0m\u001b[0;34m\u001b[0m\u001b[0m\n",
      "\u001b[0;32m~/opt/anaconda3/lib/python3.8/site-packages/pytz/__init__.py\u001b[0m in \u001b[0;36mtimezone\u001b[0;34m(zone)\u001b[0m\n\u001b[1;32m    179\u001b[0m                 \u001b[0mfp\u001b[0m\u001b[0;34m.\u001b[0m\u001b[0mclose\u001b[0m\u001b[0;34m(\u001b[0m\u001b[0;34m)\u001b[0m\u001b[0;34m\u001b[0m\u001b[0;34m\u001b[0m\u001b[0m\n\u001b[1;32m    180\u001b[0m         \u001b[0;32melse\u001b[0m\u001b[0;34m:\u001b[0m\u001b[0;34m\u001b[0m\u001b[0;34m\u001b[0m\u001b[0m\n\u001b[0;32m--> 181\u001b[0;31m             \u001b[0;32mraise\u001b[0m \u001b[0mUnknownTimeZoneError\u001b[0m\u001b[0;34m(\u001b[0m\u001b[0mzone\u001b[0m\u001b[0;34m)\u001b[0m\u001b[0;34m\u001b[0m\u001b[0;34m\u001b[0m\u001b[0m\n\u001b[0m\u001b[1;32m    182\u001b[0m \u001b[0;34m\u001b[0m\u001b[0m\n\u001b[1;32m    183\u001b[0m     \u001b[0;32mreturn\u001b[0m \u001b[0m_tzinfo_cache\u001b[0m\u001b[0;34m[\u001b[0m\u001b[0mzone\u001b[0m\u001b[0;34m]\u001b[0m\u001b[0;34m\u001b[0m\u001b[0;34m\u001b[0m\u001b[0m\n",
      "\u001b[0;31mUnknownTimeZoneError\u001b[0m: ''"
     ]
    }
   ],
   "source": [
    "from datetime import datetime,timezone\n",
    "from pytz import timezone\n",
    "def timezone_func(zone):\n",
    "    format = ('%Y-%M-%D %H-%M-%s %Z%z')\n",
    "    utc_now = datetime.now(timezone('UTC'))\n",
    "    zone_time = utc_now.astimezone(timezone(zone))\n",
    "    return zone_time.strftime(format)\n",
    "zone = input('Enter timezone interested: EX:{Asia/Kolkata,Europe/Kiev,America/New_york}')\n",
    "OP=timezone_func(zone)\n",
    "print (OP)\n",
    "    "
   ]
  },
  {
   "cell_type": "code",
   "execution_count": 11,
   "metadata": {},
   "outputs": [],
   "source": [
    "class TZ_CLASS():\n",
    "    def __init__(self,zone):\n",
    "        self.zone = zone\n",
    "    def timezone_func_1(self):\n",
    "        self.format = ('%Y-%M-%D %H-%M-%s %Z%z')\n",
    "        self.utc_now = datetime.now(timezone('UTC'))\n",
    "        self.zone_time = self.utc_now.astimezone(timezone(self.zone))\n",
    "        return self.zone_time.strftime(format)"
   ]
  },
  {
   "cell_type": "code",
   "execution_count": 12,
   "metadata": {},
   "outputs": [
    {
     "data": {
      "text/plain": [
       "'2022-06-18 18-28-25 IST+0530'"
      ]
     },
     "execution_count": 12,
     "metadata": {},
     "output_type": "execute_result"
    }
   ],
   "source": [
    "a=TZ_CLASS('Asia/Kolkata')\n",
    "a.timezone_func_1()"
   ]
  },
  {
   "cell_type": "markdown",
   "metadata": {},
   "source": [
    "# CSV READ"
   ]
  },
  {
   "cell_type": "code",
   "execution_count": 13,
   "metadata": {},
   "outputs": [
    {
     "ename": "FileNotFoundError",
     "evalue": "[Errno 2] No such file or directory: 'python-csvc-datetime-subpropcess/test_csv.csv'",
     "output_type": "error",
     "traceback": [
      "\u001b[0;31m---------------------------------------------------------------------------\u001b[0m",
      "\u001b[0;31mFileNotFoundError\u001b[0m                         Traceback (most recent call last)",
      "\u001b[0;32m<ipython-input-13-0a51d5d1147a>\u001b[0m in \u001b[0;36m<module>\u001b[0;34m\u001b[0m\n\u001b[1;32m      2\u001b[0m \u001b[0mfields\u001b[0m\u001b[0;34m=\u001b[0m \u001b[0;34m[\u001b[0m\u001b[0;34m]\u001b[0m\u001b[0;34m\u001b[0m\u001b[0;34m\u001b[0m\u001b[0m\n\u001b[1;32m      3\u001b[0m \u001b[0mrows\u001b[0m \u001b[0;34m=\u001b[0m \u001b[0;34m[\u001b[0m\u001b[0;34m]\u001b[0m\u001b[0;34m\u001b[0m\u001b[0;34m\u001b[0m\u001b[0m\n\u001b[0;32m----> 4\u001b[0;31m \u001b[0;32mwith\u001b[0m \u001b[0mopen\u001b[0m\u001b[0;34m(\u001b[0m\u001b[0;34m'python-csvc-datetime-subpropcess/test_csv.csv'\u001b[0m\u001b[0;34m,\u001b[0m\u001b[0;34m'r'\u001b[0m\u001b[0;34m)\u001b[0m \u001b[0;32mas\u001b[0m \u001b[0mcsvreader\u001b[0m\u001b[0;34m:\u001b[0m  \u001b[0;31m# opening csv file\u001b[0m\u001b[0;34m\u001b[0m\u001b[0;34m\u001b[0m\u001b[0m\n\u001b[0m\u001b[1;32m      5\u001b[0m     \u001b[0mcsv_read\u001b[0m \u001b[0;34m=\u001b[0m \u001b[0mcsv\u001b[0m\u001b[0;34m.\u001b[0m\u001b[0mreader\u001b[0m\u001b[0;34m(\u001b[0m\u001b[0mcsvreader\u001b[0m\u001b[0;34m)\u001b[0m  \u001b[0;31m# creating csv reader object\u001b[0m\u001b[0;34m\u001b[0m\u001b[0;34m\u001b[0m\u001b[0m\n\u001b[1;32m      6\u001b[0m     \u001b[0mfields\u001b[0m \u001b[0;34m=\u001b[0m \u001b[0mnext\u001b[0m\u001b[0;34m(\u001b[0m\u001b[0mcsv_read\u001b[0m\u001b[0;34m)\u001b[0m\u001b[0;34m\u001b[0m\u001b[0;34m\u001b[0m\u001b[0m\n",
      "\u001b[0;31mFileNotFoundError\u001b[0m: [Errno 2] No such file or directory: 'python-csvc-datetime-subpropcess/test_csv.csv'"
     ]
    }
   ],
   "source": [
    "import csv\n",
    "fields= []\n",
    "rows = []\n",
    "with open('python-csvc-datetime-subpropcess/test_csv.csv','r') as csvreader:  # opening csv file\n",
    "    csv_read = csv.reader(csvreader)  # creating csv reader object\n",
    "    fields = next(csv_read)\n",
    "    \n",
    "    for row in csvreader:\n",
    "        rows.append(row)\n",
    "print (fields)\n",
    "print (rows)\n",
    "    "
   ]
  },
  {
   "cell_type": "markdown",
   "metadata": {},
   "source": [
    "# CSV WRITE"
   ]
  },
  {
   "cell_type": "code",
   "execution_count": null,
   "metadata": {},
   "outputs": [],
   "source": [
    "import csv\n",
    "fields = ['Name', 'Branch', 'Year', 'CGPA']\n",
    "  \n",
    "# data rows of csv file\n",
    "rows = [ ['Nikhil', 'COE', '2', '9.0'],\n",
    "         ['Sanchit', 'COE', '2', '9.1'],\n",
    "         ['Aditya', 'IT', '2', '9.3'],\n",
    "         ['Sagar', 'SE', '1', '9.5'],\n",
    "         ['Prateek', 'MCE', '3', '7.8'],\n",
    "         ['Sahil', 'EP', '2', '9.1']]\n",
    "\n",
    "with open('python-csvc-datetime-subpropcess/test_csv_write.csv','w') as csv_write:\n",
    "    csvwriter = csv.writer(csv_write) #Creating a csv write object\n",
    "    csvwriter.writerow(fields)\n",
    "    \n",
    "    csvwriter.writerows(rows)\n",
    "    "
   ]
  },
  {
   "cell_type": "markdown",
   "metadata": {},
   "source": [
    "# CSV DICT WRITER"
   ]
  },
  {
   "cell_type": "code",
   "execution_count": null,
   "metadata": {},
   "outputs": [],
   "source": [
    "import csv \n",
    "\n",
    "# my data rows as dictionary objects\n",
    "mydict =[{'branch': 'COE', 'cgpa': '9.0', 'name': 'Nikhil', 'year': '2'},\n",
    "         {'branch': 'COE', 'cgpa': '9.1', 'name': 'Sanchit', 'year': '2'},\n",
    "         {'branch': 'IT', 'cgpa': '9.3', 'name': 'Aditya', 'year': '2'},\n",
    "         {'branch': 'SE', 'cgpa': '9.5', 'name': 'Sagar', 'year': '1'},\n",
    "         {'branch': 'MCE', 'cgpa': '7.8', 'name': 'Prateek', 'year': '3'},\n",
    "         {'branch': 'EP', 'cgpa': '9.1', 'name': 'Sahil', 'year': '2'}]\n",
    "  \n",
    "# field names\n",
    "fields = ['name', 'branch', 'year', 'cgpa']\n",
    "  \n",
    "# name of csv file\n",
    "filename = \"python-csvc-datetime-subpropcess//results_dict_csv.csv\"\n",
    "  \n",
    "# writing to csv file\n",
    "with open(filename, 'w') as csvfile:\n",
    "    # creating a csv dict writer object\n",
    "    writer = csv.DictWriter(csvfile, fieldnames = fields)\n",
    "      \n",
    "    # writing headers (field names)\n",
    "    writer.writeheader()\n",
    "      \n",
    "    # writing data rows\n",
    "    writer.writerows(mydict)"
   ]
  },
  {
   "cell_type": "markdown",
   "metadata": {},
   "source": [
    "# subprocess to run in the system like programs or ls -la"
   ]
  },
  {
   "cell_type": "code",
   "execution_count": null,
   "metadata": {},
   "outputs": [],
   "source": [
    "import subprocess\n",
    "op = subprocess.run('ls -la',shell=True,text=True,capture_output=True)\n",
    "print (op)\n",
    "if op.returncode == 0:\n",
    "    print ('\\nprocess has run succesfully\\n')\n",
    "else:\n",
    "    print ('ISSUE')"
   ]
  },
  {
   "cell_type": "code",
   "execution_count": null,
   "metadata": {},
   "outputs": [],
   "source": [
    "import subprocess\n",
    "\n",
    "program = 'gits'\n",
    "\n",
    "process = subprocess.run(['which', program], capture_output=True, text=True)\n",
    "\n",
    "if process.returncode == 0: \n",
    "    print(f'The program \"{program}\" is installed')\n",
    "\n",
    "    print(f'The location of the binary is: {process.stdout}')\n",
    "else:\n",
    "    print(f'Sorry the {program} is not installed')\n",
    "\n",
    "    print(process.stderr)"
   ]
  },
  {
   "cell_type": "code",
   "execution_count": null,
   "metadata": {},
   "outputs": [],
   "source": [
    "import sys\n",
    "for i in sys.stdin.readline():\n",
    "    if i == 'q':\n",
    "        break\n",
    "    print (i)\n",
    "print ('END')"
   ]
  },
  {
   "cell_type": "code",
   "execution_count": null,
   "metadata": {},
   "outputs": [],
   "source": [
    "import os\n",
    "os.getlogin()"
   ]
  },
  {
   "cell_type": "code",
   "execution_count": null,
   "metadata": {},
   "outputs": [],
   "source": [
    "import os\n",
    "fd = \"pythonFile.txt\"\n",
    "#os.rename(fd,'newFile.txt')\n",
    "#os.rename(fd,'newFile.txt')"
   ]
  },
  {
   "cell_type": "code",
   "execution_count": null,
   "metadata": {},
   "outputs": [],
   "source": [
    "os.rename(fd,'newFile.txt')"
   ]
  },
  {
   "cell_type": "code",
   "execution_count": null,
   "metadata": {},
   "outputs": [],
   "source": [
    "import subprocess\n",
    "subprocess.run('ls -lt',shell=True,capture_output=True,check=True)##Checks the OP"
   ]
  },
  {
   "cell_type": "code",
   "execution_count": null,
   "metadata": {},
   "outputs": [],
   "source": [
    "subprocess.run(['ls', '-lt','/dev/null'],shell=True,capture_output=True)"
   ]
  },
  {
   "cell_type": "code",
   "execution_count": null,
   "metadata": {},
   "outputs": [],
   "source": [
    "process = subprocess.Popen(['ls','-lt'],stdout=subprocess.PIPE)\n",
    "process"
   ]
  },
  {
   "cell_type": "code",
   "execution_count": null,
   "metadata": {},
   "outputs": [],
   "source": [
    "process.communicate()[0]"
   ]
  },
  {
   "cell_type": "code",
   "execution_count": null,
   "metadata": {},
   "outputs": [],
   "source": [
    "subprocess.run([sys.executable,'-c',\"print ('Python')\"])"
   ]
  },
  {
   "cell_type": "code",
   "execution_count": null,
   "metadata": {},
   "outputs": [],
   "source": [
    "process = subprocess.Popen(['ls', '-la'],stdout=subprocess.PIPE)\n",
    "process.communicate()"
   ]
  },
  {
   "cell_type": "code",
   "execution_count": null,
   "metadata": {},
   "outputs": [],
   "source": [
    "OP = subprocess.run([sys.executable,'-c',\"echo PYTHON('Program')\"])\n",
    "OP"
   ]
  },
  {
   "cell_type": "code",
   "execution_count": null,
   "metadata": {},
   "outputs": [],
   "source": [
    "print ('OUTPUT_ERROR:',OP.stderr)"
   ]
  },
  {
   "cell_type": "code",
   "execution_count": null,
   "metadata": {},
   "outputs": [],
   "source": [
    "print ('OUTPUT:',OP.stdout)"
   ]
  },
  {
   "cell_type": "code",
   "execution_count": null,
   "metadata": {},
   "outputs": [],
   "source": [
    "subprocess.run(['ls -lt'],shell=True)"
   ]
  },
  {
   "cell_type": "code",
   "execution_count": null,
   "metadata": {},
   "outputs": [],
   "source": [
    "process = subprocess.Popen(['ls','-la'],stdout=subprocess.PIPE)"
   ]
  },
  {
   "cell_type": "code",
   "execution_count": null,
   "metadata": {},
   "outputs": [],
   "source": [
    "process.communicate()[0]"
   ]
  },
  {
   "cell_type": "code",
   "execution_count": null,
   "metadata": {},
   "outputs": [],
   "source": [
    "#text = True captures the stderror\n",
    "op = subprocess.run([sys.executable,'-c',\"raise Exception('This is an exception')\"],capture_output=True,text=True)"
   ]
  },
  {
   "cell_type": "code",
   "execution_count": null,
   "metadata": {},
   "outputs": [],
   "source": [
    "op.stderr"
   ]
  },
  {
   "cell_type": "code",
   "execution_count": null,
   "metadata": {},
   "outputs": [],
   "source": [
    "#timeout in 1 seconds \n",
    "op1 = subprocess.run([sys.executable,'c',\"import time;time.sleep(5)\"],timeout=1)"
   ]
  },
  {
   "cell_type": "code",
   "execution_count": null,
   "metadata": {},
   "outputs": [],
   "source": [
    "op1"
   ]
  },
  {
   "cell_type": "code",
   "execution_count": null,
   "metadata": {},
   "outputs": [],
   "source": [
    "process = subprocess.Popen(['ls','-l'],stdout=subprocess.PIPE)"
   ]
  },
  {
   "cell_type": "code",
   "execution_count": null,
   "metadata": {},
   "outputs": [],
   "source": [
    "stdout = process.communicate()[0]"
   ]
  },
  {
   "cell_type": "code",
   "execution_count": null,
   "metadata": {},
   "outputs": [],
   "source": [
    "print (\"OP:{}\".format(stdout))"
   ]
  },
  {
   "cell_type": "code",
   "execution_count": null,
   "metadata": {},
   "outputs": [],
   "source": [
    "# To pass argument using INPUT method\n",
    "# U can send input in byte code . So dont use text=True\n",
    "op = subprocess.run([sys.executable,'-c',\"import sys;print(sys.stdin.read())\"],input=b'SUMAN',capture_output=True)\n",
    "#If text=True is used cannot send byte code option"
   ]
  },
  {
   "cell_type": "code",
   "execution_count": null,
   "metadata": {},
   "outputs": [],
   "source": [
    "op.stdout"
   ]
  },
  {
   "cell_type": "markdown",
   "metadata": {},
   "source": [
    "# date time"
   ]
  },
  {
   "cell_type": "code",
   "execution_count": null,
   "metadata": {},
   "outputs": [],
   "source": [
    "import datetime"
   ]
  },
  {
   "cell_type": "code",
   "execution_count": null,
   "metadata": {},
   "outputs": [],
   "source": [
    "from datetime import timedelta"
   ]
  },
  {
   "cell_type": "code",
   "execution_count": null,
   "metadata": {},
   "outputs": [],
   "source": [
    "datetime.datetime.now()"
   ]
  },
  {
   "cell_type": "code",
   "execution_count": null,
   "metadata": {},
   "outputs": [],
   "source": [
    "datetime.date.today()"
   ]
  },
  {
   "cell_type": "code",
   "execution_count": null,
   "metadata": {},
   "outputs": [],
   "source": [
    "date1 = timedelta(weeks=2,hours=10,days=10,seconds=90)\n",
    "date2= timedelta(days=10,hours=5,seconds=20)\n",
    "date3 = date1-date2"
   ]
  },
  {
   "cell_type": "code",
   "execution_count": null,
   "metadata": {},
   "outputs": [],
   "source": [
    "date3"
   ]
  },
  {
   "cell_type": "code",
   "execution_count": null,
   "metadata": {},
   "outputs": [],
   "source": [
    "#days and time in seconds\n",
    "print ('Seconds:',date3.total_seconds())"
   ]
  },
  {
   "cell_type": "markdown",
   "metadata": {},
   "source": [
    "# epoch time"
   ]
  },
  {
   "cell_type": "code",
   "execution_count": null,
   "metadata": {},
   "outputs": [],
   "source": [
    "from datetime import datetime\n",
    "now_time = datetime.today()\n",
    "now_time.timestamp()"
   ]
  },
  {
   "cell_type": "code",
   "execution_count": null,
   "metadata": {},
   "outputs": [],
   "source": [
    "epoch = now_time.strftime('%s')  # Another way\n",
    "epoch"
   ]
  },
  {
   "cell_type": "code",
   "execution_count": null,
   "metadata": {},
   "outputs": [],
   "source": [
    "datetime.fromtimestamp(float(epoch)).strftime('%c')"
   ]
  },
  {
   "cell_type": "code",
   "execution_count": null,
   "metadata": {},
   "outputs": [],
   "source": [
    "datetime.now().strftime('%A %-H %-M')"
   ]
  },
  {
   "cell_type": "markdown",
   "metadata": {},
   "source": [
    "# Time Zones"
   ]
  },
  {
   "cell_type": "code",
   "execution_count": null,
   "metadata": {},
   "outputs": [],
   "source": [
    "from datetime import datetime\n",
    "import pytz\n",
    "format = '%Y-%M-%D %H-%M-%s'\n",
    "current_time = datetime.now()\n",
    "print ('Current TIME: ',current_time.strftime(format))\n",
    "\n",
    "america_timezone = pytz.timezone('America/New_york')\n",
    "america_time = datetime.now(america_timezone) \n",
    "print ('America TIME: ',america_time.strftime(format))"
   ]
  },
  {
   "cell_type": "code",
   "execution_count": null,
   "metadata": {},
   "outputs": [],
   "source": [
    "from datetime import datetime\n",
    "import pytz\n",
    "format = '%Y-%M-%D %H-%M-%s'\n",
    "current_time = datetime.today()\n",
    "print ('Currnt Date:',current_time.strftime('%c'))\n",
    "\n",
    "india_timezone = pytz.timezone('Europe/London')\n",
    "datetime.now(india_timezone).strftime('%c')"
   ]
  },
  {
   "cell_type": "markdown",
   "metadata": {},
   "source": [
    "# CSV(Comma Seperated Values) "
   ]
  },
  {
   "cell_type": "code",
   "execution_count": null,
   "metadata": {},
   "outputs": [],
   "source": [
    "#WRITE CSV\n",
    "import csv\n",
    "with open('new_csv.csv','w',newline='') as file:\n",
    "    writer = csv.writer(file)\n",
    "    writer.writerow(['field1','field2','field3'])\n",
    "    writer.writerow(['val1','val2','val3'])"
   ]
  },
  {
   "cell_type": "code",
   "execution_count": null,
   "metadata": {},
   "outputs": [],
   "source": [
    "# READ CSV\n",
    "with open('new_csv.csv','r') as file:\n",
    "    reader = csv.reader(file)\n",
    "    \n",
    "    for row in reader:\n",
    "        print (row)"
   ]
  },
  {
   "cell_type": "markdown",
   "metadata": {},
   "source": [
    "# RANDOM"
   ]
  },
  {
   "cell_type": "code",
   "execution_count": null,
   "metadata": {},
   "outputs": [],
   "source": [
    "import random"
   ]
  },
  {
   "cell_type": "code",
   "execution_count": null,
   "metadata": {},
   "outputs": [],
   "source": [
    "random.random()"
   ]
  },
  {
   "cell_type": "code",
   "execution_count": null,
   "metadata": {},
   "outputs": [],
   "source": [
    "random.randint(1,10)"
   ]
  },
  {
   "cell_type": "code",
   "execution_count": null,
   "metadata": {},
   "outputs": [],
   "source": [
    "a=[1,2,3,4,5]\n",
    "random.choice(a)"
   ]
  },
  {
   "cell_type": "code",
   "execution_count": null,
   "metadata": {},
   "outputs": [],
   "source": [
    "random.shuffle(a)\n",
    "a"
   ]
  },
  {
   "cell_type": "code",
   "execution_count": null,
   "metadata": {},
   "outputs": [],
   "source": [
    "import datetime\n",
    "d=datetime.date(2020,12,25)\n",
    "print(d)"
   ]
  },
  {
   "cell_type": "code",
   "execution_count": null,
   "metadata": {},
   "outputs": [],
   "source": [
    "import datetime\n",
    "timestamp1= datetime.datetime.now()\n",
    "timestamp2= datetime.datetime.now()\n",
    "print(timestamp1)\n",
    "print(timestamp2)"
   ]
  },
  {
   "cell_type": "code",
   "execution_count": null,
   "metadata": {},
   "outputs": [],
   "source": [
    "string= \"India,Australia,New Zealand,England,Pakistan\"\n",
    "temp = string.split(\",\", 2)\n",
    "print(temp)"
   ]
  },
  {
   "cell_type": "code",
   "execution_count": null,
   "metadata": {},
   "outputs": [],
   "source": [
    "import datetime\n",
    "timestamp1= datetime.datetime.now()\n",
    "timestamp2 = timestamp1+ datetime.timedelta(0,5)\n",
    "print (timestamp1)\n",
    "\n",
    "print (timestamp2)"
   ]
  },
  {
   "cell_type": "markdown",
   "metadata": {},
   "source": [
    "# Q1"
   ]
  },
  {
   "cell_type": "markdown",
   "metadata": {},
   "source": [
    "Present date and time :  2021-01-09 02:16:24.720615\n",
    "\n",
    "Present year:  2021\n",
    "\n",
    "Present month :  January\n",
    "\n",
    "Enter the No of days: 50\n",
    "\n",
    "Date after x number of days: 2021-02-28 02:16:28.163210"
   ]
  },
  {
   "cell_type": "code",
   "execution_count": null,
   "metadata": {},
   "outputs": [],
   "source": [
    "from datetime import datetime,timedelta\n",
    "def datetime_fun(days):\n",
    "    current_date = datetime.today()\n",
    "    print ('Present date and time : {}'.format(current_date))\n",
    "    present_year = datetime.now().year\n",
    "    print (f'Present year: {present_year}')\n",
    "    present_month = datetime.now().strftime('%B')\n",
    "    print (f'Present year: {present_month}')\n",
    "    today= datetime.today()\n",
    "    x_day = today+timedelta(days)\n",
    "    print (f'Date after x number of days:{x_day}')\n",
    "datetime_fun(50)"
   ]
  },
  {
   "cell_type": "markdown",
   "metadata": {},
   "source": [
    "# Q2\n",
    "Given a string containing the names of countries separated by commas. Split the string and store country names in the outputCSVFile.csv file.\n",
    "\n",
    "countries = \"India,Australia,Africa,USA,Canada\""
   ]
  },
  {
   "cell_type": "code",
   "execution_count": null,
   "metadata": {},
   "outputs": [],
   "source": [
    "import csv\n",
    "countries = \"India,Australia,Africa,USA,Canada\"\n",
    "countries = countries.split(',')\n",
    "countries\n",
    "with open('countriies_csv.csv','w',newline='') as file:\n",
    "    writer = csv.writer(file)\n",
    "    writer.writerow(countries)\n",
    "with open('countriies_csv.csv','r') as file:\n",
    "    reader = csv.reader(file)\n",
    "    \n",
    "    for row in reader:\n",
    "        print (row)"
   ]
  },
  {
   "cell_type": "code",
   "execution_count": null,
   "metadata": {},
   "outputs": [],
   "source": [
    "countries = \"India,Australia,Africa,USA,Canada\"\n",
    "tempList = countries.split(\", \")\n",
    " \n",
    "temp = open(\"outputCSVFile.csv\",\"w\")\n",
    "temp.writelines(tempList)\n",
    "temp.close()"
   ]
  },
  {
   "cell_type": "code",
   "execution_count": null,
   "metadata": {},
   "outputs": [],
   "source": [
    "x=5\n",
    "try:\n",
    "    print (x)\n",
    "except:\n",
    "    print ('Exception error occured')\n",
    "finally:\n",
    "    print ('FINALLY BLOCK')"
   ]
  },
  {
   "cell_type": "code",
   "execution_count": null,
   "metadata": {},
   "outputs": [],
   "source": [
    "try:\n",
    "    salary=int(input('Enter your income: '))\n",
    "except:\n",
    "    print ('Error!!! Please enter a valid data.')\n",
    "else:\n",
    "    if salary<= 10000:\n",
    "        print('You are eligible for this benefit.')\n",
    "    else:\n",
    "        print('You are not eligible for this benefit.')\n",
    " "
   ]
  },
  {
   "cell_type": "markdown",
   "metadata": {},
   "source": [
    "# Q\n",
    "A pizza centre announced a sale for its customers. Every customer will get a five-digit Unique Id. If the sum of digits of the unique ID is equal to 25, customers will get free takeaways.\n",
    "\n",
    "\n",
    "Write a python program to accept five-digit Unique Id and checks if he/she is eligible for free takeaway.\n",
    "Also, a \"Happy Holidays\" greeting should be displayed to all the customers.\n",
    "\n",
    "Example:\n",
    "\n",
    "1. Let's say the customer feeds 76741 as five-digit Unique Id. Since the sum of digits is 25, the output will be-\n",
    "\n",
    "Enter a number: 76741\n",
    "Congratulations, You win free takeaways\n",
    "Thankyou for shopping with us,Happy Holidays :)\n",
    "2.Let's say the customer feeds 76748 as five-digit Unique Id. Since the sum of digits is not 25, the output will be-\n",
    "\n",
    "Enter a number: 76748\n",
    "Better luck next time\n",
    "Thankyou for shopping with us,Happy Holidays :)\n",
    " "
   ]
  },
  {
   "cell_type": "code",
   "execution_count": null,
   "metadata": {},
   "outputs": [],
   "source": [
    "number = input('Enter a number:')\n",
    "pizza_shop(number)\n",
    "def pizza_shop(number):\n",
    "    sum = 0\n",
    "    for i in str(number):\n",
    "        sum += int(i)\n",
    "    if sum == 25:\n",
    "        print ('Congratulations, You win free takeaways')\n",
    "        print ('Thankyou for shopping with us,Happy Holidays :)')\n",
    "    else:\n",
    "        print ('Better luck next time')\n",
    "        print ('Thankyou for shopping with us,Happy Holidays :)')\n",
    "    #return (sum)"
   ]
  },
  {
   "cell_type": "code",
   "execution_count": null,
   "metadata": {},
   "outputs": [],
   "source": [
    "# Upgrade Answer\n",
    "def getSum(n):  \n",
    "    sum = 0\n",
    "    for digit in str(n):   \n",
    "      sum += int(digit)        \n",
    "    return sum\n",
    "    \n",
    "try:\n",
    "    num = int(input(\"Enter a number: \"))\n",
    "    if (getSum(num) == 25):\n",
    "        print(\"Congratulations, You win free takeaways\")\n",
    "    else:\n",
    "        print(\"Better luck next time\")\n",
    "except:\n",
    "    print(\"Error: Please enter Unique Id correctly\")\n",
    "finally:\n",
    "    print(\"Thankyou for shopping with us,Happy Holidays :)\")"
   ]
  },
  {
   "cell_type": "markdown",
   "metadata": {},
   "source": [
    "# Q\n",
    "Create a text file named \"file_json.json\"  and write given JSON data to that file.\n",
    "\n",
    "{\n",
    "'name': 'Learner 1',\n",
    "'experience': 'beginner',\n",
    "'contact' : [ {\n",
    "'email': 'xyz@gmail.com',\n",
    "'from': 'Maharashtra'}], \n",
    "'number':'43098090909'\n",
    "}"
   ]
  },
  {
   "cell_type": "code",
   "execution_count": null,
   "metadata": {},
   "outputs": [],
   "source": [
    "import json\n",
    "dict_data = { 'name': 'Learner 1', 'experience': 'beginner', 'contact' : [ { 'email': 'xyz@gmail.com', 'from': 'Maharashtra'}], 'number':'43098090909' }\n",
    "\n",
    "\n",
    "json_obj = json.dumps(dict_data)\n",
    "\n",
    "with open('json.txt','w') as file:\n",
    "    file.write(json_obj)\n",
    "\n",
    "\n",
    "\n"
   ]
  },
  {
   "cell_type": "code",
   "execution_count": null,
   "metadata": {},
   "outputs": [],
   "source": [
    "#Upgrade Program\n",
    "import json\n",
    " \n",
    "dictionary ={\n",
    "'name': 'Learner 1',\n",
    "'experience': 'beginner',\n",
    "'contact' : [ {\n",
    "'email': 'xyz@gmail.com',\n",
    "'from': 'Maharashtra'}], \n",
    "'number':'43098090909'\n",
    "}\n",
    "object = json.dumps(dictionary, indent = 2)\n",
    "with open(\"file_json.json\", \"w\") as outfile:\n",
    "    outfile.write(object )"
   ]
  },
  {
   "cell_type": "markdown",
   "metadata": {},
   "source": [
    "#Q\n",
    "Requests module\n",
    "Write a Python code to send a request to an authenticated web page, and print the response text and content.\n",
    "\n",
    "Note- If you don't know any authenticated web page, write a dummy code."
   ]
  },
  {
   "cell_type": "code",
   "execution_count": null,
   "metadata": {},
   "outputs": [],
   "source": [
    "import requests\n",
    "res = requests.get('https://www.google.com/')\n",
    "print(\"Response text of https://google.com/:\")\n",
    "print(res.text)\n",
    "print(\"\\n==============================================================================\")\n",
    "print(\"\\nContent of the said url:\")\n",
    "print(res.content)\n",
    "print(\"\\n==============================================================================\")\n",
    "print(\"\\nRaw data of the said url:\")\n",
    "r = requests.get('https://api.github.com/events', stream = True)\n",
    "print(r.raw)\n",
    "print(r.raw.read(15))"
   ]
  },
  {
   "cell_type": "code",
   "execution_count": null,
   "metadata": {},
   "outputs": [],
   "source": [
    "#Upgrade OP\n",
    "import requests\n",
    "from requests.auth import HTTPBasicAuth\n",
    "res = requests.get('https://gmail.com/mail',auth = HTTPBasicAuth('user', 'pass')) \n",
    " \n",
    "#replace URL with the URL of the authenticated web page whose response text you want to see\n",
    " \n",
    "#Replace user with your user ID and pass with your login password\n",
    " \n",
    "print(\"Response text of the web page is :\")\n",
    "print(res.text)\n",
    " \n",
    "print(\"\\nContent of the url:\")\n",
    "print(res.content)\n"
   ]
  },
  {
   "cell_type": "code",
   "execution_count": null,
   "metadata": {},
   "outputs": [],
   "source": [
    "import re\n",
    "string ='hello world hello'\n",
    "pattern = re.compile('hello')\n",
    "op=pattern.match(string=string)\n",
    "print (op)"
   ]
  },
  {
   "cell_type": "code",
   "execution_count": null,
   "metadata": {},
   "outputs": [],
   "source": [
    "import re\n",
    "string ='hello world hello'\n",
    "pattern = re.compile('hello')\n",
    "op=pattern.search(string=string)\n",
    "print (op)"
   ]
  },
  {
   "cell_type": "markdown",
   "metadata": {},
   "source": [
    "# Practice Questions"
   ]
  },
  {
   "cell_type": "markdown",
   "metadata": {},
   "source": [
    "# Q1\n",
    "Write code to take a string as input and trim all the vowels from starting and end of the string."
   ]
  },
  {
   "cell_type": "code",
   "execution_count": null,
   "metadata": {},
   "outputs": [],
   "source": [
    "string = input()\n",
    "n_lst = []\n",
    "for i in string:\n",
    "    if i in 'aeiou':\n",
    "        continue\n",
    "    else:\n",
    "        n_lst.append(i)\n",
    "n_string = ''.join(n_lst)\n",
    "print (f'Vowels Removed String:{n_string}')"
   ]
  },
  {
   "cell_type": "code",
   "execution_count": null,
   "metadata": {},
   "outputs": [],
   "source": [
    "def trim_operation(input_string):\n",
    "    n_lst = []\n",
    "    for i in input_string:\n",
    "        if i in 'aeiou':\n",
    "            continue\n",
    "        else:\n",
    "            n_lst.append(i)\n",
    "    n_string = ''.join(n_lst)\n",
    "    return n_string\n",
    "if __name__ == '__main__':\n",
    "    input_string = str(input())\n",
    "    result = trim_operation(input_string)\n",
    "    print(result)"
   ]
  },
  {
   "cell_type": "markdown",
   "metadata": {},
   "source": [
    "#Q2:\n",
    "Problem Statement\n",
    "\n",
    "Write code to take a string as input. For Example \"python\" and create a list with adding 0 to 4 at the end of the integer For Example [\"python0\", \"python1\", \"python2\", \"python3\", \"python4\"]. Finally use join to join this list with \"->\" as a separator and print the string. For Example \"python0->python1->python2->python3->python4\"\n"
   ]
  },
  {
   "cell_type": "code",
   "execution_count": null,
   "metadata": {},
   "outputs": [],
   "source": [
    "def split_operation(input_string):\n",
    "    n_lst = []\n",
    "    n1_lst = []\n",
    "    for j in list(range(5)):\n",
    "        n_lst = []\n",
    "        for i in input_string:\n",
    "            n_lst.append(i)\n",
    "        n_lst.extend(str(j))\n",
    "        n1_lst.append(n_lst)\n",
    "    n_result = []\n",
    "    for i in n1_lst:\n",
    "        result = ''.join(i)\n",
    "        n_result.append(result)\n",
    "    #print (n_result)\n",
    "    final_result = '->'.join(n_result)\n",
    "    return final_result\n",
    "    \n",
    "    \n",
    "    \n",
    "if __name__ == '__main__':\n",
    "    input_string = str(input())\n",
    "    result = split_operation(input_string)\n",
    "    print (result)"
   ]
  },
  {
   "cell_type": "code",
   "execution_count": null,
   "metadata": {},
   "outputs": [],
   "source": [
    "#upgrad using concatination method\n",
    "#!/usr/local/bin/python3\n",
    "\n",
    "import csv\n",
    "\n",
    "def join_operation(input_string):\n",
    "    a = []\n",
    "    for i in range(0,5):\n",
    "        data = input_string + str(i)\n",
    "        a.append(data)\n",
    "    return(\"->\".join(a))\n",
    "\n",
    "if __name__ == '__main__':\n",
    "    input_string = str(input())\n",
    "\n",
    "    result = join_operation(input_string)\n",
    "\n",
    "    print(result)"
   ]
  },
  {
   "cell_type": "code",
   "execution_count": null,
   "metadata": {},
   "outputs": [],
   "source": [
    "import os\n",
    "\n",
    "string = input()\n",
    "try:\n",
    "    writefile = os.open('filename.txt',os.O_WRONLY|os.O_CREAT)\n",
    "    string = string.encode('UTF-8')\n",
    "    os.write(writefile,string)\n",
    "except Exception as e:\n",
    "    print (str(e))\n",
    "finally:\n",
    "    os.close(writefile)\n",
    "\n",
    "try:\n",
    "    readfile = os.open('filename.txt',os.O_RDONLY)\n",
    "    os.read(readfile,100)\n",
    "except Exception as e:\n",
    "    print (str(e))\n",
    "finally:\n",
    "    os.close(readfile)\n",
    "    \n",
    "    "
   ]
  },
  {
   "cell_type": "code",
   "execution_count": null,
   "metadata": {},
   "outputs": [],
   "source": [
    "import os\n",
    "input_string = input()\n",
    "def file_read_write(input_string):\n",
    "    # Write your code here\n",
    "    try:\n",
    "        writefile = os.open('filename.txt',os.O_WRONLY|os.O_CREAT)\n",
    "        string = string.encode('UTF-8')\n",
    "        os.write(writefile,string)\n",
    "    except Exception as e:\n",
    "        print (str(e))\n",
    "    finally:\n",
    "        os.close(writefile)\n",
    "\n",
    "    try:\n",
    "        readfile = os.open('filename.txt',os.O_RDONLY)\n",
    "        result = os.read(readfile,100)\n",
    "        result=result.decode('UTF-8')\n",
    "    except Exception as e:\n",
    "        print (str(e))\n",
    "    finally:\n",
    "        os.close(readfile)\n",
    "    return result\n",
    "file_read_write(input_string)"
   ]
  },
  {
   "cell_type": "code",
   "execution_count": null,
   "metadata": {},
   "outputs": [],
   "source": [
    "import os\n",
    "def file_read_write(input_string):\n",
    "    # Write your code here\n",
    "    try:\n",
    "        writefile = os.open('filename.txt',os.O_WRONLY|os.O_CREAT)\n",
    "        string = input_string.encode('UTF-8')\n",
    "        os.write(writefile,string)\n",
    "    except Exception as e:\n",
    "        print (str(e))\n",
    "    finally:\n",
    "        os.close(writefile)\n",
    "    try:\n",
    "        readfile = os.open('filename.txt',os.O_RDONLY)\n",
    "        result = os.read(readfile,100)\n",
    "        result= result.decode('UTF-8')\n",
    "    except Exception as e:\n",
    "        print (str(e))\n",
    "    finally:\n",
    "        os.close(readfile)\n",
    "    return result\n",
    "\n",
    "input_string = input()\n",
    "file_read_write(input_string)"
   ]
  },
  {
   "cell_type": "code",
   "execution_count": null,
   "metadata": {},
   "outputs": [],
   "source": [
    "#upgrad\n",
    "#!/usr/local/bin/python3\n",
    "\n",
    "import os\n",
    "\n",
    "def file_read_write(input_string):\n",
    "    file = open(\"filename.txt\", 'w')\n",
    "    file.write(input_string)\n",
    "    file.close()\n",
    "\n",
    "    file = open(\"filename.txt\", 'r')\n",
    "    text = file.read()\n",
    "    file.close()\n",
    "    return text\n",
    "\n",
    "\n",
    "\n",
    "if __name__ == '__main__':\n",
    "    input_string = input()\n",
    "\n",
    "    result = file_read_write(input_string)\n",
    "\n",
    "    print(result)"
   ]
  },
  {
   "cell_type": "markdown",
   "metadata": {},
   "source": [
    "#Q\n",
    "user takes input as an integer i.e 6 and creates a list starting with the integer till +5 i.e. ['6', '7', '8', '9', '10', '11']. Write this list in a CSV file and then read that CSV file an d print output."
   ]
  },
  {
   "cell_type": "code",
   "execution_count": null,
   "metadata": {},
   "outputs": [],
   "source": [
    "import csv\n",
    "def csv_operation(input_epoc):\n",
    "    lst = []\n",
    "    for i in range(input_epoc,input_epoc+6):\n",
    "        lst.append(i)\n",
    "    try:\n",
    "        with open('temp_csv.csv','w') as csv_file:\n",
    "            csv_write = csv.writer(csv_file)\n",
    "            csv_write.writerow(lst)\n",
    "    except Exception as e:\n",
    "        print (str(e))\n",
    "    finally:\n",
    "        with open('temp_csv.csv','r') as csv_file:\n",
    "            csv_read = csv.reader(csv_file)\n",
    "            op = next(csv_read)\n",
    "            return op\n",
    "            \n",
    "        \n",
    "\n",
    "\n",
    "input_epoc=int(input())\n",
    "csv_operation(input_epoc)"
   ]
  },
  {
   "cell_type": "code",
   "execution_count": null,
   "metadata": {},
   "outputs": [],
   "source": [
    "import os \n",
    "\n",
    "def directory_operations(parent_directory):\n",
    "    try:\n",
    "        parent_dir = parent_directory\n",
    "        print (parent_dir)\n",
    "        child_dir = parent_dir+'_child'\n",
    "    \n",
    "        new_dir = os.path.join(parent_dir,child_dir) \n",
    "    \n",
    "        os.mkdir(new_dir)\n",
    "    \n",
    "        os.chdir(new_dir)\n",
    "        new_path = os.getcwd()\n",
    "        print(new_path)\n",
    "        filename = child_dir+'.txt'\n",
    "        with open(filename,'w') as f:\n",
    "            return os.listdir()\n",
    "    \n",
    "    except Exception as e:\n",
    "        print ('Error Occured as:',e)\n",
    "    \n",
    "if __name__ == \"__main__\":\n",
    "    dir_name = input()\n",
    "    result = directory_operations(dir_name)\n",
    "    print (result)"
   ]
  },
  {
   "cell_type": "code",
   "execution_count": null,
   "metadata": {},
   "outputs": [],
   "source": [
    "import os \n",
    "\n",
    "def directory_operations(parent_directory):\n",
    "    try:\n",
    "        parent_dir = parent_directory\n",
    "        print ('PARENT_DIR:',parent_dir)\n",
    "        child_dir = parent_dir+'_child'\n",
    "        print ('CHILD_DIR:',child_dir)\n",
    "        \n",
    "        current_path = os.getcwd()\n",
    "        print ('CURRENT_PATH:',current_path)\n",
    "        os.mkdir(parent_dir)\n",
    "        parent_path = os.path.join(current_path,parent_dir) \n",
    "        os.chdir(parent_path)\n",
    "        print ('CURRENT_PC_PATH:',parent_path)\n",
    "        os.mkdir(child_dir)\n",
    "        child_file = child_dir+'.txt'\n",
    "        with open(child_file,'w') as f:\n",
    "            pass\n",
    "        \n",
    "        return os.listdir()\n",
    "    \n",
    "    except Exception as e:\n",
    "        print ('Error Occured as:',e)\n",
    "    \n",
    "if __name__ == \"__main__\":\n",
    "    dir_name = input()\n",
    "    result = directory_operations(dir_name)\n",
    "    print (result)"
   ]
  },
  {
   "cell_type": "code",
   "execution_count": null,
   "metadata": {},
   "outputs": [],
   "source": [
    "# Upgrad OP\n",
    "usr/local/bin/python3\n",
    "\n",
    "import os\n",
    "\n",
    "def directory_operations(parent_directory):\n",
    "    child_directory = parent_directory + \"_child\"\n",
    "    text_file = child_directory + \".txt\"\n",
    "    lookback = \"../\" + parent_directory\n",
    "    os.mkdir(parent_directory)\n",
    "    os.chdir(parent_directory)\n",
    "    os.mkdir(child_directory)\n",
    "    with open(text_file, 'w') as file_name:\n",
    "        pass\n",
    "    list_of_dir = os.listdir(lookback)\n",
    "    return list_of_dir\n",
    "\n",
    "\n",
    "if __name__ == '__main__':\n",
    "    parent_directory = input()\n",
    "    result = directory_operations(parent_directory)\n",
    "\n",
    "    print(result)"
   ]
  },
  {
   "cell_type": "code",
   "execution_count": null,
   "metadata": {},
   "outputs": [],
   "source": [
    "os.chdir('/Users/samarthi/jobs')"
   ]
  },
  {
   "cell_type": "code",
   "execution_count": null,
   "metadata": {},
   "outputs": [],
   "source": [
    "os.listdir()"
   ]
  },
  {
   "cell_type": "markdown",
   "metadata": {},
   "source": [
    "# REGEXP"
   ]
  },
  {
   "cell_type": "code",
   "execution_count": 58,
   "metadata": {},
   "outputs": [
    {
     "name": "stdout",
     "output_type": "stream",
     "text": [
      "<re.Match object; span=(0, 5), match='Hello'>\n",
      "<re.Match object; span=(0, 5), match='Hello'>\n",
      "<re.Match object; span=(0, 1), match='H'>\n",
      "<re.Match object; span=(51, 52), match='3'>\n",
      "['Hello', 'Worldians', '', '', 'Welcome', 'to', 'Python', 'Course', 'Session', '3']\n",
      "Hello Worldians** Welcome to Python Course Session 3\n",
      "[' ', '!! ', ' ', ' ', ' ', ' ', ' ']\n"
     ]
    }
   ],
   "source": [
    "import re\n",
    "\n",
    "string = \"Hello Worldians!! Welcome to Python Course Session 3\" \n",
    "\n",
    "## Find a specific word \n",
    "pattern = re.compile('Hello')\n",
    "match = pattern.match(string=string)\n",
    "print (match)\n",
    "\n",
    "## Find if the string starts with a specific word \n",
    "pattern = re.compile('^Hello')\n",
    "match = pattern.search(string=string)\n",
    "print (match)\n",
    "\n",
    "## Find if the string starts with a Upper Case Letter\n",
    "pattern = re.compile('^[A-Z]')\n",
    "match = pattern.search(string=string)\n",
    "print (match)\n",
    "\n",
    "## Find if the string ends with a specific word \n",
    "pattern = re.compile('3$')\n",
    "match = pattern.search(string=string)\n",
    "print (match)\n",
    "\n",
    "## Find if the string ends with a number\n",
    "pattern = re.compile('\\d$')\n",
    "match = pattern.search(string=string)\n",
    "match\n",
    "           \n",
    "## Split a string using regular expressions \n",
    "pattern = re.compile('[^a-zA-Z0-9]')####This expression correspionds to special characters\n",
    "splits = pattern.split(string=string)\n",
    "print(splits)\n",
    "\n",
    "## Find and replace using regex\n",
    "pattern = re.compile('[^a-zA-Z0-9\\s]')\n",
    "string_d = pattern.sub(string=string,repl='*')#####Replacing all special chars and non space with *\n",
    "print (string_d)\n",
    "\n",
    "## Regex groups \n",
    "pattern = re.compile('[^a-zA-Z0-9]+')\n",
    "groups = pattern.findall(string=string)\n",
    "print (groups)"
   ]
  },
  {
   "cell_type": "markdown",
   "metadata": {},
   "source": [
    "# JSON"
   ]
  },
  {
   "cell_type": "code",
   "execution_count": 101,
   "metadata": {},
   "outputs": [
    {
     "name": "stdout",
     "output_type": "stream",
     "text": [
      "{'id': '5c8a1d5b0190b214360dc097', 'course': 'Python Session 1', 'Date': '18/12/2021'}\n",
      "<class 'dict'>\n",
      "ID: 5c8a1d5b0190b214360dc097\n",
      "COURSE Python Session 1\n",
      "DATE: 18/12/2021\n",
      "{'id': '5c8a1d5b0190b214360dc097', 'course': 'Python Session 1', 'Date': '18/12/2021'}\n",
      "id\n",
      "course\n",
      "Date\n",
      "\n",
      "\n",
      "5c8a1d5b0190b214360dc097\n",
      "Python Session 1\n",
      "18/12/2021\n",
      "\n",
      "\n",
      "id : 5c8a1d5b0190b214360dc097\n",
      "course : Python Session 1\n",
      "Date : 18/12/2021\n",
      "{'id': '5c8a1d5b0190b214360dc097', 'course': 'Python Session 1', 'Date': '18/12/2021'}\n",
      "<class 'dict'>\n",
      "{'id': '5c8a1d5b0190b214360dc098', 'course': 'Python Session 2', 'Date': '/12/2021'}\n",
      "<class 'dict'>\n",
      "{'id': '5c8a1d5b0190b214360dc099', 'course': 'Python Session 3', 'Date': '26/12/2021'}\n",
      "<class 'dict'>\n",
      "[{'id': '5c8a1d5b0190b214360dc097', 'course': 'Python Session 1', 'Date': '18/12/2021'}, {'id': '5c8a1d5b0190b214360dc098', 'course': 'Python Session 2', 'Date': '/12/2021'}, {'id': '5c8a1d5b0190b214360dc099', 'course': 'Python Session 3', 'Date': '26/12/2021'}]\n"
     ]
    }
   ],
   "source": [
    "import json,os\n",
    "jsonString = '{ \"id\": \"5c8a1d5b0190b214360dc097\", \"course\": \"Python Session 1\",\"Date\": \"18/12/2021\"}' \n",
    "\n",
    "course = json.loads(jsonString) #Converting json string into DICT\n",
    "print (course)\n",
    "print (type(course))\n",
    "\n",
    "print('ID:',course['id'])\n",
    "print ('COURSE',course['course'])\n",
    "print ('DATE:',course['Date'])\n",
    "\n",
    "os.getcwd()\n",
    "#WRITE JSON-->DUMP\n",
    "f = open('json/course.json','w')\n",
    "json.dump(course,f)\n",
    "f.close()\n",
    "\n",
    "#READ JSON-->LOAD\n",
    "f = open('json/course.json','r')\n",
    "course_1 = json.load(f)\n",
    "print(course_1)\n",
    "f.close()\n",
    "\n",
    "###KEYS\n",
    "for keys in course:\n",
    "    print (keys,end='\\n')\n",
    "print ('\\n')\n",
    "##Values\n",
    "for value in course.values():\n",
    "    print (value)\n",
    "print ('\\n')\n",
    "##ITEMS\n",
    "for key,value in course.items():\n",
    "    print (key,':',value)\n",
    "\n",
    "# READING json list file\n",
    "f = open('json/courses.json','r')\n",
    "courses = json.load(f)\n",
    "f.close()\n",
    "#print (courses)\n",
    "for c in courses:\n",
    "    print (c)\n",
    "    print (type(c))\n",
    "    \n",
    "f = open('json/courses_w.json','w')\n",
    "json.dump(courses,f)\n",
    "f.close()\n",
    "\n",
    "\n",
    "\n",
    "f = open('json/courses_w.json','r')\n",
    "courses = json.load(f)\n",
    "print (courses)"
   ]
  },
  {
   "cell_type": "markdown",
   "metadata": {},
   "source": [
    "# HTTP REQUESTS"
   ]
  },
  {
   "cell_type": "code",
   "execution_count": 126,
   "metadata": {},
   "outputs": [
    {
     "name": "stdout",
     "output_type": "stream",
     "text": [
      "RESP_CONTENT: b'<!doctype html><html itemscope=\"\" itemtype=\"http://schema.org/WebPage\" lang=\"en-IN\"><head><meta content=\"text/html; charset=UTF-8\" http-equiv=\"Content-Type\"><meta content=\"/logos/doodles/2022/stefania-maracineanus-140th-birthday-6753651837109443-l.png\" itemprop=\"image\"><meta content=\"&#536;tefania M&#259;r&#259;cineanu\\'s 140th Birthday\" property=\"twitter:title\"><meta content=\"&#536;tefania M&#259;r&#259;cineanu\\'s 140th Birthday #GoogleDoodle\" property=\"twitter:description\"><meta content=\"&#536;tefania M&#259;r&#259;cineanu\\'s 140th Birthday #GoogleDoodle\" property=\"og:description\"><meta content=\"summary_large_image\" property=\"twitter:card\"><meta content=\"@GoogleDoodles\" property=\"twitter:site\"><meta content=\"https://www.google.com/logos/doodles/2022/stefania-maracineanus-140th-birthday-6753651837109443-2x.png\" property=\"twitter:image\"><meta content=\"https://www.google.com/logos/doodles/2022/stefania-maracineanus-140th-birthday-6753651837109443-2x.png\" property=\"og:image\"><meta content=\"1000\" property=\"og:image:width\"><meta content=\"400\" property=\"og:image:height\"><title>Google</title><script nonce=\"RquM99Eiy3ljdjyM4ss50w\">(function(){window.google={kEI:\\'z-KtYobfHMjw4-EPwbCjuAc\\',kEXPI:\\'0,1302536,56873,6058,207,4804,1410,906,383,246,5,1354,4013,1123753,1197726,380765,16114,28684,17572,4858,1362,9290,3030,17579,4020,978,13228,3847,10622,22741,5081,885,708,1279,2742,149,1103,840,1987,4310,3514,606,2023,1777,520,14670,3227,2845,7,4773,12677,16320,1851,2614,3784,9358,3,346,230,1014,1,5444,149,11327,2648,4,1528,2304,7039,3580,16729,1714,3050,2658,7357,13658,21223,5800,2557,4094,4052,3,3541,1,42154,2,3359,10663,2715,11401,11623,5679,1021,2380,2718,9767,8494,2,2,5,7753,4569,6255,23421,1252,5835,14968,4332,8,6081,1395,445,2,2,1,26632,8155,2566,4016,799,2,11,2436,593,859,7871,2908,7341,3423,2,5,1190,9835,7,1922,5706,3463,610,23,5416,901,548,895,2045,2,2585,3099,209,1496,3558,1002,156,7834,650,44,3148,1582,181,780,1318,208,4586,65,727,1031,767,1977,966,1096,2739,372,596,568,9,113,418,282,4,1,2,2,2,2,2750,1457,993,169,34,71,163,601,483,103,22,1007,356,905,74,330,72,89,603,281,371,7,1846,899,525,7,621,1106,5396683,2982,245,230,110,8799682,3311,141,795,19735,1,1,346,6,276,2,3,1,23950196,4042143,1964,1007,1928,159,1358,12220,2555,851,717,936184\\',kBL:\\'KDkG\\'};google.sn=\\'webhp\\';google.kHL=\\'en-IN\\';})();(function(){\\nvar f=this||self;var h,k=[];function l(a){for(var b;a&&(!a.getAttribute||!(b=a.getAttribute(\"eid\")));)a=a.parentNode;return b||h}function m(a){for(var b=null;a&&(!a.getAttribute||!(b=a.getAttribute(\"leid\")));)a=a.parentNode;return b}\\nfunction n(a,b,c,d,g){var e=\"\";c||-1!==b.search(\"&ei=\")||(e=\"&ei=\"+l(d),-1===b.search(\"&lei=\")&&(d=m(d))&&(e+=\"&lei=\"+d));d=\"\";!c&&f._cshid&&-1===b.search(\"&cshid=\")&&\"slh\"!==a&&(d=\"&cshid=\"+f._cshid);c=c||\"/\"+(g||\"gen_204\")+\"?atyp=i&ct=\"+a+\"&cad=\"+b+e+\"&zx=\"+Date.now()+d;/^http:/i.test(c)&&\"https:\"===window.location.protocol&&(google.ml&&google.ml(Error(\"a\"),!1,{src:c,glmm:1}),c=\"\");return c};h=google.kEI;google.getEI=l;google.getLEI=m;google.ml=function(){return null};google.log=function(a,b,c,d,g){if(c=n(a,b,c,d,g)){a=new Image;var e=k.length;k[e]=a;a.onerror=a.onload=a.onabort=function(){delete k[e]};a.src=c}};google.logUrl=n;}).call(this);(function(){\\ngoogle.y={};google.sy=[];google.x=function(a,b){if(a)var c=a.id;else{do c=Math.random();while(google.y[c])}google.y[c]=[a,b];return!1};google.sx=function(a){google.sy.push(a)};google.lm=[];google.plm=function(a){google.lm.push.apply(google.lm,a)};google.lq=[];google.load=function(a,b,c){google.lq.push([[a],b,c])};google.loadAll=function(a,b){google.lq.push([a,b])};google.bx=!1;google.lx=function(){};}).call(this);google.f={};(function(){\\ndocument.documentElement.addEventListener(\"submit\",function(b){var a;if(a=b.target){var c=a.getAttribute(\"data-submitfalse\");a=\"1\"===c||\"q\"===c&&!a.elements.q.value?!0:!1}else a=!1;a&&(b.preventDefault(),b.stopPropagation())},!0);document.documentElement.addEventListener(\"click\",function(b){var a;a:{for(a=b.target;a&&a!==document.documentElement;a=a.parentElement)if(\"A\"===a.tagName){a=\"1\"===a.getAttribute(\"data-nohref\");break a}a=!1}a&&b.preventDefault()},!0);}).call(this);</script><style>#gbar,#guser{font-size:13px;padding-top:1px !important;}#gbar{height:22px}#guser{padding-bottom:7px !important;text-align:right}.gbh,.gbd{border-top:1px solid #c9d7f1;font-size:1px}.gbh{height:0;position:absolute;top:24px;width:100%}@media all{.gb1{height:22px;margin-right:.5em;vertical-align:top}#gbar{float:left}}a.gb1,a.gb4{text-decoration:underline !important}a.gb1,a.gb4{color:#00c !important}.gbi .gb4{color:#dd8e27 !important}.gbf .gb4{color:#900 !important}\\n</style><style>body,td,a,p,.h{font-family:arial,sans-serif}body{margin:0;overflow-y:scroll}#gog{padding:3px 8px 0}td{line-height:.8em}.gac_m td{line-height:17px}form{margin-bottom:20px}.h{color:#1558d6}em{font-weight:bold;font-style:normal}.lst{height:25px;width:496px}.gsfi,.lst{font:18px arial,sans-serif}.gsfs{font:17px arial,sans-serif}.ds{display:inline-box;display:inline-block;margin:3px 0 4px;margin-left:4px}input{font-family:inherit}body{background:#fff;color:#000}a{color:#4b11a8;text-decoration:none}a:hover,a:active{text-decoration:underline}.fl a{color:#1558d6}a:visited{color:#4b11a8}.sblc{padding-top:5px}.sblc a{display:block;margin:2px 0;margin-left:13px;font-size:11px}.lsbb{background:#f8f9fa;border:solid 1px;border-color:#dadce0 #70757a #70757a #dadce0;height:30px}.lsbb{display:block}#WqQANb a{display:inline-block;margin:0 12px}.lsb{background:url(/images/nav_logo229.png) 0 -261px repeat-x;border:none;color:#000;cursor:pointer;height:30px;margin:0;outline:0;font:15px arial,sans-serif;vertical-align:top}.lsb:active{background:#dadce0}.lst:focus{outline:none}</style><script nonce=\"RquM99Eiy3ljdjyM4ss50w\">(function(){window.google.erd={jsr:1,bv:1603,de:true};\\nvar f=this||self;var g,h=null!=(g=f.mei)?g:1,m,n=null!=(m=f.sdo)?m:!0,p=0,q,r=google.erd,u=r.jsr;google.ml=function(a,b,d,k,c){c=void 0===c?2:c;b&&(q=a&&a.message);if(google.dl)return google.dl(a,c,d),null;if(0>u){window.console&&console.error(a,d);if(-2===u)throw a;b=!1}else b=!a||!a.message||\"Error loading script\"===a.message||p>=h&&!k?!1:!0;if(!b)return null;p++;d=d||{};var e=c;c=encodeURIComponent;b=\"/gen_204?atyp=i&ei=\"+c(google.kEI);google.kEXPI&&(b+=\"&jexpid=\"+c(google.kEXPI));b+=\"&srcpg=\"+c(google.sn)+\"&jsr=\"+c(r.jsr)+\"&bver=\"+c(r.bv)+(\"&jsel=\"+e);e=a.lineNumber;void 0!==e&&(b+=\"&line=\"+\\ne);var l=a.fileName;l&&(b+=\"&script=\"+c(l),e&&l===window.location.href&&(e=document.documentElement.outerHTML.split(\"\\\\n\")[e],b+=\"&cad=\"+c(e?e.substring(0,300):\"No script found.\")));for(var t in d)b+=\"&\",b+=c(t),b+=\"=\",b+=c(d[t]);b=b+\"&emsg=\"+c(a.name+\": \"+a.message);b=b+\"&jsst=\"+c(a.stack||\"N/A\");12288<=b.length&&(b=b.substr(0,12288));a=b;k||google.log(0,\"\",a);return a};window.onerror=function(a,b,d,k,c){q!==a&&(a=c instanceof Error?c:Error(a),void 0===d||\"lineNumber\"in a||(a.lineNumber=d),void 0===b||\"fileName\"in a||(a.fileName=b),google.ml(a,!1,void 0,!1,\"SyntaxError\"===a.name||\"SyntaxError\"===a.message.substring(0,11)?2:0));q=null;n&&p>=h&&(window.onerror=null)};})();</script></head><body bgcolor=\"#fff\"><script nonce=\"RquM99Eiy3ljdjyM4ss50w\">(function(){var src=\\'/images/nav_logo229.png\\';var iesg=false;document.body.onload = function(){window.n && window.n();if (document.images){new Image().src=src;}\\nif (!iesg){document.f&&document.f.q.focus();document.gbqf&&document.gbqf.q.focus();}\\n}\\n})();</script><div id=\"mngb\"><div id=gbar><nobr><b class=gb1>Search</b> <a class=gb1 href=\"http://www.google.co.in/imghp?hl=en&tab=wi\">Images</a> <a class=gb1 href=\"http://maps.google.co.in/maps?hl=en&tab=wl\">Maps</a> <a class=gb1 href=\"https://play.google.com/?hl=en&tab=w8\">Play</a> <a class=gb1 href=\"http://www.youtube.com/?gl=IN&tab=w1\">YouTube</a> <a class=gb1 href=\"https://news.google.com/?tab=wn\">News</a> <a class=gb1 href=\"https://mail.google.com/mail/?tab=wm\">Gmail</a> <a class=gb1 href=\"https://drive.google.com/?tab=wo\">Drive</a> <a class=gb1 style=\"text-decoration:none\" href=\"https://www.google.co.in/intl/en/about/products?tab=wh\"><u>More</u> &raquo;</a></nobr></div><div id=guser width=100%><nobr><span id=gbn class=gbi></span><span id=gbf class=gbf></span><span id=gbe></span><a href=\"http://www.google.co.in/history/optout?hl=en\" class=gb4>Web History</a> | <a  href=\"/preferences?hl=en\" class=gb4>Settings</a> | <a target=_top id=gb_70 href=\"https://accounts.google.com/ServiceLogin?hl=en&passive=true&continue=http://www.google.com/&ec=GAZAAQ\" class=gb4>Sign in</a></nobr></div><div class=gbh style=left:0></div><div class=gbh style=right:0></div></div><center><br clear=\"all\" id=\"lgpd\"><div id=\"lga\"><a href=\"/search?ie=UTF-8&amp;q=%C8%98tefania+M%C4%83r%C4%83cineanu&amp;oi=ddle&amp;ct=207425472&amp;hl=en-GB&amp;sa=X&amp;ved=0ahUKEwjGgunQnLf4AhVI-DgGHUHYCHcQPQgD\"><img alt=\"&#536;tefania M&#259;r&#259;cineanu\\'s 140th Birthday\" border=\"0\" height=\"200\" src=\"/logos/doodles/2022/stefania-maracineanus-140th-birthday-6753651837109443-l.png\" title=\"&#536;tefania M&#259;r&#259;cineanu\\'s 140th Birthday\" width=\"500\" id=\"hplogo\"><br></a><br></div><form action=\"/search\" name=\"f\"><table cellpadding=\"0\" cellspacing=\"0\"><tr valign=\"top\"><td width=\"25%\">&nbsp;</td><td align=\"center\" nowrap=\"\"><input name=\"ie\" value=\"ISO-8859-1\" type=\"hidden\"><input value=\"en-IN\" name=\"hl\" type=\"hidden\"><input name=\"source\" type=\"hidden\" value=\"hp\"><input name=\"biw\" type=\"hidden\"><input name=\"bih\" type=\"hidden\"><div class=\"ds\" style=\"height:32px;margin:4px 0\"><input class=\"lst\" style=\"margin:0;padding:5px 8px 0 6px;vertical-align:top;color:#000\" autocomplete=\"off\" value=\"\" title=\"Google Search\" maxlength=\"2048\" name=\"q\" size=\"57\"></div><br style=\"line-height:0\"><span class=\"ds\"><span class=\"lsbb\"><input class=\"lsb\" value=\"Google Search\" name=\"btnG\" type=\"submit\"></span></span><span class=\"ds\"><span class=\"lsbb\"><input class=\"lsb\" id=\"tsuid1\" value=\"I\\'m Feeling Lucky\" name=\"btnI\" type=\"submit\"><script nonce=\"RquM99Eiy3ljdjyM4ss50w\">(function(){var id=\\'tsuid1\\';document.getElementById(id).onclick = function(){if (this.form.q.value){this.checked = 1;if (this.form.iflsig)this.form.iflsig.disabled = false;}\\nelse top.location=\\'/doodles/\\';};})();</script><input value=\"AJiK0e8AAAAAYq3w3xoASolZ6-7sxHVSrI3q_FKvvZYq\" name=\"iflsig\" type=\"hidden\"></span></span></td><td class=\"fl sblc\" align=\"left\" nowrap=\"\" width=\"25%\"><a href=\"/advanced_search?hl=en-IN&amp;authuser=0\">Advanced search</a></td></tr></table><input id=\"gbv\" name=\"gbv\" type=\"hidden\" value=\"1\"><script nonce=\"RquM99Eiy3ljdjyM4ss50w\">(function(){\\nvar a,b=\"1\";if(document&&document.getElementById)if(\"undefined\"!=typeof XMLHttpRequest)b=\"2\";else if(\"undefined\"!=typeof ActiveXObject){var c,d,e=[\"MSXML2.XMLHTTP.6.0\",\"MSXML2.XMLHTTP.3.0\",\"MSXML2.XMLHTTP\",\"Microsoft.XMLHTTP\"];for(c=0;d=e[c++];)try{new ActiveXObject(d),b=\"2\"}catch(h){}}a=b;if(\"2\"==a&&-1==location.search.indexOf(\"&gbv=2\")){var f=google.gbvu,g=document.getElementById(\"gbv\");g&&(g.value=a);f&&window.setTimeout(function(){location.href=f},0)};}).call(this);</script></form><div id=\"gac_scont\"></div><div style=\"font-size:83%;min-height:3.5em\"><br><div id=\"gws-output-pages-elements-homepage_additional_languages__als\"><style>#gws-output-pages-elements-homepage_additional_languages__als{font-size:small;margin-bottom:24px}#SIvCob{color:#3c4043;display:inline-block;line-height:28px;}#SIvCob a{padding:0 3px;}.H6sW5{display:inline-block;margin:0 2px;white-space:nowrap}.z4hgWe{display:inline-block;margin:0 2px}</style><div id=\"SIvCob\">Google offered in:  <a href=\"http://www.google.com/setprefs?sig=0_JirpPt1NSgTPh-CeslcF_js8d3s%3D&amp;hl=hi&amp;source=homepage&amp;sa=X&amp;ved=0ahUKEwjGgunQnLf4AhVI-DgGHUHYCHcQ2ZgBCAU\">&#2361;&#2367;&#2344;&#2381;&#2342;&#2368;</a>    <a href=\"http://www.google.com/setprefs?sig=0_JirpPt1NSgTPh-CeslcF_js8d3s%3D&amp;hl=bn&amp;source=homepage&amp;sa=X&amp;ved=0ahUKEwjGgunQnLf4AhVI-DgGHUHYCHcQ2ZgBCAY\">&#2476;&#2494;&#2434;&#2482;&#2494;</a>    <a href=\"http://www.google.com/setprefs?sig=0_JirpPt1NSgTPh-CeslcF_js8d3s%3D&amp;hl=te&amp;source=homepage&amp;sa=X&amp;ved=0ahUKEwjGgunQnLf4AhVI-DgGHUHYCHcQ2ZgBCAc\">&#3108;&#3142;&#3122;&#3137;&#3095;&#3137;</a>    <a href=\"http://www.google.com/setprefs?sig=0_JirpPt1NSgTPh-CeslcF_js8d3s%3D&amp;hl=mr&amp;source=homepage&amp;sa=X&amp;ved=0ahUKEwjGgunQnLf4AhVI-DgGHUHYCHcQ2ZgBCAg\">&#2350;&#2352;&#2366;&#2336;&#2368;</a>    <a href=\"http://www.google.com/setprefs?sig=0_JirpPt1NSgTPh-CeslcF_js8d3s%3D&amp;hl=ta&amp;source=homepage&amp;sa=X&amp;ved=0ahUKEwjGgunQnLf4AhVI-DgGHUHYCHcQ2ZgBCAk\">&#2980;&#2990;&#3007;&#2996;&#3021;</a>    <a href=\"http://www.google.com/setprefs?sig=0_JirpPt1NSgTPh-CeslcF_js8d3s%3D&amp;hl=gu&amp;source=homepage&amp;sa=X&amp;ved=0ahUKEwjGgunQnLf4AhVI-DgGHUHYCHcQ2ZgBCAo\">&#2711;&#2753;&#2716;&#2736;&#2750;&#2724;&#2752;</a>    <a href=\"http://www.google.com/setprefs?sig=0_JirpPt1NSgTPh-CeslcF_js8d3s%3D&amp;hl=kn&amp;source=homepage&amp;sa=X&amp;ved=0ahUKEwjGgunQnLf4AhVI-DgGHUHYCHcQ2ZgBCAs\">&#3221;&#3240;&#3277;&#3240;&#3233;</a>    <a href=\"http://www.google.com/setprefs?sig=0_JirpPt1NSgTPh-CeslcF_js8d3s%3D&amp;hl=ml&amp;source=homepage&amp;sa=X&amp;ved=0ahUKEwjGgunQnLf4AhVI-DgGHUHYCHcQ2ZgBCAw\">&#3374;&#3378;&#3375;&#3390;&#3379;&#3330;</a>    <a href=\"http://www.google.com/setprefs?sig=0_JirpPt1NSgTPh-CeslcF_js8d3s%3D&amp;hl=pa&amp;source=homepage&amp;sa=X&amp;ved=0ahUKEwjGgunQnLf4AhVI-DgGHUHYCHcQ2ZgBCA0\">&#2602;&#2672;&#2588;&#2622;&#2604;&#2624;</a>  </div></div></div><span id=\"footer\"><div style=\"font-size:10pt\"><div style=\"margin:19px auto;text-align:center\" id=\"WqQANb\"><a href=\"/intl/en/ads/\">Advertising\\xa0Programs</a><a href=\"http://www.google.co.in/services/\">Business Solutions</a><a href=\"/intl/en/about.html\">About Google</a><a href=\"http://www.google.com/setprefdomain?prefdom=IN&amp;prev=http://www.google.co.in/&amp;sig=K_P_JKQcchmk_QsMbGLU-vDL5otiw%3D\">Google.co.in</a></div></div><p style=\"font-size:8pt;color:#70757a\">&copy; 2022 - <a href=\"/intl/en/policies/privacy/\">Privacy</a> - <a href=\"/intl/en/policies/terms/\">Terms</a></p></span></center><script nonce=\"RquM99Eiy3ljdjyM4ss50w\">(function(){window.google.cdo={height:757,width:1440};(function(){\\nvar a=window.innerWidth,b=window.innerHeight;if(!a||!b){var c=window.document,d=\"CSS1Compat\"==c.compatMode?c.documentElement:c.body;a=d.clientWidth;b=d.clientHeight}a&&b&&(a!=google.cdo.width||b!=google.cdo.height)&&google.log(\"\",\"\",\"/client_204?&atyp=i&biw=\"+a+\"&bih=\"+b+\"&ei=\"+google.kEI);}).call(this);})();</script> <script nonce=\"RquM99Eiy3ljdjyM4ss50w\">(function(){google.xjs={ck:\\'\\',cs:\\'\\',excm:[]};})();</script>  <script nonce=\"RquM99Eiy3ljdjyM4ss50w\">(function(){var u=\\'/xjs/_/js/k\\\\x3dxjs.hp.en.YVYu6uqUgCI.O/am\\\\x3dAOAJAEACIAE/d\\\\x3d1/ed\\\\x3d1/rs\\\\x3dACT90oHFTsgjsBhSXUutHNQg7sxa9Z_aUg/m\\\\x3dsb_he,d\\';\\nvar d=this||self,e=function(a){return a};\\nvar g;var l=function(a,b){this.g=b===h?a:\"\"};l.prototype.toString=function(){return this.g+\"\"};var h={};function n(){var a=u;google.lx=function(){p(a);google.lx=function(){}};google.bx||google.lx()}\\nfunction p(a){google.timers&&google.timers.load&&google.tick&&google.tick(\"load\",\"xjsls\");var b=document;var c=\"SCRIPT\";\"application/xhtml+xml\"===b.contentType&&(c=c.toLowerCase());c=b.createElement(c);if(void 0===g){b=null;var k=d.trustedTypes;if(k&&k.createPolicy){try{b=k.createPolicy(\"goog#html\",{createHTML:e,createScript:e,createScriptURL:e})}catch(q){d.console&&d.console.error(q.message)}g=b}else g=b}a=(b=g)?b.createScriptURL(a):a;a=new l(a,h);c.src=a instanceof l&&a.constructor===l?a.g:\"type_error:TrustedResourceUrl\";var f,m;(f=(a=null==(m=(f=(c.ownerDocument&&c.ownerDocument.defaultView||window).document).querySelector)?void 0:m.call(f,\"script[nonce]\"))?a.nonce||a.getAttribute(\"nonce\")||\"\":\"\")&&c.setAttribute(\"nonce\",f);document.body.appendChild(c);google.psa=!0};google.xjsu=u;setTimeout(function(){n()},0);})();function _DumpException(e){throw e;}\\nfunction _F_installCss(c){}\\n(function(){google.jl={attn:false,blt:\\'none\\',chnk:0,dw:false,dwu:true,emtn:0,end:0,ine:false,injs:\\'none\\',injt:0,injth:0,injv2:false,lls:\\'default\\',pdt:0,rep:0,snet:true,strt:0,ubm:false,uwp:true};})();(function(){var pmc=\\'{\\\\x22d\\\\x22:{},\\\\x22sb_he\\\\x22:{\\\\x22agen\\\\x22:true,\\\\x22cgen\\\\x22:true,\\\\x22client\\\\x22:\\\\x22heirloom-hp\\\\x22,\\\\x22dh\\\\x22:true,\\\\x22dhqt\\\\x22:true,\\\\x22ds\\\\x22:\\\\x22\\\\x22,\\\\x22ffql\\\\x22:\\\\x22en\\\\x22,\\\\x22fl\\\\x22:true,\\\\x22host\\\\x22:\\\\x22google.com\\\\x22,\\\\x22isbh\\\\x22:28,\\\\x22jsonp\\\\x22:true,\\\\x22msgs\\\\x22:{\\\\x22cibl\\\\x22:\\\\x22Clear Search\\\\x22,\\\\x22dym\\\\x22:\\\\x22Did you mean:\\\\x22,\\\\x22lcky\\\\x22:\\\\x22I\\\\\\\\u0026#39;m Feeling Lucky\\\\x22,\\\\x22lml\\\\x22:\\\\x22Learn more\\\\x22,\\\\x22oskt\\\\x22:\\\\x22Input tools\\\\x22,\\\\x22psrc\\\\x22:\\\\x22This search was removed from your \\\\\\\\u003Ca href\\\\x3d\\\\\\\\\\\\x22/history\\\\\\\\\\\\x22\\\\\\\\u003EWeb History\\\\\\\\u003C/a\\\\\\\\u003E\\\\x22,\\\\x22psrl\\\\x22:\\\\x22Remove\\\\x22,\\\\x22sbit\\\\x22:\\\\x22Search by image\\\\x22,\\\\x22srch\\\\x22:\\\\x22Google Search\\\\x22},\\\\x22ovr\\\\x22:{},\\\\x22pq\\\\x22:\\\\x22\\\\x22,\\\\x22refpd\\\\x22:true,\\\\x22rfs\\\\x22:[],\\\\x22sbas\\\\x22:\\\\x220 3px 8px 0 rgba(0,0,0,0.2),0 0 0 1px rgba(0,0,0,0.08)\\\\x22,\\\\x22sbpl\\\\x22:16,\\\\x22sbpr\\\\x22:16,\\\\x22scd\\\\x22:10,\\\\x22stok\\\\x22:\\\\x22RDitAxYQJSPR_r8cN2fgQ8QEJ1M\\\\x22,\\\\x22uhde\\\\x22:false}}\\';google.pmc=JSON.parse(pmc);})();</script>        </body></html>'\n"
     ]
    }
   ],
   "source": [
    "import requests\n",
    "\n",
    "# JUST URL RESP\n",
    "g_url = 'http://www.google.com'\n",
    "resp = requests.get(g_url)\n",
    "print ('RESP_CONTENT:',resp.content)\n",
    "\n",
    "#parameter request\n",
    "parameter= {\"q\":'python','a':'b'}\n",
    "p_url = 'http://www.google.com/search'\n",
    "resp = requests.get(p_url,params = parameter)\n",
    "#print ('RESP_TEXT:',resp.text)\n",
    "\n",
    "##POST\n",
    "po_url = 'https://httpbin.org/post'\n",
    "json_data = {'username':'suman','password':'Aruba@123'}\n",
    "\n",
    "resp = requests.post(po_url,data=json_data,headers={'accept':'application/json'})\n",
    "#resp.text\n",
    "\n",
    "\n",
    "## Cookies and Sessions \n",
    "# http_url = \"https://httpbin.org/cookies\" \n",
    "# ssn = requests.Session()\n",
    "# ssn.cookies.update({'visit-month': 'December'})\n",
    " \n",
    "# resOne = ssn.get(http_url)\n",
    "# print(resOne.text)\n",
    "# # prints information about \"visit-month\" cookie\n",
    " \n",
    "# resTwo = ssn.get(http_url, cookies={'visit-year': '2021'})\n",
    "# print(resTwo.text)\n",
    "# # prints information about \"visit-month\" and \"visit-year\" cookie\n",
    " \n",
    "# resThree = ssn.get(http_url)\n",
    "# print(resThree.text)"
   ]
  },
  {
   "cell_type": "markdown",
   "metadata": {},
   "source": [
    "# Exception"
   ]
  },
  {
   "cell_type": "code",
   "execution_count": 131,
   "metadata": {},
   "outputs": [
    {
     "name": "stdout",
     "output_type": "stream",
     "text": [
      "5.0\n",
      "Executed Happily\n",
      "Ending the division\n"
     ]
    }
   ],
   "source": [
    "# ZeroDivisionError\n",
    "# a = 10/0 \n",
    "# print(a) \n",
    "\n",
    "# Handling ZeroDivisionError\n",
    "# try: \n",
    "#     a = 10/0\n",
    "#     print(a)\n",
    "# except ZeroDivisionError: \n",
    "#     print(\"An error Ocurred\") \n",
    "\n",
    "# Handling NameError \n",
    "try: \n",
    "    b=2\n",
    "    a = 10/b\n",
    "    print(a)\n",
    "except ZeroDivisionError: \n",
    "    print(\"Division by zero\") \n",
    "except NameError: \n",
    "    print(\"Element Not found\") \n",
    "else: #####This block will hit if any exceptions are not hit\n",
    "    print(\"Executed Happily\") \n",
    "finally: \n",
    "    print(\"Ending the division\") \n",
    "\n",
    "# ## Raising an exception \n",
    "#try: \n",
    "#    raise NameError(\"Raising a NameError\")\n",
    "#except Exception as e:\n",
    "#    print(str(e)) "
   ]
  },
  {
   "cell_type": "markdown",
   "metadata": {},
   "source": [
    "# grep AWK and SED"
   ]
  },
  {
   "cell_type": "markdown",
   "metadata": {},
   "source": [
    "# Frequency of WORD occurences\n",
    "[root@Nagios-Ansible-Srv home]# cat words.txt \n",
    "the day is sunny the the\n",
    "the sunny is is\n",
    "[root@Nagios-Ansible-Srv home]# sed -r 's/\\s+/\\n/g' words.txt | grep -v \"^$\" | sort | uniq -c | sort -r | awk '{print $2\" \"$1}'\n",
    "the 4\n",
    "is 3\n",
    "sunny 2\n",
    "day 1\n",
    "[root@Nagios-Ansible-Srv home]# grep -o -E '\\w+' words.txt  | sort | uniq -c | awk '{print $2\" \"$1 }'\n",
    "day 1\n",
    "is 3\n",
    "sunny 2\n",
    "the 4\n"
   ]
  },
  {
   "cell_type": "markdown",
   "metadata": {},
   "source": [
    "[root@Nagios-Ansible-Srv home]# grep -o -E '\\w+' words.txt  | sort | uniq -c | awk '{print $2\" \"$1 }'\n",
    "day 1\n",
    "is 3\n",
    "sunny 2\n",
    "the 4\n",
    "[root@Nagios-Ansible-Srv home]# sed -r 's/\\s+/\\n/g' words.txt | grep -v \"^$\" | sort | uniq -c | sort -r | awk '{print $2\" \"$1}'\n",
    "the 4\n",
    "is 3\n",
    "sunny 2\n",
    "day 1\n",
    "[root@Nagios-Ansible-Srv home]# cat words.txt \n",
    "the day is sunny the the\n",
    "the sunny is is\n",
    "[root@Nagios-Ansible-Srv home]# sed -r 's/\\s+/\\n/g' words.txt | grep -v \"^$\" | sort | uniq -c | sort -r | awk '{print $2\" \"$1}'\n",
    "the 4\n",
    "is 3\n",
    "sunny 2\n",
    "day 1\n",
    "[root@Nagios-Ansible-Srv home]# grep -o -E '\\w+' words.txt  | sort | uniq -c | awk '{print $2\" \"$1 }'\n",
    "day 1\n",
    "is 3\n",
    "sunny 2\n",
    "the 4\n",
    "[root@Nagios-Ansible-Srv home]# grep -i 'sunny' words.txt \n",
    "the day is sunny the the\n",
    "the sunny is is\n",
    "[root@Nagios-Ansible-Srv home]# grep -c 'sunny' words.txt \n",
    "2\n",
    "[root@Nagios-Ansible-Srv home]# grep -E 'sunny' words.txt \n",
    "the day is sunny the the\n",
    "the sunny is is\n",
    "[root@Nagios-Ansible-Srv home]# grep -E '\\w+' words.txt \n",
    "the day is sunny the the\n",
    "the sunny is is\n",
    "[root@Nagios-Ansible-Srv home]# find /home/suman/ -name a.py\n",
    "/home/suman/Longevities/python-scripts/Rolling_Upgrade/a.py\n",
    "/home/suman/python-scripts/workspace/jankine_try/a.py\n",
    "/home/suman/python-scripts/a.py\n",
    "[root@Nagios-Ansible-Srv home]# find /home/suman/ -name *.py\n"
   ]
  },
  {
   "cell_type": "markdown",
   "metadata": {},
   "source": [
    "[root@Nagios-Ansible-Srv home]# grep -o -E '\\w+' words.txt | uniq -c\n",
    "      1 the\n",
    "      1 day\n",
    "      1 is\n",
    "      1 sunny\n",
    "      3 the\n",
    "      1 sunny\n",
    "      2 is\n",
    "[root@Nagios-Ansible-Srv home]# grep -o -E '\\w+' words.txt | sort| uniq -c\n",
    "      1 day\n",
    "      3 is\n",
    "      2 sunny\n",
    "      4 the\n",
    "[root@Nagios-Ansible-Srv home]# grep -o -E '\\w+' words.txt | sort | uniq -c\n",
    "      1 day\n",
    "      3 is\n",
    "      2 sunny\n",
    "      4 the\n",
    "[root@Nagios-Ansible-Srv home]# \n",
    "[root@Nagios-Ansible-Srv home]# echo -e 'This is suman'\n",
    "This is suman\n",
    "[root@Nagios-Ansible-Srv home]# echo -e 'This \\bis \\bsuman'\n",
    "Thisissuman\n",
    "[root@Nagios-Ansible-Srv home]# echo -e 'This \\nis \\nsuman'\n",
    "This \n",
    "is \n",
    "suman\n",
    "[root@Nagios-Ansible-Srv home]# echo -e 'This \\tis \\tsuman'\n",
    "This \tis \tsuman\n",
    "[root@Nagios-Ansible-Srv home]# touch ABC\n",
    "[root@Nagios-Ansible-Srv home]# ls -l ABC\n",
    "-rw-r--r--. 1 root root 0 Jun 22 20:40 ABC\n",
    "[root@Nagios-Ansible-Srv home]# chmod u=r ABC\n",
    "[root@Nagios-Ansible-Srv home]# ls -l ABC\n",
    "-r--r--r--. 1 root root 0 Jun 22 20:40 ABC\n",
    "[root@Nagios-Ansible-Srv home]# chmod g=w ABC\n",
    "[root@Nagios-Ansible-Srv home]# ls -l ABC\n",
    "-r---w-r--. 1 root root 0 Jun 22 20:40 ABC\n",
    "[root@Nagios-Ansible-Srv home]# chmod o=w ABC\n",
    "[root@Nagios-Ansible-Srv home]# ls -l ABC\n",
    "-r---w--w-. 1 root root 0 Jun 22 20:40 ABC\n",
    "[root@Nagios-Ansible-Srv home]# chmod u=w ABC\n",
    "[root@Nagios-Ansible-Srv home]# ls -l ABC\n",
    "--w--w--w-. 1 root root 0 Jun 22 20:40 ABC\n",
    "[root@Nagios-Ansible-Srv home]# chmod u=rw,go=r ABC \n",
    "[root@Nagios-Ansible-Srv home]# ls -l ABC\n",
    "-rw-r--r--. 1 root root 0 Jun 22 20:40 ABC\n"
   ]
  },
  {
   "cell_type": "markdown",
   "metadata": {},
   "source": [
    "[root@Nagios-Ansible-Srv home]# awk '/sunny/{print }' words.txt \n",
    "the day is sunny the the\n",
    "the sunny is is\n",
    "[root@Nagios-Ansible-Srv home]# awk '/sunny/{print $1}' words.txt \n",
    "the\n",
    "the\n",
    "[root@Nagios-Ansible-Srv home]# awk '/sunny/{print $2}' words.txt \n",
    "day\n",
    "sunny\n",
    "[root@Nagios-Ansible-Srv home]# awk '/sunny/{print $1 $2}' words.txt \n",
    "theday\n",
    "thesunny\n",
    "[root@Nagios-Ansible-Srv home]# awk '/sunny/{print $1 \" \"$2}' words.txt \n",
    "the day\n",
    "the sunny\n",
    "[root@Nagios-Ansible-Srv home]# awk '/sunny/{print $1 \" \"$2 \" \" $4}' words.txt \n",
    "the day sunny\n",
    "the sunny is\n"
   ]
  },
  {
   "cell_type": "markdown",
   "metadata": {},
   "source": [
    "# CHMOD"
   ]
  },
  {
   "cell_type": "markdown",
   "metadata": {},
   "source": [
    "[root@Nagios-Ansible-Srv ~]# chmod 777 A1\n",
    "[root@Nagios-Ansible-Srv ~]# ls -l A1\n",
    "-rwxrwxrwx. 1 root root 14 Jun 22 19:12 A1\n",
    "[root@Nagios-Ansible-Srv ~]# chmod u-r A1\n",
    "[root@Nagios-Ansible-Srv ~]# ls -l A1\n",
    "--wxrwxrwx. 1 root root 14 Jun 22 19:12 A1\n",
    "[root@Nagios-Ansible-Srv ~]# chmod u-w A1\n",
    "[root@Nagios-Ansible-Srv ~]# ls -l A1\n",
    "---xrwxrwx. 1 root root 14 Jun 22 19:12 A1\n",
    "[root@Nagios-Ansible-Srv ~]# chmod u-x A1\n",
    "[root@Nagios-Ansible-Srv ~]# ls -l A1\n",
    "----rwxrwx. 1 root root 14 Jun 22 19:12 A1\n",
    "[root@Nagios-Ansible-Srv ~]# chmod o-r A1\n",
    "[root@Nagios-Ansible-Srv ~]# ls -l A1\n",
    "----rwx-wx. 1 root root 14 Jun 22 19:12 A1\n",
    "[root@Nagios-Ansible-Srv ~]# chmod o-w A1\n",
    "[root@Nagios-Ansible-Srv ~]# ls -l A1\n",
    "----rwx--x. 1 root root 14 Jun 22 19:12 A1\n",
    "[root@Nagios-Ansible-Srv ~]# chmod o-x A1\n",
    "[root@Nagios-Ansible-Srv ~]# ls -l A1\n",
    "----rwx---. 1 root root 14 Jun 22 19:12 A1\n",
    "[root@Nagios-Ansible-Srv ~]# chmod g-g A1\n",
    "[root@Nagios-Ansible-Srv ~]# ls -l A1\n",
    "----------. 1 root root 14 Jun 22 19:12 A1"
   ]
  },
  {
   "cell_type": "markdown",
   "metadata": {},
   "source": [
    "# chmod --reference=old.txt new.txt\n",
    "to copy file permission from one file to another. "
   ]
  },
  {
   "cell_type": "markdown",
   "metadata": {},
   "source": [
    "# You are given  a file called myFile.txt. Write a command which gives read, write and execute permission to the file’s owner, read permissions to the file’s group and no permissions to all other users. \n",
    "[root@Nagios-Ansible-Srv ~]# chmod u=rwx,go=r,o= A1\n",
    "[root@Nagios-Ansible-Srv ~]# ls -l A1\n",
    "-rwxr-----. 1 root root 14 Jun 22 19:12 A1\n"
   ]
  },
  {
   "cell_type": "markdown",
   "metadata": {},
   "source": [
    "# CURL"
   ]
  },
  {
   "cell_type": "code",
   "execution_count": 5,
   "metadata": {},
   "outputs": [
    {
     "name": "stdout",
     "output_type": "stream",
     "text": [
      "\u001b[31mERROR: Could not find a version that satisfies the requirement curl (from versions: none)\u001b[0m\n",
      "\u001b[31mERROR: No matching distribution found for curl\u001b[0m\n",
      "Note: you may need to restart the kernel to use updated packages.\n"
     ]
    }
   ],
   "source": [
    "# curl <URL>###########Only response\n",
    "(base) administrators-MacBook-Pro-2:~ samarthi$ curl http://google.com\n",
    "<HTML><HEAD><meta http-equiv=\"content-type\" content=\"text/html;charset=utf-8\">\n",
    "<TITLE>301 Moved</TITLE></HEAD><BODY>\n",
    "<H1>301 Moved</H1>\n",
    "The document has moved\n",
    "<A HREF=\"http://www.google.com/\">here</A>.\n",
    "</BODY></HTML>\n",
    "\n",
    "#curl -i <URL>#########Header and Response\n",
    "(base) administrators-MacBook-Pro-2:~ samarthi$ curl -i http://google.com\n",
    "HTTP/1.1 301 Moved Permanently\n",
    "Location: http://www.google.com/\n",
    "Content-Type: text/html; charset=UTF-8\n",
    "Date: Sun, 26 Jun 2022 03:45:51 GMT\n",
    "Expires: Tue, 26 Jul 2022 03:45:51 GMT\n",
    "Cache-Control: public, max-age=2592000\n",
    "Server: gws\n",
    "Content-Length: 219\n",
    "X-XSS-Protection: 0\n",
    "X-Frame-Options: SAMEORIGIN\n",
    "\n",
    "<HTML><HEAD><meta http-equiv=\"content-type\" content=\"text/html;charset=utf-8\">\n",
    "<TITLE>301 Moved</TITLE></HEAD><BODY>\n",
    "<H1>301 Moved</H1>\n",
    "The document has moved\n",
    "<A HREF=\"http://www.google.com/\">here</A>.\n",
    "</BODY></HTML>\n",
    "\n",
    "#curl -I <URL>############Only Header\n",
    "(base) administrators-MacBook-Pro-2:~ samarthi$ curl -I http://google.com\n",
    "HTTP/1.1 301 Moved Permanently\n",
    "Location: http://www.google.com/\n",
    "Content-Type: text/html; charset=UTF-8\n",
    "Date: Sun, 26 Jun 2022 03:49:02 GMT\n",
    "Expires: Tue, 26 Jul 2022 03:49:02 GMT\n",
    "Cache-Control: public, max-age=2592000\n",
    "Server: gws\n",
    "Content-Length: 219\n",
    "X-XSS-Protection: 0\n",
    "X-Frame-Options: SAMEORIGIN\n",
    "    \n",
    "#curl --head <URL>############Only Header\n",
    "(base) administrators-MacBook-Pro-2:~ samarthi$ curl --head  http://google.com\n",
    "HTTP/1.1 301 Moved Permanently\n",
    "Location: http://www.google.com/\n",
    "Content-Type: text/html; charset=UTF-8\n",
    "Date: Sun, 26 Jun 2022 03:50:12 GMT\n",
    "Expires: Tue, 26 Jul 2022 03:50:12 GMT\n",
    "Cache-Control: public, max-age=2592000\n",
    "Server: gws\n",
    "Content-Length: 219\n",
    "X-XSS-Protection: 0\n",
    "X-Frame-Options: SAMEORIGIN\n",
    "    \n",
    "#curl -o <filename> <URL>######output to a file\n",
    "(base) administrators-MacBook-Pro-2:~ samarthi$ curl -o abc http://google.com\n",
    "  % Total    % Received % Xferd  Average Speed   Time    Time     Time  Current\n",
    "                                 Dload  Upload   Total   Spent    Left  Speed\n",
    "100   219  100   219    0     0   3369      0 --:--:-- --:--:-- --:--:--  3421\n",
    "(base) administrators-MacBook-Pro-2:~ samarthi$ cat abc \n",
    "<HTML><HEAD><meta http-equiv=\"content-type\" content=\"text/html;charset=utf-8\">\n",
    "<TITLE>301 Moved</TITLE></HEAD><BODY>\n",
    "<H1>301 Moved</H1>\n",
    "The document has moved\n",
    "<A HREF=\"http://www.google.com/\">here</A>.\n",
    "</BODY></HTML>\n",
    "-head\n",
    "\n",
    "#curl -i -X POST \"Accept:application/json\" URL -d <body>\n",
    "(base) administrators-MacBook-Pro-2:~ samarthi$ curl -i -X POST -H \"Accept: application/json\" https://reqres.in/api/users -d \"name:morpheus&job:leader\"\n",
    "HTTP/1.1 201 Created\n",
    "Date: Sun, 26 Jun 2022 04:15:35 GMT\n",
    "Content-Type: application/json; charset=utf-8\n",
    "Content-Length: 86\n",
    "Connection: keep-alive\n",
    "X-Powered-By: Express\n",
    "Access-Control-Allow-Origin: *\n",
    "Etag: W/\"56-spnILRfEGm4+evhAd6hlsteK+jo\"\n",
    "Via: 1.1 vegur\n",
    "CF-Cache-Status: DYNAMIC\n",
    "Expect-CT: max-age=604800, report-uri=\"https://report-uri.cloudflare.com/cdn-cgi/beacon/expect-ct\"\n",
    "Report-To: {\"endpoints\":[{\"url\":\"https:\\/\\/a.nel.cloudflare.com\\/report\\/v3?s=5%2B2YZj28wKgp%2FaG7BInOhyV4o3C7c4pWdQndf%2BeLOFIBM5fsJtfLeOYCSJzK6BU037%2FL3DosZnLDjpAIXj7BjJ5lwDLqq68dmkJ0OQ8LmdrmQ1gPgtw7KQ1a%2Bw%3D%3D\"}],\"group\":\"cf-nel\",\"max_age\":604800}\n",
    "NEL: {\"success_fraction\":0,\"report_to\":\"cf-nel\",\"max_age\":604800}\n",
    "Server: cloudflare\n",
    "CF-RAY: 72131f619a7f3c06-BLR\n",
    "    \n",
    "    \n",
    "#curl -X POST \"Accept:application/json\" URL -d <body>####With out -i is gives only response with out headers \n",
    "(base) administrators-MacBook-Pro-2:~ samarthi$ curl -X POST -H \"Accept: application/json\" https://reqres.in/api/users -d \"name:morpheus&job:leader\"\n",
    "{\"name:morpheus\":\"\",\"job:leader\":\"\",\"id\":\"646\",\"createdAt\":\"2022-06-26T04:19:31.999Z\"}(base) administrators-MacBook-Pro-2:~ samarthi$ \n",
    "\n",
    "\n",
    "    \n",
    "#curl -i -X PUT <URL> -d <body>#####using -i \n",
    "#curl -X PUT <URL> -d <body>######with -i\n",
    "(base) administrators-MacBook-Pro-2:~ samarthi$ curl  -X PUT https://reqres.in/api/users/2 -d \"name:suman&job:Umresident\"\n",
    "{\"name:suman\":\"\",\"job:Umresident\":\"\",\"updatedAt\":\"2022-06-26T04:24:48.745Z\"}(base) administrators-MacBook-Pro-2:~ samarthi$ \n",
    "(base) administrators-MacBook-Pro-2:~ samarthi$ curl -i -X PUT https://reqres.in/api/users/2 -d \"name:suman&job:Umresident\"\n",
    "HTTP/1.1 200 OK\n",
    "Date: Sun, 26 Jun 2022 04:24:52 GMT\n",
    "Content-Type: application/json; charset=utf-8\n",
    "Content-Length: 76\n",
    "Connection: keep-alive\n",
    "X-Powered-By: Express\n",
    "Access-Control-Allow-Origin: *\n",
    "Etag: W/\"4c-ZZhsZ16Y9GuZOLgSRAKxmSrNiNY\"\n",
    "Via: 1.1 vegur\n",
    "CF-Cache-Status: DYNAMIC\n",
    "Expect-CT: max-age=604800, report-uri=\"https://report-uri.cloudflare.com/cdn-cgi/beacon/expect-ct\"\n",
    "Report-To: {\"endpoints\":[{\"url\":\"https:\\/\\/a.nel.cloudflare.com\\/report\\/v3?s=rqZKfXmwYcEeCXe%2FR%2F4ewCCZCd6Lsof76n3T5uSHvMfSgISyMd5goDIv9UzVWQBjVp5XaRkYTIMHQX%2BI9vssk1hGePBZKi4BGvz7Rv6EQmHnAlZu1llOReCPMQ%3D%3D\"}],\"group\":\"cf-nel\",\"max_age\":604800}\n",
    "NEL: {\"success_fraction\":0,\"report_to\":\"cf-nel\",\"max_age\":604800}\n",
    "Server: cloudflare\n",
    "CF-RAY: 72132cfe498a83f5-BLR\n",
    "\n",
    "#curl -i -X DELETE <URL>  \n",
    "(base) administrators-MacBook-Pro-2:~ samarthi$ curl -i -X DELETE https://reqres.in/api/users/2\n",
    "HTTP/1.1 204 No Content\n",
    "Date: Sun, 26 Jun 2022 04:28:07 GMT\n",
    "Content-Length: 0\n",
    "Connection: keep-alive\n",
    "X-Powered-By: Express\n",
    "Access-Control-Allow-Origin: *\n",
    "Etag: W/\"2-vyGp6PvFo4RvsFtPoIWeCReyIC8\"\n",
    "Via: 1.1 vegur\n",
    "CF-Cache-Status: DYNAMIC\n",
    "Expect-CT: max-age=604800, report-uri=\"https://report-uri.cloudflare.com/cdn-cgi/beacon/expect-ct\"\n",
    "Report-To: {\"endpoints\":[{\"url\":\"https:\\/\\/a.nel.cloudflare.com\\/report\\/v3?s=Pbd1KuyKxVf7cyIAHQblR65ilX%2B9g9rtasNg2qEQ84S1WVrsqtZMSNnh6XJY4bvcg5MkG%2FaDzMUPKKBOEJ6XiEn%2BH7LOsVqTgWp%2FFZsE0VL8GYgGj6AEdWfaPA%3D%3D\"}],\"group\":\"cf-nel\",\"max_age\":604800}\n",
    "NEL: {\"success_fraction\":0,\"report_to\":\"cf-nel\",\"max_age\":604800}\n",
    "Server: cloudflare\n",
    "CF-RAY: 721331be9d3d3c07-BLR\n",
    "\n",
    "(base) administrators-MacBook-Pro-2:~ samarthi$ curl -X DELETE https://reqres.in/api/users/2\n",
    "(base) administrators-MacBook-Pro-2:~ samarthi$ \n",
    "\n",
    "\n"
   ]
  },
  {
   "cell_type": "code",
   "execution_count": 6,
   "metadata": {},
   "outputs": [],
   "source": [
    "s= {\"page\":1,\"per_page\":6,\"total\":12,\"total_pages\":2,\"data\":[{\"id\":1,\"name\":\"cerulean\",\"year\":2000,\"color\":\"#98B2D1\",\"pantone_value\":\"15-4020\"},{\"id\":2,\"name\":\"fuchsia rose\",\"year\":2001,\"color\":\"#C74375\",\"pantone_value\":\"17-2031\"},{\"id\":3,\"name\":\"true red\",\"year\":2002,\"color\":\"#BF1932\",\"pantone_value\":\"19-1664\"},{\"id\":4,\"name\":\"aqua sky\",\"year\":2003,\"color\":\"#7BC4C4\",\"pantone_value\":\"14-4811\"},{\"id\":5,\"name\":\"tigerlily\",\"year\":2004,\"color\":\"#E2583E\",\"pantone_value\":\"17-1456\"},{\"id\":6,\"name\":\"blue turquoise\",\"year\":2005,\"color\":\"#53B0AE\",\"pantone_value\":\"15-5217\"}],\"support\":{\"url\":\"https://reqres.in/#support-heading\",\"text\":\"To keep ReqRes free, contributions towards server costs are appreciated!\"}}\n"
   ]
  },
  {
   "cell_type": "code",
   "execution_count": 9,
   "metadata": {},
   "outputs": [
    {
     "ename": "KeyError",
     "evalue": "'content'",
     "output_type": "error",
     "traceback": [
      "\u001b[0;31m---------------------------------------------------------------------------\u001b[0m",
      "\u001b[0;31mKeyError\u001b[0m                                  Traceback (most recent call last)",
      "\u001b[0;32m<ipython-input-9-e45907536cd0>\u001b[0m in \u001b[0;36m<module>\u001b[0;34m\u001b[0m\n\u001b[0;32m----> 1\u001b[0;31m \u001b[0ms\u001b[0m\u001b[0;34m[\u001b[0m\u001b[0;34m'content'\u001b[0m\u001b[0;34m]\u001b[0m\u001b[0;34m\u001b[0m\u001b[0;34m\u001b[0m\u001b[0m\n\u001b[0m",
      "\u001b[0;31mKeyError\u001b[0m: 'content'"
     ]
    }
   ],
   "source": [
    "s['content']"
   ]
  },
  {
   "cell_type": "markdown",
   "metadata": {},
   "source": [
    "# Networking Commands"
   ]
  },
  {
   "cell_type": "markdown",
   "metadata": {},
   "source": [
    "#dig\n",
    "(base) administrators-MacBook-Pro-2:Downloads samarthi$ dig google.com\n",
    "\n",
    "; <<>> DiG 9.10.6 <<>> google.com\n",
    ";; global options: +cmd\n",
    ";; Got answer:\n",
    ";; ->>HEADER<<- opcode: QUERY, status: NOERROR, id: 60711\n",
    ";; flags: qr rd ra; QUERY: 1, ANSWER: 1, AUTHORITY: 0, ADDITIONAL: 1\n",
    "\n",
    ";; OPT PSEUDOSECTION:\n",
    "; EDNS: version: 0, flags:; udp: 4000\n",
    ";; QUESTION SECTION:\n",
    ";google.com.\t\t\tIN\tA\n",
    "\n",
    ";; ANSWER SECTION:\n",
    "google.com.\t\t164\tIN\tA\t142.250.76.78\n",
    "\n",
    ";; Query time: 17 msec\n",
    ";; SERVER: 10.20.50.25#53(10.20.50.25)\n",
    ";; WHEN: Mon Jun 27 23:42:52 IST 2022\n",
    ";; MSG SIZE  rcvd: 55\n",
    "\n",
    "(base) administrators-MacBook-Pro-2:Downloads samarthi$ dig google.com +short\n",
    "142.250.76.78\n"
   ]
  },
  {
   "cell_type": "markdown",
   "metadata": {},
   "source": [
    "# at"
   ]
  },
  {
   "cell_type": "code",
   "execution_count": null,
   "metadata": {},
   "outputs": [],
   "source": [
    "# execute all jobs\n",
    "at -l\n",
    "\n",
    "# From tuesdya process job every 20minutes\n",
    "at Tuesday + 20mins\n",
    "\n",
    "# Specific time and date\n",
    "at 11:50 06272022 \n",
    "\n",
    "# 2pm after 6days\n",
    "at 2pm + 6days\n",
    "\n",
    "#From now after 5hrs\n",
    "at now + 5 hours "
   ]
  }
 ],
 "metadata": {
  "kernelspec": {
   "display_name": "Python 3",
   "language": "python",
   "name": "python3"
  },
  "language_info": {
   "codemirror_mode": {
    "name": "ipython",
    "version": 3
   },
   "file_extension": ".py",
   "mimetype": "text/x-python",
   "name": "python",
   "nbconvert_exporter": "python",
   "pygments_lexer": "ipython3",
   "version": "3.8.3"
  }
 },
 "nbformat": 4,
 "nbformat_minor": 4
}
